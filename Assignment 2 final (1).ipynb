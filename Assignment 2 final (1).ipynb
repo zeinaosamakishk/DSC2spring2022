{
 "cells": [
  {
   "cell_type": "markdown",
   "id": "64424817",
   "metadata": {},
   "source": [
    "# PART 1"
   ]
  },
  {
   "cell_type": "markdown",
   "id": "7f564657",
   "metadata": {},
   "source": [
    "In this exercise, im going to analyze England, Argentina and France's performance based on winning/losing in football using the results dataset for two different cases:\n",
    " 1) Whether they are playing a friendly or official match\n",
    " 2) Whether they are playing home or away. \n",
    "I will do this by getting the 95% confidence intervals and computing graphs and tables.\n",
    "After figuruing it out, i will then try to analyze whether these 2 factors influence the three countries performance."
   ]
  },
  {
   "cell_type": "markdown",
   "id": "ff5dacb7",
   "metadata": {},
   "source": [
    "I chose these 3 countries since they are known for there strong football team so analyzing them would be interesting."
   ]
  },
  {
   "cell_type": "code",
   "execution_count": 91,
   "id": "8999501a",
   "metadata": {},
   "outputs": [],
   "source": [
    "import pandas as pd\n",
    "import numpy as np"
   ]
  },
  {
   "cell_type": "code",
   "execution_count": 39,
   "id": "cb167fb7",
   "metadata": {},
   "outputs": [],
   "source": [
    "df=pd.read_csv('results.csv')"
   ]
  },
  {
   "cell_type": "markdown",
   "id": "7e536645",
   "metadata": {},
   "source": [
    "I am going to add a new column that shows the result (win/lose/draw)"
   ]
  },
  {
   "cell_type": "code",
   "execution_count": 40,
   "id": "2e2915d3",
   "metadata": {},
   "outputs": [],
   "source": [
    "x=df['home_score']-df['away_score']\n",
    "conditions = [\n",
    "    (x<0),\n",
    "    (x>0),\n",
    "    (x==0)\n",
    "    ]"
   ]
  },
  {
   "cell_type": "code",
   "execution_count": 41,
   "id": "0527b8f0",
   "metadata": {},
   "outputs": [],
   "source": [
    "values= ['win','lose','draw']\n",
    "df['result'] = np.select(conditions, values)"
   ]
  },
  {
   "cell_type": "code",
   "execution_count": 42,
   "id": "feb2f76d",
   "metadata": {},
   "outputs": [
    {
     "data": {
      "text/html": [
       "<div>\n",
       "<style scoped>\n",
       "    .dataframe tbody tr th:only-of-type {\n",
       "        vertical-align: middle;\n",
       "    }\n",
       "\n",
       "    .dataframe tbody tr th {\n",
       "        vertical-align: top;\n",
       "    }\n",
       "\n",
       "    .dataframe thead th {\n",
       "        text-align: right;\n",
       "    }\n",
       "</style>\n",
       "<table border=\"1\" class=\"dataframe\">\n",
       "  <thead>\n",
       "    <tr style=\"text-align: right;\">\n",
       "      <th></th>\n",
       "      <th>date</th>\n",
       "      <th>home_team</th>\n",
       "      <th>away_team</th>\n",
       "      <th>home_score</th>\n",
       "      <th>away_score</th>\n",
       "      <th>tournament</th>\n",
       "      <th>city</th>\n",
       "      <th>country</th>\n",
       "      <th>neutral</th>\n",
       "      <th>result</th>\n",
       "    </tr>\n",
       "  </thead>\n",
       "  <tbody>\n",
       "    <tr>\n",
       "      <th>0</th>\n",
       "      <td>1872-11-30</td>\n",
       "      <td>Scotland</td>\n",
       "      <td>England</td>\n",
       "      <td>0</td>\n",
       "      <td>0</td>\n",
       "      <td>Friendly</td>\n",
       "      <td>Glasgow</td>\n",
       "      <td>Scotland</td>\n",
       "      <td>False</td>\n",
       "      <td>draw</td>\n",
       "    </tr>\n",
       "    <tr>\n",
       "      <th>1</th>\n",
       "      <td>1873-03-08</td>\n",
       "      <td>England</td>\n",
       "      <td>Scotland</td>\n",
       "      <td>4</td>\n",
       "      <td>2</td>\n",
       "      <td>Friendly</td>\n",
       "      <td>London</td>\n",
       "      <td>England</td>\n",
       "      <td>False</td>\n",
       "      <td>lose</td>\n",
       "    </tr>\n",
       "    <tr>\n",
       "      <th>2</th>\n",
       "      <td>1874-03-07</td>\n",
       "      <td>Scotland</td>\n",
       "      <td>England</td>\n",
       "      <td>2</td>\n",
       "      <td>1</td>\n",
       "      <td>Friendly</td>\n",
       "      <td>Glasgow</td>\n",
       "      <td>Scotland</td>\n",
       "      <td>False</td>\n",
       "      <td>lose</td>\n",
       "    </tr>\n",
       "    <tr>\n",
       "      <th>3</th>\n",
       "      <td>1875-03-06</td>\n",
       "      <td>England</td>\n",
       "      <td>Scotland</td>\n",
       "      <td>2</td>\n",
       "      <td>2</td>\n",
       "      <td>Friendly</td>\n",
       "      <td>London</td>\n",
       "      <td>England</td>\n",
       "      <td>False</td>\n",
       "      <td>draw</td>\n",
       "    </tr>\n",
       "  </tbody>\n",
       "</table>\n",
       "</div>"
      ],
      "text/plain": [
       "         date home_team away_team  home_score  away_score tournament     city  \\\n",
       "0  1872-11-30  Scotland   England           0           0   Friendly  Glasgow   \n",
       "1  1873-03-08   England  Scotland           4           2   Friendly   London   \n",
       "2  1874-03-07  Scotland   England           2           1   Friendly  Glasgow   \n",
       "3  1875-03-06   England  Scotland           2           2   Friendly   London   \n",
       "\n",
       "    country  neutral result  \n",
       "0  Scotland    False   draw  \n",
       "1   England    False   lose  \n",
       "2  Scotland    False   lose  \n",
       "3   England    False   draw  "
      ]
     },
     "execution_count": 42,
     "metadata": {},
     "output_type": "execute_result"
    }
   ],
   "source": [
    "df.head(4)"
   ]
  },
  {
   "cell_type": "markdown",
   "id": "c19d343f",
   "metadata": {},
   "source": [
    "Now let's select three different popular countries and observe their probability for winning and losing in reponse to being away/home or playing an official/friendly matches"
   ]
  },
  {
   "cell_type": "markdown",
   "id": "7b971903",
   "metadata": {},
   "source": [
    "# ENGLAND"
   ]
  },
  {
   "cell_type": "markdown",
   "id": "46a08c0f",
   "metadata": {},
   "source": [
    "For England, lets observe their probability to win for both Friendly and Official matches:"
   ]
  },
  {
   "cell_type": "code",
   "execution_count": 43,
   "id": "b6a10b1d",
   "metadata": {},
   "outputs": [],
   "source": [
    "eng=df[df['country']=='England']"
   ]
  },
  {
   "cell_type": "code",
   "execution_count": 44,
   "id": "9886e67f",
   "metadata": {},
   "outputs": [
    {
     "data": {
      "text/html": [
       "<div>\n",
       "<style scoped>\n",
       "    .dataframe tbody tr th:only-of-type {\n",
       "        vertical-align: middle;\n",
       "    }\n",
       "\n",
       "    .dataframe tbody tr th {\n",
       "        vertical-align: top;\n",
       "    }\n",
       "\n",
       "    .dataframe thead th {\n",
       "        text-align: right;\n",
       "    }\n",
       "</style>\n",
       "<table border=\"1\" class=\"dataframe\">\n",
       "  <thead>\n",
       "    <tr style=\"text-align: right;\">\n",
       "      <th></th>\n",
       "      <th>date</th>\n",
       "      <th>home_team</th>\n",
       "      <th>away_team</th>\n",
       "      <th>home_score</th>\n",
       "      <th>away_score</th>\n",
       "      <th>tournament</th>\n",
       "      <th>city</th>\n",
       "      <th>country</th>\n",
       "      <th>neutral</th>\n",
       "      <th>result</th>\n",
       "    </tr>\n",
       "  </thead>\n",
       "  <tbody>\n",
       "    <tr>\n",
       "      <th>1</th>\n",
       "      <td>1873-03-08</td>\n",
       "      <td>England</td>\n",
       "      <td>Scotland</td>\n",
       "      <td>4</td>\n",
       "      <td>2</td>\n",
       "      <td>Friendly</td>\n",
       "      <td>London</td>\n",
       "      <td>England</td>\n",
       "      <td>False</td>\n",
       "      <td>lose</td>\n",
       "    </tr>\n",
       "    <tr>\n",
       "      <th>3</th>\n",
       "      <td>1875-03-06</td>\n",
       "      <td>England</td>\n",
       "      <td>Scotland</td>\n",
       "      <td>2</td>\n",
       "      <td>2</td>\n",
       "      <td>Friendly</td>\n",
       "      <td>London</td>\n",
       "      <td>England</td>\n",
       "      <td>False</td>\n",
       "      <td>draw</td>\n",
       "    </tr>\n",
       "    <tr>\n",
       "      <th>6</th>\n",
       "      <td>1877-03-03</td>\n",
       "      <td>England</td>\n",
       "      <td>Scotland</td>\n",
       "      <td>1</td>\n",
       "      <td>3</td>\n",
       "      <td>Friendly</td>\n",
       "      <td>London</td>\n",
       "      <td>England</td>\n",
       "      <td>False</td>\n",
       "      <td>win</td>\n",
       "    </tr>\n",
       "    <tr>\n",
       "      <th>10</th>\n",
       "      <td>1879-01-18</td>\n",
       "      <td>England</td>\n",
       "      <td>Wales</td>\n",
       "      <td>2</td>\n",
       "      <td>1</td>\n",
       "      <td>Friendly</td>\n",
       "      <td>London</td>\n",
       "      <td>England</td>\n",
       "      <td>False</td>\n",
       "      <td>lose</td>\n",
       "    </tr>\n",
       "  </tbody>\n",
       "</table>\n",
       "</div>"
      ],
      "text/plain": [
       "          date home_team away_team  home_score  away_score tournament    city  \\\n",
       "1   1873-03-08   England  Scotland           4           2   Friendly  London   \n",
       "3   1875-03-06   England  Scotland           2           2   Friendly  London   \n",
       "6   1877-03-03   England  Scotland           1           3   Friendly  London   \n",
       "10  1879-01-18   England     Wales           2           1   Friendly  London   \n",
       "\n",
       "    country  neutral result  \n",
       "1   England    False   lose  \n",
       "3   England    False   draw  \n",
       "6   England    False    win  \n",
       "10  England    False   lose  "
      ]
     },
     "execution_count": 44,
     "metadata": {},
     "output_type": "execute_result"
    }
   ],
   "source": [
    "eng.head(4)"
   ]
  },
  {
   "cell_type": "markdown",
   "id": "bc487781",
   "metadata": {},
   "source": [
    "I will filter the tournmanets into two sections either friendly matches or official matches:"
   ]
  },
  {
   "cell_type": "code",
   "execution_count": 45,
   "id": "f3753fad",
   "metadata": {},
   "outputs": [],
   "source": [
    "conditions= [\n",
    "    (eng['tournament']=='Friendly'),\n",
    "    (eng['tournament']!='Friendly')\n",
    "]"
   ]
  },
  {
   "cell_type": "code",
   "execution_count": 46,
   "id": "44fa1cd0",
   "metadata": {},
   "outputs": [],
   "source": [
    "values=['Friendly','Official']"
   ]
  },
  {
   "cell_type": "code",
   "execution_count": 47,
   "id": "f0fe2527",
   "metadata": {},
   "outputs": [
    {
     "name": "stderr",
     "output_type": "stream",
     "text": [
      "C:\\Users\\user\\AppData\\Local\\Temp/ipykernel_89840/234736558.py:1: SettingWithCopyWarning: \n",
      "A value is trying to be set on a copy of a slice from a DataFrame.\n",
      "Try using .loc[row_indexer,col_indexer] = value instead\n",
      "\n",
      "See the caveats in the documentation: https://pandas.pydata.org/pandas-docs/stable/user_guide/indexing.html#returning-a-view-versus-a-copy\n",
      "  eng['typeofmatch'] = np.select(conditions, values)\n"
     ]
    }
   ],
   "source": [
    "eng['typeofmatch'] = np.select(conditions, values)"
   ]
  },
  {
   "cell_type": "code",
   "execution_count": 48,
   "id": "5c80d15e",
   "metadata": {},
   "outputs": [
    {
     "data": {
      "text/plain": [
       "Official    431\n",
       "Friendly    286\n",
       "Name: typeofmatch, dtype: int64"
      ]
     },
     "execution_count": 48,
     "metadata": {},
     "output_type": "execute_result"
    }
   ],
   "source": [
    "eng['typeofmatch'].value_counts()"
   ]
  },
  {
   "cell_type": "markdown",
   "id": "52ec9d1e",
   "metadata": {},
   "source": [
    "Now lets compare Confidence Intervals for England to win or lose in both friendly and official matches to know England's performance"
   ]
  },
  {
   "cell_type": "code",
   "execution_count": 49,
   "id": "43da16ba",
   "metadata": {},
   "outputs": [
    {
     "data": {
      "text/html": [
       "<div>\n",
       "<style scoped>\n",
       "    .dataframe tbody tr th:only-of-type {\n",
       "        vertical-align: middle;\n",
       "    }\n",
       "\n",
       "    .dataframe tbody tr th {\n",
       "        vertical-align: top;\n",
       "    }\n",
       "\n",
       "    .dataframe thead th {\n",
       "        text-align: right;\n",
       "    }\n",
       "</style>\n",
       "<table border=\"1\" class=\"dataframe\">\n",
       "  <thead>\n",
       "    <tr style=\"text-align: right;\">\n",
       "      <th>result</th>\n",
       "      <th>draw</th>\n",
       "      <th>lose</th>\n",
       "      <th>win</th>\n",
       "      <th>All</th>\n",
       "    </tr>\n",
       "    <tr>\n",
       "      <th>typeofmatch</th>\n",
       "      <th></th>\n",
       "      <th></th>\n",
       "      <th></th>\n",
       "      <th></th>\n",
       "    </tr>\n",
       "  </thead>\n",
       "  <tbody>\n",
       "    <tr>\n",
       "      <th>Friendly</th>\n",
       "      <td>72</td>\n",
       "      <td>156</td>\n",
       "      <td>58</td>\n",
       "      <td>286</td>\n",
       "    </tr>\n",
       "    <tr>\n",
       "      <th>Official</th>\n",
       "      <td>84</td>\n",
       "      <td>259</td>\n",
       "      <td>88</td>\n",
       "      <td>431</td>\n",
       "    </tr>\n",
       "    <tr>\n",
       "      <th>All</th>\n",
       "      <td>156</td>\n",
       "      <td>415</td>\n",
       "      <td>146</td>\n",
       "      <td>717</td>\n",
       "    </tr>\n",
       "  </tbody>\n",
       "</table>\n",
       "</div>"
      ],
      "text/plain": [
       "result       draw  lose  win  All\n",
       "typeofmatch                      \n",
       "Friendly       72   156   58  286\n",
       "Official       84   259   88  431\n",
       "All           156   415  146  717"
      ]
     },
     "execution_count": 49,
     "metadata": {},
     "output_type": "execute_result"
    }
   ],
   "source": [
    "x=pd.crosstab(eng['typeofmatch'],eng['result'],margins=True)\n",
    "x"
   ]
  },
  {
   "cell_type": "code",
   "execution_count": 50,
   "id": "7cf8bca4",
   "metadata": {},
   "outputs": [
    {
     "data": {
      "text/plain": [
       "array([[ 72, 156,  58, 286],\n",
       "       [ 84, 259,  88, 431],\n",
       "       [156, 415, 146, 717]], dtype=int64)"
      ]
     },
     "execution_count": 50,
     "metadata": {},
     "output_type": "execute_result"
    }
   ],
   "source": [
    "x=np.array(x)\n",
    "x"
   ]
  },
  {
   "cell_type": "markdown",
   "id": "5003a1cd",
   "metadata": {},
   "source": [
    "Confidence Interval for England to win in friendly matches:"
   ]
  },
  {
   "cell_type": "code",
   "execution_count": 58,
   "id": "18d2ea9e",
   "metadata": {},
   "outputs": [],
   "source": [
    "import statsmodels.api as sm\n",
    "from statsmodels.stats.proportion import proportion_confint"
   ]
  },
  {
   "cell_type": "code",
   "execution_count": 52,
   "id": "66c8d5ec",
   "metadata": {},
   "outputs": [
    {
     "data": {
      "text/plain": [
       "(0.15619778812633506, 0.24939661746807051)"
      ]
     },
     "execution_count": 52,
     "metadata": {},
     "output_type": "execute_result"
    }
   ],
   "source": [
    "CI_engwin_friendly=proportion_confint(count=x[0,2],nobs=x[0,3],alpha=(1-.95))\n",
    "CI_engwin_friendly\n",
    "                          "
   ]
  },
  {
   "cell_type": "markdown",
   "id": "ab0da609",
   "metadata": {},
   "source": [
    "Confidence Interval for England to win in official matches:"
   ]
  },
  {
   "cell_type": "code",
   "execution_count": 53,
   "id": "ee7b6a98",
   "metadata": {},
   "outputs": [
    {
     "data": {
      "text/plain": [
       "(0.1661205581281346, 0.24223211008532247)"
      ]
     },
     "execution_count": 53,
     "metadata": {},
     "output_type": "execute_result"
    }
   ],
   "source": [
    "CI_engwin_official=proportion_confint(count=x[1,2],nobs=x[1,3],alpha=(1-.95))\n",
    "CI_engwin_official"
   ]
  },
  {
   "cell_type": "markdown",
   "id": "0356c67d",
   "metadata": {},
   "source": [
    "Confidence Interval to win in friendly matches against win in official matches for England"
   ]
  },
  {
   "cell_type": "code",
   "execution_count": 54,
   "id": "8c6642cc",
   "metadata": {},
   "outputs": [
    {
     "data": {
      "text/html": [
       "<div>\n",
       "<style scoped>\n",
       "    .dataframe tbody tr th:only-of-type {\n",
       "        vertical-align: middle;\n",
       "    }\n",
       "\n",
       "    .dataframe tbody tr th {\n",
       "        vertical-align: top;\n",
       "    }\n",
       "\n",
       "    .dataframe thead th {\n",
       "        text-align: right;\n",
       "    }\n",
       "</style>\n",
       "<table border=\"1\" class=\"dataframe\">\n",
       "  <thead>\n",
       "    <tr style=\"text-align: right;\">\n",
       "      <th></th>\n",
       "      <th>typeofmatch</th>\n",
       "      <th>lb</th>\n",
       "      <th>ub</th>\n",
       "    </tr>\n",
       "  </thead>\n",
       "  <tbody>\n",
       "    <tr>\n",
       "      <th>0</th>\n",
       "      <td>Friendly</td>\n",
       "      <td>0.156198</td>\n",
       "      <td>0.249397</td>\n",
       "    </tr>\n",
       "    <tr>\n",
       "      <th>1</th>\n",
       "      <td>Official</td>\n",
       "      <td>0.166121</td>\n",
       "      <td>0.242232</td>\n",
       "    </tr>\n",
       "  </tbody>\n",
       "</table>\n",
       "</div>"
      ],
      "text/plain": [
       "  typeofmatch        lb        ub\n",
       "0    Friendly  0.156198  0.249397\n",
       "1    Official  0.166121  0.242232"
      ]
     },
     "execution_count": 54,
     "metadata": {},
     "output_type": "execute_result"
    }
   ],
   "source": [
    "ci_engwin = {}\n",
    "ci_engwin['typeofmatch'] = ['Friendly','Official']\n",
    "ci_engwin['lb'] = [CI_engwin_friendly[0],CI_engwin_official[0]]\n",
    "ci_engwin['ub'] = [CI_engwin_friendly[1],CI_engwin_official[1]]\n",
    "df_ci= pd.DataFrame(ci_engwin)\n",
    "df_ci"
   ]
  },
  {
   "cell_type": "code",
   "execution_count": 55,
   "id": "e633f310",
   "metadata": {},
   "outputs": [
    {
     "data": {
      "text/plain": [
       "([<matplotlib.axis.YTick at 0x23f83722be0>,\n",
       "  <matplotlib.axis.YTick at 0x23f83722460>],\n",
       " [Text(0, 0, 'Friendly'), Text(0, 1, 'Official')])"
      ]
     },
     "execution_count": 55,
     "metadata": {},
     "output_type": "execute_result"
    },
    {
     "data": {
      "image/png": "[encoded data removed]",
      "text/plain": [
       "<Figure size 432x288 with 1 Axes>"
      ]
     },
     "metadata": {
      "needs_background": "light"
     },
     "output_type": "display_data"
    }
   ],
   "source": [
    "import matplotlib.pyplot as plt\n",
    "for lb,ub,y in zip(df_ci['lb'],df_ci['ub'],range(len(df_ci))):\n",
    "    plt.plot((lb,ub),(y,y),'ro-')\n",
    "plt.yticks(range(len(df_ci)),list(df_ci['typeofmatch']))"
   ]
  },
  {
   "cell_type": "markdown",
   "id": "cf360900",
   "metadata": {},
   "source": [
    "We can see from the graph above that confidence level interval for both friendly and official are very similar with no big difference which indicates that England's performance to win is not really affected by the type of tournament."
   ]
  },
  {
   "cell_type": "markdown",
   "id": "5bb90972",
   "metadata": {},
   "source": [
    "Now for England, lets observe their probability to lose for both Friendly and Official matches:"
   ]
  },
  {
   "cell_type": "markdown",
   "id": "203fc99f",
   "metadata": {},
   "source": [
    "Confidence Interval for England to lose in friendly matches:"
   ]
  },
  {
   "cell_type": "code",
   "execution_count": 56,
   "id": "6fcdc646",
   "metadata": {},
   "outputs": [
    {
     "data": {
      "text/plain": [
       "(0.48774694494485304, 0.6031621459642378)"
      ]
     },
     "execution_count": 56,
     "metadata": {},
     "output_type": "execute_result"
    }
   ],
   "source": [
    "CI_englose_friendly=proportion_confint(count=x[0,1],nobs=x[0,3],alpha=(1-.95))\n",
    "CI_englose_friendly"
   ]
  },
  {
   "cell_type": "markdown",
   "id": "909e2123",
   "metadata": {},
   "source": [
    "Confidence Interval for England to lose in official matches:"
   ]
  },
  {
   "cell_type": "code",
   "execution_count": 57,
   "id": "3176f479",
   "metadata": {},
   "outputs": [
    {
     "data": {
      "text/plain": [
       "(0.5546956899682828, 0.6471604585235965)"
      ]
     },
     "execution_count": 57,
     "metadata": {},
     "output_type": "execute_result"
    }
   ],
   "source": [
    "CI_englose_official=proportion_confint(count=x[1,1],nobs=x[1,3],alpha=(1-.95))\n",
    "CI_englose_official"
   ]
  },
  {
   "cell_type": "markdown",
   "id": "44d2dd8c",
   "metadata": {},
   "source": [
    "Confidence Interval to lose in friendly matches against lose in official matches for England:"
   ]
  },
  {
   "cell_type": "code",
   "execution_count": 58,
   "id": "4aff5a05",
   "metadata": {},
   "outputs": [
    {
     "data": {
      "text/html": [
       "<div>\n",
       "<style scoped>\n",
       "    .dataframe tbody tr th:only-of-type {\n",
       "        vertical-align: middle;\n",
       "    }\n",
       "\n",
       "    .dataframe tbody tr th {\n",
       "        vertical-align: top;\n",
       "    }\n",
       "\n",
       "    .dataframe thead th {\n",
       "        text-align: right;\n",
       "    }\n",
       "</style>\n",
       "<table border=\"1\" class=\"dataframe\">\n",
       "  <thead>\n",
       "    <tr style=\"text-align: right;\">\n",
       "      <th></th>\n",
       "      <th>typeofmatch</th>\n",
       "      <th>lb</th>\n",
       "      <th>ub</th>\n",
       "    </tr>\n",
       "  </thead>\n",
       "  <tbody>\n",
       "    <tr>\n",
       "      <th>0</th>\n",
       "      <td>Friendly</td>\n",
       "      <td>0.487747</td>\n",
       "      <td>0.603162</td>\n",
       "    </tr>\n",
       "    <tr>\n",
       "      <th>1</th>\n",
       "      <td>Official</td>\n",
       "      <td>0.166121</td>\n",
       "      <td>0.242232</td>\n",
       "    </tr>\n",
       "  </tbody>\n",
       "</table>\n",
       "</div>"
      ],
      "text/plain": [
       "  typeofmatch        lb        ub\n",
       "0    Friendly  0.487747  0.603162\n",
       "1    Official  0.166121  0.242232"
      ]
     },
     "execution_count": 58,
     "metadata": {},
     "output_type": "execute_result"
    }
   ],
   "source": [
    "ci_englose = {}\n",
    "ci_englose['typeofmatch'] = ['Friendly','Official']\n",
    "ci_englose['lb'] = [CI_englose_friendly[0],CI_engwin_official[0]]\n",
    "ci_englose['ub'] = [CI_englose_friendly[1],CI_engwin_official[1]]\n",
    "df_ci= pd.DataFrame(ci_englose)\n",
    "df_ci"
   ]
  },
  {
   "cell_type": "code",
   "execution_count": 59,
   "id": "a9c3d796",
   "metadata": {},
   "outputs": [
    {
     "data": {
      "text/plain": [
       "([<matplotlib.axis.YTick at 0x23f837816a0>,\n",
       "  <matplotlib.axis.YTick at 0x23f83776f10>],\n",
       " [Text(0, 0, 'Friendly'), Text(0, 1, 'Official')])"
      ]
     },
     "execution_count": 59,
     "metadata": {},
     "output_type": "execute_result"
    },
    {
     "data": {
      "image/png": "[encoded data removed]",
      "text/plain": [
       "<Figure size 432x288 with 1 Axes>"
      ]
     },
     "metadata": {
      "needs_background": "light"
     },
     "output_type": "display_data"
    }
   ],
   "source": [
    "import matplotlib.pyplot as plt\n",
    "for lb,ub,y in zip(df_ci['lb'],df_ci['ub'],range(len(df_ci))):\n",
    "    plt.plot((lb,ub),(y,y),'ro-')\n",
    "plt.yticks(range(len(df_ci)),list(df_ci['typeofmatch']))"
   ]
  },
  {
   "cell_type": "markdown",
   "id": "c70f628f",
   "metadata": {},
   "source": [
    "We can see from the graph above that confidence level intervals for both friendly and official are very similar with only a slight difference which indicates that England's performance to lose is not really affected by the type of tournament."
   ]
  },
  {
   "cell_type": "markdown",
   "id": "df8867d7",
   "metadata": {},
   "source": [
    "Now lets compare the probability of winning/losing between home matches and away matches for England. This would give a picture on whether the fans have an impact or not"
   ]
  },
  {
   "cell_type": "markdown",
   "id": "397305ea",
   "metadata": {},
   "source": [
    "For England to win away/home:"
   ]
  },
  {
   "cell_type": "code",
   "execution_count": 60,
   "id": "6ba9dfa2",
   "metadata": {},
   "outputs": [
    {
     "name": "stderr",
     "output_type": "stream",
     "text": [
      "C:\\Users\\user\\AppData\\Local\\Temp/ipykernel_89840/4164357470.py:1: SettingWithCopyWarning: \n",
      "A value is trying to be set on a copy of a slice from a DataFrame.\n",
      "Try using .loc[row_indexer,col_indexer] = value instead\n",
      "\n",
      "See the caveats in the documentation: https://pandas.pydata.org/pandas-docs/stable/user_guide/indexing.html#returning-a-view-versus-a-copy\n",
      "  eng['home']=(eng['home_team']=='England')\n"
     ]
    }
   ],
   "source": [
    "eng['home']=(eng['home_team']=='England')"
   ]
  },
  {
   "cell_type": "code",
   "execution_count": 61,
   "id": "3ceaa756",
   "metadata": {},
   "outputs": [
    {
     "data": {
      "text/plain": [
       "True     464\n",
       "False    253\n",
       "Name: home, dtype: int64"
      ]
     },
     "execution_count": 61,
     "metadata": {},
     "output_type": "execute_result"
    }
   ],
   "source": [
    "eng['home'].value_counts()"
   ]
  },
  {
   "cell_type": "code",
   "execution_count": 62,
   "id": "d2c725df",
   "metadata": {},
   "outputs": [
    {
     "data": {
      "text/html": [
       "<div>\n",
       "<style scoped>\n",
       "    .dataframe tbody tr th:only-of-type {\n",
       "        vertical-align: middle;\n",
       "    }\n",
       "\n",
       "    .dataframe tbody tr th {\n",
       "        vertical-align: top;\n",
       "    }\n",
       "\n",
       "    .dataframe thead th {\n",
       "        text-align: right;\n",
       "    }\n",
       "</style>\n",
       "<table border=\"1\" class=\"dataframe\">\n",
       "  <thead>\n",
       "    <tr style=\"text-align: right;\">\n",
       "      <th>result</th>\n",
       "      <th>draw</th>\n",
       "      <th>lose</th>\n",
       "      <th>win</th>\n",
       "      <th>All</th>\n",
       "    </tr>\n",
       "    <tr>\n",
       "      <th>home</th>\n",
       "      <th></th>\n",
       "      <th></th>\n",
       "      <th></th>\n",
       "      <th></th>\n",
       "    </tr>\n",
       "  </thead>\n",
       "  <tbody>\n",
       "    <tr>\n",
       "      <th>False</th>\n",
       "      <td>55</td>\n",
       "      <td>115</td>\n",
       "      <td>83</td>\n",
       "      <td>253</td>\n",
       "    </tr>\n",
       "    <tr>\n",
       "      <th>True</th>\n",
       "      <td>101</td>\n",
       "      <td>300</td>\n",
       "      <td>63</td>\n",
       "      <td>464</td>\n",
       "    </tr>\n",
       "    <tr>\n",
       "      <th>All</th>\n",
       "      <td>156</td>\n",
       "      <td>415</td>\n",
       "      <td>146</td>\n",
       "      <td>717</td>\n",
       "    </tr>\n",
       "  </tbody>\n",
       "</table>\n",
       "</div>"
      ],
      "text/plain": [
       "result  draw  lose  win  All\n",
       "home                        \n",
       "False     55   115   83  253\n",
       "True     101   300   63  464\n",
       "All      156   415  146  717"
      ]
     },
     "execution_count": 62,
     "metadata": {},
     "output_type": "execute_result"
    }
   ],
   "source": [
    "x=pd.crosstab(eng['home'],eng['result'],margins=True)\n",
    "x"
   ]
  },
  {
   "cell_type": "code",
   "execution_count": 63,
   "id": "5b8c513d",
   "metadata": {},
   "outputs": [
    {
     "data": {
      "text/html": [
       "<div>\n",
       "<style scoped>\n",
       "    .dataframe tbody tr th:only-of-type {\n",
       "        vertical-align: middle;\n",
       "    }\n",
       "\n",
       "    .dataframe tbody tr th {\n",
       "        vertical-align: top;\n",
       "    }\n",
       "\n",
       "    .dataframe thead th {\n",
       "        text-align: right;\n",
       "    }\n",
       "</style>\n",
       "<table border=\"1\" class=\"dataframe\">\n",
       "  <thead>\n",
       "    <tr style=\"text-align: right;\">\n",
       "      <th></th>\n",
       "      <th>date</th>\n",
       "      <th>home_team</th>\n",
       "      <th>away_team</th>\n",
       "      <th>home_score</th>\n",
       "      <th>away_score</th>\n",
       "      <th>tournament</th>\n",
       "      <th>city</th>\n",
       "      <th>country</th>\n",
       "      <th>neutral</th>\n",
       "      <th>result</th>\n",
       "      <th>typeofmatch</th>\n",
       "      <th>home</th>\n",
       "    </tr>\n",
       "  </thead>\n",
       "  <tbody>\n",
       "    <tr>\n",
       "      <th>1</th>\n",
       "      <td>1873-03-08</td>\n",
       "      <td>England</td>\n",
       "      <td>Scotland</td>\n",
       "      <td>4</td>\n",
       "      <td>2</td>\n",
       "      <td>Friendly</td>\n",
       "      <td>London</td>\n",
       "      <td>England</td>\n",
       "      <td>False</td>\n",
       "      <td>lose</td>\n",
       "      <td>Friendly</td>\n",
       "      <td>True</td>\n",
       "    </tr>\n",
       "    <tr>\n",
       "      <th>3</th>\n",
       "      <td>1875-03-06</td>\n",
       "      <td>England</td>\n",
       "      <td>Scotland</td>\n",
       "      <td>2</td>\n",
       "      <td>2</td>\n",
       "      <td>Friendly</td>\n",
       "      <td>London</td>\n",
       "      <td>England</td>\n",
       "      <td>False</td>\n",
       "      <td>draw</td>\n",
       "      <td>Friendly</td>\n",
       "      <td>True</td>\n",
       "    </tr>\n",
       "    <tr>\n",
       "      <th>6</th>\n",
       "      <td>1877-03-03</td>\n",
       "      <td>England</td>\n",
       "      <td>Scotland</td>\n",
       "      <td>1</td>\n",
       "      <td>3</td>\n",
       "      <td>Friendly</td>\n",
       "      <td>London</td>\n",
       "      <td>England</td>\n",
       "      <td>False</td>\n",
       "      <td>win</td>\n",
       "      <td>Friendly</td>\n",
       "      <td>True</td>\n",
       "    </tr>\n",
       "    <tr>\n",
       "      <th>10</th>\n",
       "      <td>1879-01-18</td>\n",
       "      <td>England</td>\n",
       "      <td>Wales</td>\n",
       "      <td>2</td>\n",
       "      <td>1</td>\n",
       "      <td>Friendly</td>\n",
       "      <td>London</td>\n",
       "      <td>England</td>\n",
       "      <td>False</td>\n",
       "      <td>lose</td>\n",
       "      <td>Friendly</td>\n",
       "      <td>True</td>\n",
       "    </tr>\n",
       "  </tbody>\n",
       "</table>\n",
       "</div>"
      ],
      "text/plain": [
       "          date home_team away_team  home_score  away_score tournament    city  \\\n",
       "1   1873-03-08   England  Scotland           4           2   Friendly  London   \n",
       "3   1875-03-06   England  Scotland           2           2   Friendly  London   \n",
       "6   1877-03-03   England  Scotland           1           3   Friendly  London   \n",
       "10  1879-01-18   England     Wales           2           1   Friendly  London   \n",
       "\n",
       "    country  neutral result typeofmatch  home  \n",
       "1   England    False   lose    Friendly  True  \n",
       "3   England    False   draw    Friendly  True  \n",
       "6   England    False    win    Friendly  True  \n",
       "10  England    False   lose    Friendly  True  "
      ]
     },
     "execution_count": 63,
     "metadata": {},
     "output_type": "execute_result"
    }
   ],
   "source": [
    "eng.head(4)"
   ]
  },
  {
   "cell_type": "code",
   "execution_count": 64,
   "id": "543b858e",
   "metadata": {},
   "outputs": [
    {
     "data": {
      "text/plain": [
       "array([[ 55, 115,  83, 253],\n",
       "       [101, 300,  63, 464],\n",
       "       [156, 415, 146, 717]], dtype=int64)"
      ]
     },
     "execution_count": 64,
     "metadata": {},
     "output_type": "execute_result"
    }
   ],
   "source": [
    "x=np.array(x)\n",
    "x"
   ]
  },
  {
   "cell_type": "markdown",
   "id": "beb6bcf5",
   "metadata": {},
   "source": [
    "Confidence Interval for England to win at home:"
   ]
  },
  {
   "cell_type": "code",
   "execution_count": 66,
   "id": "bf1f9b52",
   "metadata": {},
   "outputs": [
    {
     "data": {
      "text/plain": [
       "(0.10460752863595074, 0.1669441955019803)"
      ]
     },
     "execution_count": 66,
     "metadata": {},
     "output_type": "execute_result"
    }
   ],
   "source": [
    "CI_engwin_home=proportion_confint(count=x[1,2],nobs=x[1,3],alpha=(1-.95))\n",
    "CI_engwin_home"
   ]
  },
  {
   "cell_type": "markdown",
   "id": "5c4aa02d",
   "metadata": {},
   "source": [
    "Confidence Interval for England to win away:"
   ]
  },
  {
   "cell_type": "code",
   "execution_count": 69,
   "id": "212bbb08",
   "metadata": {},
   "outputs": [
    {
     "data": {
      "text/plain": [
       "(0.27020958414722984, 0.3859168980662089)"
      ]
     },
     "execution_count": 69,
     "metadata": {},
     "output_type": "execute_result"
    }
   ],
   "source": [
    "CI_engwin_away=proportion_confint(count=x[0,2],nobs=x[0,3],alpha=(1-.95))\n",
    "CI_engwin_away"
   ]
  },
  {
   "cell_type": "markdown",
   "id": "32abdaed",
   "metadata": {},
   "source": [
    "Confidence Interval to win at home against win away for England:"
   ]
  },
  {
   "cell_type": "code",
   "execution_count": 70,
   "id": "a8158fe7",
   "metadata": {},
   "outputs": [
    {
     "data": {
      "text/html": [
       "<div>\n",
       "<style scoped>\n",
       "    .dataframe tbody tr th:only-of-type {\n",
       "        vertical-align: middle;\n",
       "    }\n",
       "\n",
       "    .dataframe tbody tr th {\n",
       "        vertical-align: top;\n",
       "    }\n",
       "\n",
       "    .dataframe thead th {\n",
       "        text-align: right;\n",
       "    }\n",
       "</style>\n",
       "<table border=\"1\" class=\"dataframe\">\n",
       "  <thead>\n",
       "    <tr style=\"text-align: right;\">\n",
       "      <th></th>\n",
       "      <th>home</th>\n",
       "      <th>lb</th>\n",
       "      <th>ub</th>\n",
       "    </tr>\n",
       "  </thead>\n",
       "  <tbody>\n",
       "    <tr>\n",
       "      <th>0</th>\n",
       "      <td>Yes</td>\n",
       "      <td>0.104608</td>\n",
       "      <td>0.166944</td>\n",
       "    </tr>\n",
       "    <tr>\n",
       "      <th>1</th>\n",
       "      <td>No</td>\n",
       "      <td>0.270210</td>\n",
       "      <td>0.385917</td>\n",
       "    </tr>\n",
       "  </tbody>\n",
       "</table>\n",
       "</div>"
      ],
      "text/plain": [
       "  home        lb        ub\n",
       "0  Yes  0.104608  0.166944\n",
       "1   No  0.270210  0.385917"
      ]
     },
     "execution_count": 70,
     "metadata": {},
     "output_type": "execute_result"
    }
   ],
   "source": [
    "ci_engwin = {}\n",
    "ci_engwin['home'] = ['Yes','No']\n",
    "ci_engwin['lb'] = [CI_engwin_home[0],CI_engwin_away[0]]\n",
    "ci_engwin['ub'] = [CI_engwin_home[1],CI_engwin_away[1]]\n",
    "df_ci= pd.DataFrame(ci_engwin)\n",
    "df_ci"
   ]
  },
  {
   "cell_type": "code",
   "execution_count": 71,
   "id": "eb781cf2",
   "metadata": {},
   "outputs": [
    {
     "data": {
      "text/plain": [
       "([<matplotlib.axis.YTick at 0x1dc4485ca30>,\n",
       "  <matplotlib.axis.YTick at 0x1dc4485c2b0>],\n",
       " [Text(0, 0, 'Yes'), Text(0, 1, 'No')])"
      ]
     },
     "execution_count": 71,
     "metadata": {},
     "output_type": "execute_result"
    },
    {
     "data": {
      "image/png": "[encoded data removed]",
      "text/plain": [
       "<Figure size 432x288 with 1 Axes>"
      ]
     },
     "metadata": {
      "needs_background": "light"
     },
     "output_type": "display_data"
    }
   ],
   "source": [
    "for lb,ub,y in zip(df_ci['lb'],df_ci['ub'],range(len(df_ci))):\n",
    "    plt.plot((lb,ub),(y,y),'ro-')\n",
    "plt.yticks(range(len(df_ci)),list(df_ci['home']))"
   ]
  },
  {
   "cell_type": "markdown",
   "id": "93243ebd",
   "metadata": {},
   "source": [
    "We can tell that there is a difference in England's performance when they play at home or away because the graph shows a difference in confidence level intervals, indicating that England playing at home or away affects their winning. (More likely to win at home)"
   ]
  },
  {
   "cell_type": "markdown",
   "id": "bd430450",
   "metadata": {},
   "source": [
    "For England to lose away/home:"
   ]
  },
  {
   "cell_type": "markdown",
   "id": "f92b508b",
   "metadata": {},
   "source": [
    "Confidence Interval for England to lose at home:"
   ]
  },
  {
   "cell_type": "code",
   "execution_count": 65,
   "id": "5be8ce86",
   "metadata": {},
   "outputs": [
    {
     "data": {
      "text/plain": [
       "(0.6030552883111224, 0.6900481599647397)"
      ]
     },
     "execution_count": 65,
     "metadata": {},
     "output_type": "execute_result"
    }
   ],
   "source": [
    "CI_englose_home=proportion_confint(count=x[1,1],nobs=x[1,3],alpha=(1-.95))\n",
    "CI_englose_home"
   ]
  },
  {
   "cell_type": "markdown",
   "id": "c5da5a5b",
   "metadata": {},
   "source": [
    "Confidence Interval for England to lose away:"
   ]
  },
  {
   "cell_type": "code",
   "execution_count": 67,
   "id": "21b42a8a",
   "metadata": {},
   "outputs": [
    {
     "data": {
      "text/plain": [
       "(0.3931896334222213, 0.5159012756686878)"
      ]
     },
     "execution_count": 67,
     "metadata": {},
     "output_type": "execute_result"
    }
   ],
   "source": [
    "CI_englose_away=proportion_confint(count=x[0,1],nobs=x[0,3],alpha=(1-.95))\n",
    "CI_englose_away"
   ]
  },
  {
   "cell_type": "markdown",
   "id": "9dd43a91",
   "metadata": {},
   "source": [
    "Confidence Interval to lose at home against lose away for England:"
   ]
  },
  {
   "cell_type": "code",
   "execution_count": 68,
   "id": "eb99b988",
   "metadata": {},
   "outputs": [
    {
     "data": {
      "text/html": [
       "<div>\n",
       "<style scoped>\n",
       "    .dataframe tbody tr th:only-of-type {\n",
       "        vertical-align: middle;\n",
       "    }\n",
       "\n",
       "    .dataframe tbody tr th {\n",
       "        vertical-align: top;\n",
       "    }\n",
       "\n",
       "    .dataframe thead th {\n",
       "        text-align: right;\n",
       "    }\n",
       "</style>\n",
       "<table border=\"1\" class=\"dataframe\">\n",
       "  <thead>\n",
       "    <tr style=\"text-align: right;\">\n",
       "      <th></th>\n",
       "      <th>home</th>\n",
       "      <th>lb</th>\n",
       "      <th>ub</th>\n",
       "    </tr>\n",
       "  </thead>\n",
       "  <tbody>\n",
       "    <tr>\n",
       "      <th>0</th>\n",
       "      <td>Yes</td>\n",
       "      <td>0.603055</td>\n",
       "      <td>0.690048</td>\n",
       "    </tr>\n",
       "    <tr>\n",
       "      <th>1</th>\n",
       "      <td>No</td>\n",
       "      <td>0.393190</td>\n",
       "      <td>0.515901</td>\n",
       "    </tr>\n",
       "  </tbody>\n",
       "</table>\n",
       "</div>"
      ],
      "text/plain": [
       "  home        lb        ub\n",
       "0  Yes  0.603055  0.690048\n",
       "1   No  0.393190  0.515901"
      ]
     },
     "execution_count": 68,
     "metadata": {},
     "output_type": "execute_result"
    }
   ],
   "source": [
    "ci_englose = {}\n",
    "ci_englose['home'] = ['Yes','No']\n",
    "ci_englose['lb'] = [CI_englose_home[0],CI_englose_away[0]]\n",
    "ci_englose['ub'] = [CI_englose_home[1],CI_englose_away[1]]\n",
    "df_ci= pd.DataFrame(ci_englose)\n",
    "df_ci"
   ]
  },
  {
   "cell_type": "code",
   "execution_count": 69,
   "id": "f5216c72",
   "metadata": {},
   "outputs": [
    {
     "data": {
      "text/plain": [
       "([<matplotlib.axis.YTick at 0x23f837dfe50>,\n",
       "  <matplotlib.axis.YTick at 0x23f837dfe80>],\n",
       " [Text(0, 0, 'Yes'), Text(0, 1, 'No')])"
      ]
     },
     "execution_count": 69,
     "metadata": {},
     "output_type": "execute_result"
    },
    {
     "data": {
      "image/png": "[encoded data removed]",
      "text/plain": [
       "<Figure size 432x288 with 1 Axes>"
      ]
     },
     "metadata": {
      "needs_background": "light"
     },
     "output_type": "display_data"
    }
   ],
   "source": [
    "for lb,ub,y in zip(df_ci['lb'],df_ci['ub'],range(len(df_ci))):\n",
    "    plt.plot((lb,ub),(y,y),'ro-')\n",
    "plt.yticks(range(len(df_ci)),list(df_ci['home']))"
   ]
  },
  {
   "cell_type": "markdown",
   "id": "cca36495",
   "metadata": {},
   "source": [
    "We can tell that there is a difference in England's performance when they play at home or away because the graph shows a difference in confidence level intervals, indicating that England playing at home or away affects their losing.(More likely to lose away)"
   ]
  },
  {
   "cell_type": "markdown",
   "id": "94dd36d7",
   "metadata": {},
   "source": [
    "# ARGENTINA"
   ]
  },
  {
   "cell_type": "markdown",
   "id": "c1a13c3c",
   "metadata": {},
   "source": [
    "For Argentina, lets observe their probability to win in both Friendly and Official matches:"
   ]
  },
  {
   "cell_type": "code",
   "execution_count": 70,
   "id": "a4757b9f",
   "metadata": {},
   "outputs": [],
   "source": [
    "arg=df[df['country']=='Argentina']"
   ]
  },
  {
   "cell_type": "code",
   "execution_count": 71,
   "id": "21626c7d",
   "metadata": {},
   "outputs": [
    {
     "data": {
      "text/html": [
       "<div>\n",
       "<style scoped>\n",
       "    .dataframe tbody tr th:only-of-type {\n",
       "        vertical-align: middle;\n",
       "    }\n",
       "\n",
       "    .dataframe tbody tr th {\n",
       "        vertical-align: top;\n",
       "    }\n",
       "\n",
       "    .dataframe thead th {\n",
       "        text-align: right;\n",
       "    }\n",
       "</style>\n",
       "<table border=\"1\" class=\"dataframe\">\n",
       "  <thead>\n",
       "    <tr style=\"text-align: right;\">\n",
       "      <th></th>\n",
       "      <th>date</th>\n",
       "      <th>home_team</th>\n",
       "      <th>away_team</th>\n",
       "      <th>home_score</th>\n",
       "      <th>away_score</th>\n",
       "      <th>tournament</th>\n",
       "      <th>city</th>\n",
       "      <th>country</th>\n",
       "      <th>neutral</th>\n",
       "      <th>result</th>\n",
       "    </tr>\n",
       "  </thead>\n",
       "  <tbody>\n",
       "    <tr>\n",
       "      <th>155</th>\n",
       "      <td>9/13/1903</td>\n",
       "      <td>Argentina</td>\n",
       "      <td>Uruguay</td>\n",
       "      <td>2</td>\n",
       "      <td>3</td>\n",
       "      <td>Friendly</td>\n",
       "      <td>Buenos Aires</td>\n",
       "      <td>Argentina</td>\n",
       "      <td>False</td>\n",
       "      <td>win</td>\n",
       "    </tr>\n",
       "    <tr>\n",
       "      <th>177</th>\n",
       "      <td>8/15/1905</td>\n",
       "      <td>Argentina</td>\n",
       "      <td>Uruguay</td>\n",
       "      <td>0</td>\n",
       "      <td>0</td>\n",
       "      <td>Copa Lipton</td>\n",
       "      <td>Buenos Aires</td>\n",
       "      <td>Argentina</td>\n",
       "      <td>False</td>\n",
       "      <td>draw</td>\n",
       "    </tr>\n",
       "    <tr>\n",
       "      <th>190</th>\n",
       "      <td>10/21/1906</td>\n",
       "      <td>Argentina</td>\n",
       "      <td>Uruguay</td>\n",
       "      <td>2</td>\n",
       "      <td>1</td>\n",
       "      <td>Copa Newton</td>\n",
       "      <td>Buenos Aires</td>\n",
       "      <td>Argentina</td>\n",
       "      <td>False</td>\n",
       "      <td>lose</td>\n",
       "    </tr>\n",
       "    <tr>\n",
       "      <th>226</th>\n",
       "      <td>9/13/1908</td>\n",
       "      <td>Argentina</td>\n",
       "      <td>Uruguay</td>\n",
       "      <td>2</td>\n",
       "      <td>1</td>\n",
       "      <td>Copa Newton</td>\n",
       "      <td>Buenos Aires</td>\n",
       "      <td>Argentina</td>\n",
       "      <td>False</td>\n",
       "      <td>lose</td>\n",
       "    </tr>\n",
       "  </tbody>\n",
       "</table>\n",
       "</div>"
      ],
      "text/plain": [
       "           date  home_team away_team  home_score  away_score   tournament  \\\n",
       "155   9/13/1903  Argentina   Uruguay           2           3     Friendly   \n",
       "177   8/15/1905  Argentina   Uruguay           0           0  Copa Lipton   \n",
       "190  10/21/1906  Argentina   Uruguay           2           1  Copa Newton   \n",
       "226   9/13/1908  Argentina   Uruguay           2           1  Copa Newton   \n",
       "\n",
       "             city    country  neutral result  \n",
       "155  Buenos Aires  Argentina    False    win  \n",
       "177  Buenos Aires  Argentina    False   draw  \n",
       "190  Buenos Aires  Argentina    False   lose  \n",
       "226  Buenos Aires  Argentina    False   lose  "
      ]
     },
     "execution_count": 71,
     "metadata": {},
     "output_type": "execute_result"
    }
   ],
   "source": [
    "arg.head(4)"
   ]
  },
  {
   "cell_type": "code",
   "execution_count": 72,
   "id": "90ee14e8",
   "metadata": {},
   "outputs": [],
   "source": [
    "conditions= [\n",
    "    (arg['tournament']=='Friendly'),\n",
    "    (arg['tournament']!='Friendly')\n",
    "]\n",
    "values=['Friendly','Official']"
   ]
  },
  {
   "cell_type": "code",
   "execution_count": 73,
   "id": "83c53871",
   "metadata": {},
   "outputs": [
    {
     "name": "stderr",
     "output_type": "stream",
     "text": [
      "C:\\Users\\user\\AppData\\Local\\Temp/ipykernel_89840/4205310655.py:1: SettingWithCopyWarning: \n",
      "A value is trying to be set on a copy of a slice from a DataFrame.\n",
      "Try using .loc[row_indexer,col_indexer] = value instead\n",
      "\n",
      "See the caveats in the documentation: https://pandas.pydata.org/pandas-docs/stable/user_guide/indexing.html#returning-a-view-versus-a-copy\n",
      "  arg['typeofmatch'] = np.select(conditions, values)\n"
     ]
    }
   ],
   "source": [
    "arg['typeofmatch'] = np.select(conditions, values)"
   ]
  },
  {
   "cell_type": "code",
   "execution_count": 74,
   "id": "54bd2920",
   "metadata": {},
   "outputs": [
    {
     "data": {
      "text/plain": [
       "Official    321\n",
       "Friendly    135\n",
       "Name: typeofmatch, dtype: int64"
      ]
     },
     "execution_count": 74,
     "metadata": {},
     "output_type": "execute_result"
    }
   ],
   "source": [
    "arg['typeofmatch'].value_counts()"
   ]
  },
  {
   "cell_type": "markdown",
   "id": "29910ca0",
   "metadata": {},
   "source": [
    "Now lets compare Confidence Intervals for Argentina to win in both friendly and official matches to know Argentina's performance"
   ]
  },
  {
   "cell_type": "code",
   "execution_count": 75,
   "id": "d4e85bb7",
   "metadata": {},
   "outputs": [
    {
     "data": {
      "text/html": [
       "<div>\n",
       "<style scoped>\n",
       "    .dataframe tbody tr th:only-of-type {\n",
       "        vertical-align: middle;\n",
       "    }\n",
       "\n",
       "    .dataframe tbody tr th {\n",
       "        vertical-align: top;\n",
       "    }\n",
       "\n",
       "    .dataframe thead th {\n",
       "        text-align: right;\n",
       "    }\n",
       "</style>\n",
       "<table border=\"1\" class=\"dataframe\">\n",
       "  <thead>\n",
       "    <tr style=\"text-align: right;\">\n",
       "      <th>result</th>\n",
       "      <th>draw</th>\n",
       "      <th>lose</th>\n",
       "      <th>win</th>\n",
       "      <th>All</th>\n",
       "    </tr>\n",
       "    <tr>\n",
       "      <th>typeofmatch</th>\n",
       "      <th></th>\n",
       "      <th></th>\n",
       "      <th></th>\n",
       "      <th></th>\n",
       "    </tr>\n",
       "  </thead>\n",
       "  <tbody>\n",
       "    <tr>\n",
       "      <th>Friendly</th>\n",
       "      <td>35</td>\n",
       "      <td>89</td>\n",
       "      <td>11</td>\n",
       "      <td>135</td>\n",
       "    </tr>\n",
       "    <tr>\n",
       "      <th>Official</th>\n",
       "      <td>77</td>\n",
       "      <td>185</td>\n",
       "      <td>59</td>\n",
       "      <td>321</td>\n",
       "    </tr>\n",
       "    <tr>\n",
       "      <th>All</th>\n",
       "      <td>112</td>\n",
       "      <td>274</td>\n",
       "      <td>70</td>\n",
       "      <td>456</td>\n",
       "    </tr>\n",
       "  </tbody>\n",
       "</table>\n",
       "</div>"
      ],
      "text/plain": [
       "result       draw  lose  win  All\n",
       "typeofmatch                      \n",
       "Friendly       35    89   11  135\n",
       "Official       77   185   59  321\n",
       "All           112   274   70  456"
      ]
     },
     "execution_count": 75,
     "metadata": {},
     "output_type": "execute_result"
    }
   ],
   "source": [
    "y=pd.crosstab(arg['typeofmatch'],arg['result'],margins=True)\n",
    "y"
   ]
  },
  {
   "cell_type": "code",
   "execution_count": 76,
   "id": "690d205c",
   "metadata": {},
   "outputs": [
    {
     "data": {
      "text/plain": [
       "array([[ 35,  89,  11, 135],\n",
       "       [ 77, 185,  59, 321],\n",
       "       [112, 274,  70, 456]], dtype=int64)"
      ]
     },
     "execution_count": 76,
     "metadata": {},
     "output_type": "execute_result"
    }
   ],
   "source": [
    "y=np.array(y)\n",
    "y"
   ]
  },
  {
   "cell_type": "markdown",
   "id": "3ef45025",
   "metadata": {},
   "source": [
    "Confidence Interval for Argentina to win in friendly matches:"
   ]
  },
  {
   "cell_type": "code",
   "execution_count": 77,
   "id": "b763c62a",
   "metadata": {},
   "outputs": [
    {
     "data": {
      "text/plain": [
       "(0.03533329664452295, 0.12762966631844003)"
      ]
     },
     "execution_count": 77,
     "metadata": {},
     "output_type": "execute_result"
    }
   ],
   "source": [
    "CI_argwin_friendly=proportion_confint(count=y[0,2],nobs=y[0,3],alpha=(1-.95))\n",
    "CI_argwin_friendly"
   ]
  },
  {
   "cell_type": "markdown",
   "id": "c7fe8f39",
   "metadata": {},
   "source": [
    "Confidence Interval for Argentina to win in official matches:"
   ]
  },
  {
   "cell_type": "code",
   "execution_count": 84,
   "id": "22a65d3c",
   "metadata": {},
   "outputs": [
    {
     "data": {
      "text/plain": [
       "(0.14142977135142917, 0.22617147475448982)"
      ]
     },
     "execution_count": 84,
     "metadata": {},
     "output_type": "execute_result"
    }
   ],
   "source": [
    "CI_argwin_official=proportion_confint(count=y[1,2],nobs=y[1,3],alpha=(1-.95))\n",
    "CI_argwin_official"
   ]
  },
  {
   "cell_type": "markdown",
   "id": "22c436ad",
   "metadata": {},
   "source": [
    "Confidence Interval to win in friendly matches against win in official matches for Argentina"
   ]
  },
  {
   "cell_type": "code",
   "execution_count": 122,
   "id": "549245cb",
   "metadata": {},
   "outputs": [
    {
     "data": {
      "text/html": [
       "<div>\n",
       "<style scoped>\n",
       "    .dataframe tbody tr th:only-of-type {\n",
       "        vertical-align: middle;\n",
       "    }\n",
       "\n",
       "    .dataframe tbody tr th {\n",
       "        vertical-align: top;\n",
       "    }\n",
       "\n",
       "    .dataframe thead th {\n",
       "        text-align: right;\n",
       "    }\n",
       "</style>\n",
       "<table border=\"1\" class=\"dataframe\">\n",
       "  <thead>\n",
       "    <tr style=\"text-align: right;\">\n",
       "      <th></th>\n",
       "      <th>typeofmatch</th>\n",
       "      <th>lb</th>\n",
       "      <th>ub</th>\n",
       "    </tr>\n",
       "  </thead>\n",
       "  <tbody>\n",
       "    <tr>\n",
       "      <th>0</th>\n",
       "      <td>Friendly</td>\n",
       "      <td>0.035333</td>\n",
       "      <td>0.127630</td>\n",
       "    </tr>\n",
       "    <tr>\n",
       "      <th>1</th>\n",
       "      <td>Official</td>\n",
       "      <td>0.141430</td>\n",
       "      <td>0.226171</td>\n",
       "    </tr>\n",
       "  </tbody>\n",
       "</table>\n",
       "</div>"
      ],
      "text/plain": [
       "  typeofmatch        lb        ub\n",
       "0    Friendly  0.035333  0.127630\n",
       "1    Official  0.141430  0.226171"
      ]
     },
     "execution_count": 122,
     "metadata": {},
     "output_type": "execute_result"
    }
   ],
   "source": [
    "ci_argwin = {}\n",
    "ci_argwin['typeofmatch'] = ['Friendly','Official']\n",
    "ci_argwin['lb'] = [CI_argwin_friendly[0],CI_argwin_official[0]]\n",
    "ci_argwin['ub'] = [CI_argwin_friendly[1],CI_argwin_official[1]]\n",
    "df_ci= pd.DataFrame(ci_argwin)\n",
    "df_ci"
   ]
  },
  {
   "cell_type": "code",
   "execution_count": 123,
   "id": "e628c244",
   "metadata": {},
   "outputs": [
    {
     "data": {
      "text/plain": [
       "([<matplotlib.axis.YTick at 0x1dc45b2d430>,\n",
       "  <matplotlib.axis.YTick at 0x1dc44973940>],\n",
       " [Text(0, 0, 'Friendly'), Text(0, 1, 'Official')])"
      ]
     },
     "execution_count": 123,
     "metadata": {},
     "output_type": "execute_result"
    },
    {
     "data": {
      "image/png": "[encoded data removed]",
      "text/plain": [
       "<Figure size 432x288 with 1 Axes>"
      ]
     },
     "metadata": {
      "needs_background": "light"
     },
     "output_type": "display_data"
    }
   ],
   "source": [
    "import matplotlib.pyplot as plt\n",
    "for lb,ub,y in zip(df_ci['lb'],df_ci['ub'],range(len(df_ci))):\n",
    "    plt.plot((lb,ub),(y,y),'ro-')\n",
    "plt.yticks(range(len(df_ci)),list(df_ci['typeofmatch']))"
   ]
  },
  {
   "cell_type": "markdown",
   "id": "9b27aad1",
   "metadata": {},
   "source": [
    "We can see from the graph above that there is no observable difference in confidence level interval when it comes to friendly/official matches for Argentina which indicates that Argentina's performance is not really affected by the type of tournament"
   ]
  },
  {
   "cell_type": "markdown",
   "id": "5c2d7273",
   "metadata": {},
   "source": [
    "Now for Argentina, lets observe their probability to lose in both Friendly and Official matches:"
   ]
  },
  {
   "cell_type": "markdown",
   "id": "dc5c5a75",
   "metadata": {},
   "source": [
    "Confidence Interval for Argentina to lose in friendly matches:"
   ]
  },
  {
   "cell_type": "code",
   "execution_count": 78,
   "id": "94ec070b",
   "metadata": {},
   "outputs": [
    {
     "data": {
      "text/plain": [
       "(0.5793087273506131, 0.7392097911679053)"
      ]
     },
     "execution_count": 78,
     "metadata": {},
     "output_type": "execute_result"
    }
   ],
   "source": [
    "CI_arglose_friendly=proportion_confint(count=y[0,1],nobs=y[0,3],alpha=(1-.95))\n",
    "CI_arglose_friendly"
   ]
  },
  {
   "cell_type": "markdown",
   "id": "5af2d07c",
   "metadata": {},
   "source": [
    "Confidence Interval for Argentina to lose in official matches:"
   ]
  },
  {
   "cell_type": "code",
   "execution_count": 79,
   "id": "7d0a40c5",
   "metadata": {},
   "outputs": [
    {
     "data": {
      "text/plain": [
       "(0.5222677442170198, 0.6303802308608617)"
      ]
     },
     "execution_count": 79,
     "metadata": {},
     "output_type": "execute_result"
    }
   ],
   "source": [
    "CI_arglose_official=proportion_confint(count=y[1,1],nobs=y[1,3],alpha=(1-.95))\n",
    "CI_arglose_official"
   ]
  },
  {
   "cell_type": "markdown",
   "id": "585f24f1",
   "metadata": {},
   "source": [
    "Confidence Interval to lose in friendly matches against lose in official matches for Argentina:"
   ]
  },
  {
   "cell_type": "code",
   "execution_count": 80,
   "id": "6d123da9",
   "metadata": {},
   "outputs": [
    {
     "data": {
      "text/html": [
       "<div>\n",
       "<style scoped>\n",
       "    .dataframe tbody tr th:only-of-type {\n",
       "        vertical-align: middle;\n",
       "    }\n",
       "\n",
       "    .dataframe tbody tr th {\n",
       "        vertical-align: top;\n",
       "    }\n",
       "\n",
       "    .dataframe thead th {\n",
       "        text-align: right;\n",
       "    }\n",
       "</style>\n",
       "<table border=\"1\" class=\"dataframe\">\n",
       "  <thead>\n",
       "    <tr style=\"text-align: right;\">\n",
       "      <th></th>\n",
       "      <th>typeofmatch</th>\n",
       "      <th>lb</th>\n",
       "      <th>ub</th>\n",
       "    </tr>\n",
       "  </thead>\n",
       "  <tbody>\n",
       "    <tr>\n",
       "      <th>0</th>\n",
       "      <td>Friendly</td>\n",
       "      <td>0.579309</td>\n",
       "      <td>0.73921</td>\n",
       "    </tr>\n",
       "    <tr>\n",
       "      <th>1</th>\n",
       "      <td>Official</td>\n",
       "      <td>0.522268</td>\n",
       "      <td>0.63038</td>\n",
       "    </tr>\n",
       "  </tbody>\n",
       "</table>\n",
       "</div>"
      ],
      "text/plain": [
       "  typeofmatch        lb       ub\n",
       "0    Friendly  0.579309  0.73921\n",
       "1    Official  0.522268  0.63038"
      ]
     },
     "execution_count": 80,
     "metadata": {},
     "output_type": "execute_result"
    }
   ],
   "source": [
    "ci_arglose = {}\n",
    "ci_arglose['typeofmatch'] = ['Friendly','Official']\n",
    "ci_arglose['lb'] = [CI_arglose_friendly[0],CI_arglose_official[0]]\n",
    "ci_arglose['ub'] = [CI_arglose_friendly[1],CI_arglose_official[1]]\n",
    "df_ci= pd.DataFrame(ci_arglose)\n",
    "df_ci"
   ]
  },
  {
   "cell_type": "code",
   "execution_count": 81,
   "id": "02e9307f",
   "metadata": {},
   "outputs": [
    {
     "data": {
      "text/plain": [
       "([<matplotlib.axis.YTick at 0x23f83853df0>,\n",
       "  <matplotlib.axis.YTick at 0x23f83853670>],\n",
       " [Text(0, 0, 'Friendly'), Text(0, 1, 'Official')])"
      ]
     },
     "execution_count": 81,
     "metadata": {},
     "output_type": "execute_result"
    },
    {
     "data": {
      "image/png": "[encoded data removed]",
      "text/plain": [
       "<Figure size 432x288 with 1 Axes>"
      ]
     },
     "metadata": {
      "needs_background": "light"
     },
     "output_type": "display_data"
    }
   ],
   "source": [
    "import matplotlib.pyplot as plt\n",
    "for lb,ub,y in zip(df_ci['lb'],df_ci['ub'],range(len(df_ci))):\n",
    "    plt.plot((lb,ub),(y,y),'ro-')\n",
    "plt.yticks(range(len(df_ci)),list(df_ci['typeofmatch']))"
   ]
  },
  {
   "cell_type": "markdown",
   "id": "a2a89d55",
   "metadata": {},
   "source": [
    "We can see from the graph above that there is only a slight difference in confidence levelinterval when it comes to friendly/official matches for Argentina which indicates that Argentina's performance is slightly affected by the type of tournament."
   ]
  },
  {
   "cell_type": "markdown",
   "id": "014523f4",
   "metadata": {},
   "source": [
    "Now lets compare the probability of winning/losing between home matches and away matches for Argentina. This would give a picture on whether the fans have an impact or not"
   ]
  },
  {
   "cell_type": "markdown",
   "id": "8d5853df",
   "metadata": {},
   "source": [
    "For Argentina to win away/home:"
   ]
  },
  {
   "cell_type": "code",
   "execution_count": 82,
   "id": "4f3154d0",
   "metadata": {},
   "outputs": [
    {
     "name": "stderr",
     "output_type": "stream",
     "text": [
      "C:\\Users\\user\\AppData\\Local\\Temp/ipykernel_89840/1159516524.py:1: SettingWithCopyWarning: \n",
      "A value is trying to be set on a copy of a slice from a DataFrame.\n",
      "Try using .loc[row_indexer,col_indexer] = value instead\n",
      "\n",
      "See the caveats in the documentation: https://pandas.pydata.org/pandas-docs/stable/user_guide/indexing.html#returning-a-view-versus-a-copy\n",
      "  arg['home']=(arg['home_team']=='Argentina')\n"
     ]
    }
   ],
   "source": [
    "arg['home']=(arg['home_team']=='Argentina')"
   ]
  },
  {
   "cell_type": "code",
   "execution_count": 83,
   "id": "1c8b4bcf",
   "metadata": {},
   "outputs": [
    {
     "data": {
      "text/plain": [
       "True     340\n",
       "False    116\n",
       "Name: home, dtype: int64"
      ]
     },
     "execution_count": 83,
     "metadata": {},
     "output_type": "execute_result"
    }
   ],
   "source": [
    "arg['home'].value_counts()"
   ]
  },
  {
   "cell_type": "code",
   "execution_count": 84,
   "id": "fd9547e4",
   "metadata": {},
   "outputs": [
    {
     "data": {
      "text/html": [
       "<div>\n",
       "<style scoped>\n",
       "    .dataframe tbody tr th:only-of-type {\n",
       "        vertical-align: middle;\n",
       "    }\n",
       "\n",
       "    .dataframe tbody tr th {\n",
       "        vertical-align: top;\n",
       "    }\n",
       "\n",
       "    .dataframe thead th {\n",
       "        text-align: right;\n",
       "    }\n",
       "</style>\n",
       "<table border=\"1\" class=\"dataframe\">\n",
       "  <thead>\n",
       "    <tr style=\"text-align: right;\">\n",
       "      <th>result</th>\n",
       "      <th>draw</th>\n",
       "      <th>lose</th>\n",
       "      <th>win</th>\n",
       "      <th>All</th>\n",
       "    </tr>\n",
       "    <tr>\n",
       "      <th>home</th>\n",
       "      <th></th>\n",
       "      <th></th>\n",
       "      <th></th>\n",
       "      <th></th>\n",
       "    </tr>\n",
       "  </thead>\n",
       "  <tbody>\n",
       "    <tr>\n",
       "      <th>False</th>\n",
       "      <td>27</td>\n",
       "      <td>50</td>\n",
       "      <td>39</td>\n",
       "      <td>116</td>\n",
       "    </tr>\n",
       "    <tr>\n",
       "      <th>True</th>\n",
       "      <td>85</td>\n",
       "      <td>224</td>\n",
       "      <td>31</td>\n",
       "      <td>340</td>\n",
       "    </tr>\n",
       "    <tr>\n",
       "      <th>All</th>\n",
       "      <td>112</td>\n",
       "      <td>274</td>\n",
       "      <td>70</td>\n",
       "      <td>456</td>\n",
       "    </tr>\n",
       "  </tbody>\n",
       "</table>\n",
       "</div>"
      ],
      "text/plain": [
       "result  draw  lose  win  All\n",
       "home                        \n",
       "False     27    50   39  116\n",
       "True      85   224   31  340\n",
       "All      112   274   70  456"
      ]
     },
     "execution_count": 84,
     "metadata": {},
     "output_type": "execute_result"
    }
   ],
   "source": [
    "y=pd.crosstab(arg['home'],arg['result'],margins=True)\n",
    "y"
   ]
  },
  {
   "cell_type": "code",
   "execution_count": 85,
   "id": "87ea6348",
   "metadata": {},
   "outputs": [
    {
     "data": {
      "text/html": [
       "<div>\n",
       "<style scoped>\n",
       "    .dataframe tbody tr th:only-of-type {\n",
       "        vertical-align: middle;\n",
       "    }\n",
       "\n",
       "    .dataframe tbody tr th {\n",
       "        vertical-align: top;\n",
       "    }\n",
       "\n",
       "    .dataframe thead th {\n",
       "        text-align: right;\n",
       "    }\n",
       "</style>\n",
       "<table border=\"1\" class=\"dataframe\">\n",
       "  <thead>\n",
       "    <tr style=\"text-align: right;\">\n",
       "      <th></th>\n",
       "      <th>date</th>\n",
       "      <th>home_team</th>\n",
       "      <th>away_team</th>\n",
       "      <th>home_score</th>\n",
       "      <th>away_score</th>\n",
       "      <th>tournament</th>\n",
       "      <th>city</th>\n",
       "      <th>country</th>\n",
       "      <th>neutral</th>\n",
       "      <th>result</th>\n",
       "      <th>typeofmatch</th>\n",
       "      <th>home</th>\n",
       "    </tr>\n",
       "  </thead>\n",
       "  <tbody>\n",
       "    <tr>\n",
       "      <th>155</th>\n",
       "      <td>9/13/1903</td>\n",
       "      <td>Argentina</td>\n",
       "      <td>Uruguay</td>\n",
       "      <td>2</td>\n",
       "      <td>3</td>\n",
       "      <td>Friendly</td>\n",
       "      <td>Buenos Aires</td>\n",
       "      <td>Argentina</td>\n",
       "      <td>False</td>\n",
       "      <td>win</td>\n",
       "      <td>Friendly</td>\n",
       "      <td>True</td>\n",
       "    </tr>\n",
       "    <tr>\n",
       "      <th>177</th>\n",
       "      <td>8/15/1905</td>\n",
       "      <td>Argentina</td>\n",
       "      <td>Uruguay</td>\n",
       "      <td>0</td>\n",
       "      <td>0</td>\n",
       "      <td>Copa Lipton</td>\n",
       "      <td>Buenos Aires</td>\n",
       "      <td>Argentina</td>\n",
       "      <td>False</td>\n",
       "      <td>draw</td>\n",
       "      <td>Official</td>\n",
       "      <td>True</td>\n",
       "    </tr>\n",
       "    <tr>\n",
       "      <th>190</th>\n",
       "      <td>10/21/1906</td>\n",
       "      <td>Argentina</td>\n",
       "      <td>Uruguay</td>\n",
       "      <td>2</td>\n",
       "      <td>1</td>\n",
       "      <td>Copa Newton</td>\n",
       "      <td>Buenos Aires</td>\n",
       "      <td>Argentina</td>\n",
       "      <td>False</td>\n",
       "      <td>lose</td>\n",
       "      <td>Official</td>\n",
       "      <td>True</td>\n",
       "    </tr>\n",
       "    <tr>\n",
       "      <th>226</th>\n",
       "      <td>9/13/1908</td>\n",
       "      <td>Argentina</td>\n",
       "      <td>Uruguay</td>\n",
       "      <td>2</td>\n",
       "      <td>1</td>\n",
       "      <td>Copa Newton</td>\n",
       "      <td>Buenos Aires</td>\n",
       "      <td>Argentina</td>\n",
       "      <td>False</td>\n",
       "      <td>lose</td>\n",
       "      <td>Official</td>\n",
       "      <td>True</td>\n",
       "    </tr>\n",
       "  </tbody>\n",
       "</table>\n",
       "</div>"
      ],
      "text/plain": [
       "           date  home_team away_team  home_score  away_score   tournament  \\\n",
       "155   9/13/1903  Argentina   Uruguay           2           3     Friendly   \n",
       "177   8/15/1905  Argentina   Uruguay           0           0  Copa Lipton   \n",
       "190  10/21/1906  Argentina   Uruguay           2           1  Copa Newton   \n",
       "226   9/13/1908  Argentina   Uruguay           2           1  Copa Newton   \n",
       "\n",
       "             city    country  neutral result typeofmatch  home  \n",
       "155  Buenos Aires  Argentina    False    win    Friendly  True  \n",
       "177  Buenos Aires  Argentina    False   draw    Official  True  \n",
       "190  Buenos Aires  Argentina    False   lose    Official  True  \n",
       "226  Buenos Aires  Argentina    False   lose    Official  True  "
      ]
     },
     "execution_count": 85,
     "metadata": {},
     "output_type": "execute_result"
    }
   ],
   "source": [
    "arg.head(4)"
   ]
  },
  {
   "cell_type": "code",
   "execution_count": 86,
   "id": "a695a37f",
   "metadata": {},
   "outputs": [
    {
     "data": {
      "text/plain": [
       "array([[ 27,  50,  39, 116],\n",
       "       [ 85, 224,  31, 340],\n",
       "       [112, 274,  70, 456]], dtype=int64)"
      ]
     },
     "execution_count": 86,
     "metadata": {},
     "output_type": "execute_result"
    }
   ],
   "source": [
    "y=np.array(y)\n",
    "y"
   ]
  },
  {
   "cell_type": "markdown",
   "id": "0ba30c2a",
   "metadata": {},
   "source": [
    "Confidence Interval for Argentine to win at home:"
   ]
  },
  {
   "cell_type": "code",
   "execution_count": 92,
   "id": "a1cffb83",
   "metadata": {},
   "outputs": [
    {
     "data": {
      "text/plain": [
       "(0.060578698733660494, 0.12177424244281009)"
      ]
     },
     "execution_count": 92,
     "metadata": {},
     "output_type": "execute_result"
    }
   ],
   "source": [
    "CI_argwin_home=proportion_confint(count=y[1,2],nobs=y[1,3],alpha=(1-.95))\n",
    "CI_argwin_home"
   ]
  },
  {
   "cell_type": "markdown",
   "id": "de9d0cc7",
   "metadata": {},
   "source": [
    "Confidence Interval for Argentine to win away:"
   ]
  },
  {
   "cell_type": "code",
   "execution_count": 93,
   "id": "26c2d23b",
   "metadata": {},
   "outputs": [
    {
     "data": {
      "text/plain": [
       "(0.25023851054020474, 0.42217528256324355)"
      ]
     },
     "execution_count": 93,
     "metadata": {},
     "output_type": "execute_result"
    }
   ],
   "source": [
    "CI_argwin_away=proportion_confint(count=y[0,2],nobs=y[0,3],alpha=(1-.95))\n",
    "CI_argwin_away"
   ]
  },
  {
   "cell_type": "code",
   "execution_count": 94,
   "id": "29cd3a14",
   "metadata": {},
   "outputs": [
    {
     "data": {
      "text/html": [
       "<div>\n",
       "<style scoped>\n",
       "    .dataframe tbody tr th:only-of-type {\n",
       "        vertical-align: middle;\n",
       "    }\n",
       "\n",
       "    .dataframe tbody tr th {\n",
       "        vertical-align: top;\n",
       "    }\n",
       "\n",
       "    .dataframe thead th {\n",
       "        text-align: right;\n",
       "    }\n",
       "</style>\n",
       "<table border=\"1\" class=\"dataframe\">\n",
       "  <thead>\n",
       "    <tr style=\"text-align: right;\">\n",
       "      <th></th>\n",
       "      <th>home</th>\n",
       "      <th>lb</th>\n",
       "      <th>ub</th>\n",
       "    </tr>\n",
       "  </thead>\n",
       "  <tbody>\n",
       "    <tr>\n",
       "      <th>0</th>\n",
       "      <td>Yes</td>\n",
       "      <td>0.060579</td>\n",
       "      <td>0.121774</td>\n",
       "    </tr>\n",
       "    <tr>\n",
       "      <th>1</th>\n",
       "      <td>No</td>\n",
       "      <td>0.250239</td>\n",
       "      <td>0.422175</td>\n",
       "    </tr>\n",
       "  </tbody>\n",
       "</table>\n",
       "</div>"
      ],
      "text/plain": [
       "  home        lb        ub\n",
       "0  Yes  0.060579  0.121774\n",
       "1   No  0.250239  0.422175"
      ]
     },
     "execution_count": 94,
     "metadata": {},
     "output_type": "execute_result"
    }
   ],
   "source": [
    "ci_argwin = {}\n",
    "ci_argwin['home'] = ['Yes','No']\n",
    "ci_argwin['lb'] = [CI_argwin_home[0],CI_argwin_away[0]]\n",
    "ci_argwin['ub'] = [CI_argwin_home[1],CI_argwin_away[1]]\n",
    "df_ci= pd.DataFrame(ci_argwin)\n",
    "df_ci"
   ]
  },
  {
   "cell_type": "code",
   "execution_count": 96,
   "id": "acd9e630",
   "metadata": {},
   "outputs": [
    {
     "data": {
      "text/plain": [
       "([<matplotlib.axis.YTick at 0x1dc44990d00>,\n",
       "  <matplotlib.axis.YTick at 0x1dc44990580>],\n",
       " [Text(0, 0, 'Yes'), Text(0, 1, 'No')])"
      ]
     },
     "execution_count": 96,
     "metadata": {},
     "output_type": "execute_result"
    },
    {
     "data": {
      "image/png": "[encoded data removed]",
      "text/plain": [
       "<Figure size 432x288 with 1 Axes>"
      ]
     },
     "metadata": {
      "needs_background": "light"
     },
     "output_type": "display_data"
    }
   ],
   "source": [
    "for lb,ub,y in zip(df_ci['lb'],df_ci['ub'],range(len(df_ci))):\n",
    "    plt.plot((lb,ub),(y,y),'ro-')\n",
    "plt.yticks(range(len(df_ci)),list(df_ci['home']))"
   ]
  },
  {
   "cell_type": "markdown",
   "id": "7d4211b2",
   "metadata": {},
   "source": [
    "We can tell that there is a significant difference when it comes to playing home or away for Argentina on their performance since the graph shows a difference in confidence level intervals, this indicates that Argentina playing home/away affects their winning. (More likely to win at home)"
   ]
  },
  {
   "cell_type": "markdown",
   "id": "ca50e3ad",
   "metadata": {},
   "source": [
    "We can see from the graph above that there is a significant difference in confidence level when it comes to playing home/away for Argentina"
   ]
  },
  {
   "cell_type": "markdown",
   "id": "3fe925c8",
   "metadata": {},
   "source": [
    "For Argentina to lose at home:"
   ]
  },
  {
   "cell_type": "code",
   "execution_count": 88,
   "id": "60153123",
   "metadata": {},
   "outputs": [
    {
     "data": {
      "text/plain": [
       "(0.6084290783071029, 0.7092179805164265)"
      ]
     },
     "execution_count": 88,
     "metadata": {},
     "output_type": "execute_result"
    }
   ],
   "source": [
    "CI_arglose_home=proportion_confint(count=y[1,1],nobs=y[1,3],alpha=(1-.95))\n",
    "CI_arglose_home"
   ]
  },
  {
   "cell_type": "markdown",
   "id": "17e547ca",
   "metadata": {},
   "source": [
    "For Argentina to lose away:"
   ]
  },
  {
   "cell_type": "code",
   "execution_count": 89,
   "id": "a517c165",
   "metadata": {},
   "outputs": [
    {
     "data": {
      "text/plain": [
       "(0.34091512726528816, 0.5211538382519532)"
      ]
     },
     "execution_count": 89,
     "metadata": {},
     "output_type": "execute_result"
    }
   ],
   "source": [
    "CI_arglose_away=proportion_confint(count=y[0,1],nobs=y[0,3],alpha=(1-.95))\n",
    "CI_arglose_away"
   ]
  },
  {
   "cell_type": "code",
   "execution_count": 90,
   "id": "ac0d66c1",
   "metadata": {},
   "outputs": [
    {
     "data": {
      "text/html": [
       "<div>\n",
       "<style scoped>\n",
       "    .dataframe tbody tr th:only-of-type {\n",
       "        vertical-align: middle;\n",
       "    }\n",
       "\n",
       "    .dataframe tbody tr th {\n",
       "        vertical-align: top;\n",
       "    }\n",
       "\n",
       "    .dataframe thead th {\n",
       "        text-align: right;\n",
       "    }\n",
       "</style>\n",
       "<table border=\"1\" class=\"dataframe\">\n",
       "  <thead>\n",
       "    <tr style=\"text-align: right;\">\n",
       "      <th></th>\n",
       "      <th>home</th>\n",
       "      <th>lb</th>\n",
       "      <th>ub</th>\n",
       "    </tr>\n",
       "  </thead>\n",
       "  <tbody>\n",
       "    <tr>\n",
       "      <th>0</th>\n",
       "      <td>Yes</td>\n",
       "      <td>0.608429</td>\n",
       "      <td>0.709218</td>\n",
       "    </tr>\n",
       "    <tr>\n",
       "      <th>1</th>\n",
       "      <td>No</td>\n",
       "      <td>0.340915</td>\n",
       "      <td>0.521154</td>\n",
       "    </tr>\n",
       "  </tbody>\n",
       "</table>\n",
       "</div>"
      ],
      "text/plain": [
       "  home        lb        ub\n",
       "0  Yes  0.608429  0.709218\n",
       "1   No  0.340915  0.521154"
      ]
     },
     "execution_count": 90,
     "metadata": {},
     "output_type": "execute_result"
    }
   ],
   "source": [
    "ci_arglose = {}\n",
    "ci_arglose['home'] = ['Yes','No']\n",
    "ci_arglose['lb'] = [CI_arglose_home[0],CI_arglose_away[0]]\n",
    "ci_arglose['ub'] = [CI_arglose_home[1],CI_arglose_away[1]]\n",
    "df_ci= pd.DataFrame(ci_arglose)\n",
    "df_ci"
   ]
  },
  {
   "cell_type": "code",
   "execution_count": 91,
   "id": "397c3374",
   "metadata": {},
   "outputs": [
    {
     "data": {
      "text/plain": [
       "([<matplotlib.axis.YTick at 0x23f838b1c10>,\n",
       "  <matplotlib.axis.YTick at 0x23f838b14c0>],\n",
       " [Text(0, 0, 'Yes'), Text(0, 1, 'No')])"
      ]
     },
     "execution_count": 91,
     "metadata": {},
     "output_type": "execute_result"
    },
    {
     "data": {
      "image/png": "[encoded data removed]",
      "text/plain": [
       "<Figure size 432x288 with 1 Axes>"
      ]
     },
     "metadata": {
      "needs_background": "light"
     },
     "output_type": "display_data"
    }
   ],
   "source": [
    "for lb,ub,y in zip(df_ci['lb'],df_ci['ub'],range(len(df_ci))):\n",
    "    plt.plot((lb,ub),(y,y),'ro-')\n",
    "plt.yticks(range(len(df_ci)),list(df_ci['home']))"
   ]
  },
  {
   "cell_type": "markdown",
   "id": "3e002ed4",
   "metadata": {},
   "source": [
    "We can tell that there is a significant difference when it comes to playing home or away for Argentina on their performance since the graph shows a difference in confidence level intervals, this indicates that Argentina playing home/away affects their losing. (More likely to lose away)"
   ]
  },
  {
   "cell_type": "markdown",
   "id": "457a3916",
   "metadata": {},
   "source": [
    "# FRANCE"
   ]
  },
  {
   "cell_type": "markdown",
   "id": "e0482eed",
   "metadata": {},
   "source": [
    "For France, lets observe their probability to win in both Friendly and Official matches:"
   ]
  },
  {
   "cell_type": "code",
   "execution_count": 92,
   "id": "ebb6f0d5",
   "metadata": {},
   "outputs": [],
   "source": [
    "fra=df[df['country']=='France']"
   ]
  },
  {
   "cell_type": "code",
   "execution_count": 93,
   "id": "b41f3e52",
   "metadata": {},
   "outputs": [],
   "source": [
    "conditions= [\n",
    "    (fra['tournament']=='Friendly'),\n",
    "    (fra['tournament']!='Friendly')\n",
    "]\n",
    "values=['Friendly','Official']"
   ]
  },
  {
   "cell_type": "code",
   "execution_count": 94,
   "id": "8e491efa",
   "metadata": {},
   "outputs": [
    {
     "name": "stderr",
     "output_type": "stream",
     "text": [
      "C:\\Users\\user\\AppData\\Local\\Temp/ipykernel_89840/3505533578.py:1: SettingWithCopyWarning: \n",
      "A value is trying to be set on a copy of a slice from a DataFrame.\n",
      "Try using .loc[row_indexer,col_indexer] = value instead\n",
      "\n",
      "See the caveats in the documentation: https://pandas.pydata.org/pandas-docs/stable/user_guide/indexing.html#returning-a-view-versus-a-copy\n",
      "  fra['typeofmatch'] = np.select(conditions, values)\n"
     ]
    }
   ],
   "source": [
    "fra['typeofmatch'] = np.select(conditions, values)"
   ]
  },
  {
   "cell_type": "code",
   "execution_count": 95,
   "id": "12e59075",
   "metadata": {},
   "outputs": [
    {
     "data": {
      "text/plain": [
       "Friendly    471\n",
       "Official    347\n",
       "Name: typeofmatch, dtype: int64"
      ]
     },
     "execution_count": 95,
     "metadata": {},
     "output_type": "execute_result"
    }
   ],
   "source": [
    "fra['typeofmatch'].value_counts()"
   ]
  },
  {
   "cell_type": "markdown",
   "id": "ae19564a",
   "metadata": {},
   "source": [
    "Now lets compare Confidence Intervals for France to win or lose in both friendly and official matches to know France's performance"
   ]
  },
  {
   "cell_type": "code",
   "execution_count": 96,
   "id": "872b0f88",
   "metadata": {},
   "outputs": [
    {
     "data": {
      "text/html": [
       "<div>\n",
       "<style scoped>\n",
       "    .dataframe tbody tr th:only-of-type {\n",
       "        vertical-align: middle;\n",
       "    }\n",
       "\n",
       "    .dataframe tbody tr th {\n",
       "        vertical-align: top;\n",
       "    }\n",
       "\n",
       "    .dataframe thead th {\n",
       "        text-align: right;\n",
       "    }\n",
       "</style>\n",
       "<table border=\"1\" class=\"dataframe\">\n",
       "  <thead>\n",
       "    <tr style=\"text-align: right;\">\n",
       "      <th>result</th>\n",
       "      <th>draw</th>\n",
       "      <th>lose</th>\n",
       "      <th>win</th>\n",
       "      <th>All</th>\n",
       "    </tr>\n",
       "    <tr>\n",
       "      <th>typeofmatch</th>\n",
       "      <th></th>\n",
       "      <th></th>\n",
       "      <th></th>\n",
       "      <th></th>\n",
       "    </tr>\n",
       "  </thead>\n",
       "  <tbody>\n",
       "    <tr>\n",
       "      <th>Friendly</th>\n",
       "      <td>112</td>\n",
       "      <td>228</td>\n",
       "      <td>131</td>\n",
       "      <td>471</td>\n",
       "    </tr>\n",
       "    <tr>\n",
       "      <th>Official</th>\n",
       "      <td>77</td>\n",
       "      <td>189</td>\n",
       "      <td>81</td>\n",
       "      <td>347</td>\n",
       "    </tr>\n",
       "    <tr>\n",
       "      <th>All</th>\n",
       "      <td>189</td>\n",
       "      <td>417</td>\n",
       "      <td>212</td>\n",
       "      <td>818</td>\n",
       "    </tr>\n",
       "  </tbody>\n",
       "</table>\n",
       "</div>"
      ],
      "text/plain": [
       "result       draw  lose  win  All\n",
       "typeofmatch                      \n",
       "Friendly      112   228  131  471\n",
       "Official       77   189   81  347\n",
       "All           189   417  212  818"
      ]
     },
     "execution_count": 96,
     "metadata": {},
     "output_type": "execute_result"
    }
   ],
   "source": [
    "z=pd.crosstab(fra['typeofmatch'],fra['result'],margins=True)\n",
    "z"
   ]
  },
  {
   "cell_type": "code",
   "execution_count": 99,
   "id": "d6308ce2",
   "metadata": {},
   "outputs": [
    {
     "data": {
      "text/plain": [
       "array([[112, 228, 131, 471],\n",
       "       [ 77, 189,  81, 347],\n",
       "       [189, 417, 212, 818]], dtype=int64)"
      ]
     },
     "execution_count": 99,
     "metadata": {},
     "output_type": "execute_result"
    }
   ],
   "source": [
    "z=np.array(z)\n",
    "z"
   ]
  },
  {
   "cell_type": "markdown",
   "id": "de22f12b",
   "metadata": {},
   "source": [
    "Confidence Interval for France to win in friendly matches:"
   ]
  },
  {
   "cell_type": "code",
   "execution_count": 100,
   "id": "0c2a5ffd",
   "metadata": {},
   "outputs": [
    {
     "data": {
      "text/plain": [
       "(0.2376654895121334, 0.3185977801269324)"
      ]
     },
     "execution_count": 100,
     "metadata": {},
     "output_type": "execute_result"
    }
   ],
   "source": [
    "CI_frawin_friendly=proportion_confint(count=z[0,2],nobs=z[0,3],alpha=(1-.95))\n",
    "CI_frawin_friendly"
   ]
  },
  {
   "cell_type": "markdown",
   "id": "6467018d",
   "metadata": {},
   "source": [
    "Confidence Interval for France to win in official matches:"
   ]
  },
  {
   "cell_type": "code",
   "execution_count": 101,
   "id": "17d19e91",
   "metadata": {},
   "outputs": [
    {
     "data": {
      "text/plain": [
       "(0.18892148425887595, 0.27793730536648426)"
      ]
     },
     "execution_count": 101,
     "metadata": {},
     "output_type": "execute_result"
    }
   ],
   "source": [
    "CI_frawin_official=proportion_confint(count=z[1,2],nobs=z[1,3],alpha=(1-.95))\n",
    "CI_frawin_official"
   ]
  },
  {
   "cell_type": "markdown",
   "id": "12a2852f",
   "metadata": {},
   "source": [
    "Confidence interval to win in friendly matches against win in official matches for France:"
   ]
  },
  {
   "cell_type": "code",
   "execution_count": 102,
   "id": "ec62a2dc",
   "metadata": {},
   "outputs": [
    {
     "data": {
      "text/html": [
       "<div>\n",
       "<style scoped>\n",
       "    .dataframe tbody tr th:only-of-type {\n",
       "        vertical-align: middle;\n",
       "    }\n",
       "\n",
       "    .dataframe tbody tr th {\n",
       "        vertical-align: top;\n",
       "    }\n",
       "\n",
       "    .dataframe thead th {\n",
       "        text-align: right;\n",
       "    }\n",
       "</style>\n",
       "<table border=\"1\" class=\"dataframe\">\n",
       "  <thead>\n",
       "    <tr style=\"text-align: right;\">\n",
       "      <th></th>\n",
       "      <th>typeofmatch</th>\n",
       "      <th>lb</th>\n",
       "      <th>ub</th>\n",
       "    </tr>\n",
       "  </thead>\n",
       "  <tbody>\n",
       "    <tr>\n",
       "      <th>0</th>\n",
       "      <td>Friendly</td>\n",
       "      <td>0.237665</td>\n",
       "      <td>0.318598</td>\n",
       "    </tr>\n",
       "    <tr>\n",
       "      <th>1</th>\n",
       "      <td>Official</td>\n",
       "      <td>0.188921</td>\n",
       "      <td>0.277937</td>\n",
       "    </tr>\n",
       "  </tbody>\n",
       "</table>\n",
       "</div>"
      ],
      "text/plain": [
       "  typeofmatch        lb        ub\n",
       "0    Friendly  0.237665  0.318598\n",
       "1    Official  0.188921  0.277937"
      ]
     },
     "execution_count": 102,
     "metadata": {},
     "output_type": "execute_result"
    }
   ],
   "source": [
    "ci_frawin = {}\n",
    "ci_frawin['typeofmatch'] = ['Friendly','Official']\n",
    "ci_frawin['lb'] = [CI_frawin_friendly[0],CI_frawin_official[0]]\n",
    "ci_frawin['ub'] = [CI_frawin_friendly[1],CI_frawin_official[1]]\n",
    "df_ci= pd.DataFrame(ci_frawin)\n",
    "df_ci"
   ]
  },
  {
   "cell_type": "code",
   "execution_count": 103,
   "id": "6bebaee6",
   "metadata": {},
   "outputs": [
    {
     "data": {
      "text/plain": [
       "([<matplotlib.axis.YTick at 0x23f87712ee0>,\n",
       "  <matplotlib.axis.YTick at 0x23f87712760>],\n",
       " [Text(0, 0, 'Friendly'), Text(0, 1, 'Official')])"
      ]
     },
     "execution_count": 103,
     "metadata": {},
     "output_type": "execute_result"
    },
    {
     "data": {
      "image/png": "[encoded data removed]",
      "text/plain": [
       "<Figure size 432x288 with 1 Axes>"
      ]
     },
     "metadata": {
      "needs_background": "light"
     },
     "output_type": "display_data"
    }
   ],
   "source": [
    "import matplotlib.pyplot as plt\n",
    "for lb,ub,y in zip(df_ci['lb'],df_ci['ub'],range(len(df_ci))):\n",
    "    plt.plot((lb,ub),(y,y),'ro-')\n",
    "plt.yticks(range(len(df_ci)),list(df_ci['typeofmatch']))"
   ]
  },
  {
   "cell_type": "markdown",
   "id": "736d1fea",
   "metadata": {},
   "source": [
    "We can see from the graph above that there is only a slight difference in confidence level interval when it comes to friendly/official matches for France which indicates that France's performance is not really affected by the type of tournament"
   ]
  },
  {
   "cell_type": "markdown",
   "id": "d0fdfa7b",
   "metadata": {},
   "source": [
    "Now for France, lets observe their probability to lose in both Friendly and Official matches:"
   ]
  },
  {
   "cell_type": "markdown",
   "id": "3e83ea64",
   "metadata": {},
   "source": [
    "Confidence Interval for France to win in friendly matches:"
   ]
  },
  {
   "cell_type": "code",
   "execution_count": 104,
   "id": "86490805",
   "metadata": {},
   "outputs": [
    {
     "data": {
      "text/plain": [
       "(0.8644148303341544, 0.9379567111678219)"
      ]
     },
     "execution_count": 104,
     "metadata": {},
     "output_type": "execute_result"
    }
   ],
   "source": [
    "CI_fralose_friendly=proportion_confint(count=z[0,1],nobs=x[0,3],alpha=(1-.95))\n",
    "CI_fralose_friendly"
   ]
  },
  {
   "cell_type": "markdown",
   "id": "ffa9de59",
   "metadata": {},
   "source": [
    "Confidence Interval for France to lose in official matches:"
   ]
  },
  {
   "cell_type": "code",
   "execution_count": 105,
   "id": "a38cba11",
   "metadata": {},
   "outputs": [
    {
     "data": {
      "text/plain": [
       "(0.4922707551354989, 0.5970664206570083)"
      ]
     },
     "execution_count": 105,
     "metadata": {},
     "output_type": "execute_result"
    }
   ],
   "source": [
    "CI_fralose_official=proportion_confint(count=z[1,1],nobs=z[1,3],alpha=(1-.95))\n",
    "CI_fralose_official"
   ]
  },
  {
   "cell_type": "code",
   "execution_count": 106,
   "id": "2f8a3fdd",
   "metadata": {},
   "outputs": [
    {
     "data": {
      "text/html": [
       "<div>\n",
       "<style scoped>\n",
       "    .dataframe tbody tr th:only-of-type {\n",
       "        vertical-align: middle;\n",
       "    }\n",
       "\n",
       "    .dataframe tbody tr th {\n",
       "        vertical-align: top;\n",
       "    }\n",
       "\n",
       "    .dataframe thead th {\n",
       "        text-align: right;\n",
       "    }\n",
       "</style>\n",
       "<table border=\"1\" class=\"dataframe\">\n",
       "  <thead>\n",
       "    <tr style=\"text-align: right;\">\n",
       "      <th></th>\n",
       "      <th>typeofmatch</th>\n",
       "      <th>lb</th>\n",
       "      <th>ub</th>\n",
       "    </tr>\n",
       "  </thead>\n",
       "  <tbody>\n",
       "    <tr>\n",
       "      <th>0</th>\n",
       "      <td>Friendly</td>\n",
       "      <td>0.864415</td>\n",
       "      <td>0.937957</td>\n",
       "    </tr>\n",
       "    <tr>\n",
       "      <th>1</th>\n",
       "      <td>Official</td>\n",
       "      <td>0.492271</td>\n",
       "      <td>0.597066</td>\n",
       "    </tr>\n",
       "  </tbody>\n",
       "</table>\n",
       "</div>"
      ],
      "text/plain": [
       "  typeofmatch        lb        ub\n",
       "0    Friendly  0.864415  0.937957\n",
       "1    Official  0.492271  0.597066"
      ]
     },
     "execution_count": 106,
     "metadata": {},
     "output_type": "execute_result"
    }
   ],
   "source": [
    "ci_fralose = {}\n",
    "ci_fralose['typeofmatch'] = ['Friendly','Official']\n",
    "ci_fralose['lb'] = [CI_fralose_friendly[0],CI_fralose_official[0]]\n",
    "ci_fralose['ub'] = [CI_fralose_friendly[1],CI_fralose_official[1]]\n",
    "df_ci= pd.DataFrame(ci_fralose)\n",
    "df_ci"
   ]
  },
  {
   "cell_type": "code",
   "execution_count": 107,
   "id": "43a51903",
   "metadata": {},
   "outputs": [
    {
     "data": {
      "text/plain": [
       "([<matplotlib.axis.YTick at 0x23f877730a0>,\n",
       "  <matplotlib.axis.YTick at 0x23f8776b8e0>],\n",
       " [Text(0, 0, 'Friendly'), Text(0, 1, 'Official')])"
      ]
     },
     "execution_count": 107,
     "metadata": {},
     "output_type": "execute_result"
    },
    {
     "data": {
      "image/png": "[encoded data removed]",
      "text/plain": [
       "<Figure size 432x288 with 1 Axes>"
      ]
     },
     "metadata": {
      "needs_background": "light"
     },
     "output_type": "display_data"
    }
   ],
   "source": [
    "import matplotlib.pyplot as plt\n",
    "for lb,ub,y in zip(df_ci['lb'],df_ci['ub'],range(len(df_ci))):\n",
    "    plt.plot((lb,ub),(y,y),'ro-')\n",
    "plt.yticks(range(len(df_ci)),list(df_ci['typeofmatch']))"
   ]
  },
  {
   "cell_type": "markdown",
   "id": "6c9b4379",
   "metadata": {},
   "source": [
    "We can see from the graph above that there is a slight difference in confidence level interval when it comes to friendly/official matches for France which indicates that France's performance is slightly affected by the type of tournament. "
   ]
  },
  {
   "cell_type": "markdown",
   "id": "c30acea2",
   "metadata": {},
   "source": [
    "Now lets compare the probability of winning/losing between home matches and away matches for France. This would give a picture on whether the fans have an impact or not"
   ]
  },
  {
   "cell_type": "markdown",
   "id": "c2b96314",
   "metadata": {},
   "source": [
    "For France to win home/away:"
   ]
  },
  {
   "cell_type": "code",
   "execution_count": 108,
   "id": "46b18d65",
   "metadata": {},
   "outputs": [
    {
     "name": "stderr",
     "output_type": "stream",
     "text": [
      "C:\\Users\\user\\AppData\\Local\\Temp/ipykernel_89840/1181979322.py:1: SettingWithCopyWarning: \n",
      "A value is trying to be set on a copy of a slice from a DataFrame.\n",
      "Try using .loc[row_indexer,col_indexer] = value instead\n",
      "\n",
      "See the caveats in the documentation: https://pandas.pydata.org/pandas-docs/stable/user_guide/indexing.html#returning-a-view-versus-a-copy\n",
      "  fra['home']=(fra['home_team']=='France')\n"
     ]
    }
   ],
   "source": [
    "fra['home']=(fra['home_team']=='France')"
   ]
  },
  {
   "cell_type": "code",
   "execution_count": 109,
   "id": "fba7a928",
   "metadata": {},
   "outputs": [
    {
     "data": {
      "text/plain": [
       "True     443\n",
       "False    375\n",
       "Name: home, dtype: int64"
      ]
     },
     "execution_count": 109,
     "metadata": {},
     "output_type": "execute_result"
    }
   ],
   "source": [
    "fra['home'].value_counts()"
   ]
  },
  {
   "cell_type": "code",
   "execution_count": 110,
   "id": "fa83902c",
   "metadata": {},
   "outputs": [
    {
     "data": {
      "text/html": [
       "<div>\n",
       "<style scoped>\n",
       "    .dataframe tbody tr th:only-of-type {\n",
       "        vertical-align: middle;\n",
       "    }\n",
       "\n",
       "    .dataframe tbody tr th {\n",
       "        vertical-align: top;\n",
       "    }\n",
       "\n",
       "    .dataframe thead th {\n",
       "        text-align: right;\n",
       "    }\n",
       "</style>\n",
       "<table border=\"1\" class=\"dataframe\">\n",
       "  <thead>\n",
       "    <tr style=\"text-align: right;\">\n",
       "      <th>result</th>\n",
       "      <th>draw</th>\n",
       "      <th>lose</th>\n",
       "      <th>win</th>\n",
       "      <th>All</th>\n",
       "    </tr>\n",
       "    <tr>\n",
       "      <th>home</th>\n",
       "      <th></th>\n",
       "      <th></th>\n",
       "      <th></th>\n",
       "      <th></th>\n",
       "    </tr>\n",
       "  </thead>\n",
       "  <tbody>\n",
       "    <tr>\n",
       "      <th>False</th>\n",
       "      <td>100</td>\n",
       "      <td>157</td>\n",
       "      <td>118</td>\n",
       "      <td>375</td>\n",
       "    </tr>\n",
       "    <tr>\n",
       "      <th>True</th>\n",
       "      <td>89</td>\n",
       "      <td>260</td>\n",
       "      <td>94</td>\n",
       "      <td>443</td>\n",
       "    </tr>\n",
       "    <tr>\n",
       "      <th>All</th>\n",
       "      <td>189</td>\n",
       "      <td>417</td>\n",
       "      <td>212</td>\n",
       "      <td>818</td>\n",
       "    </tr>\n",
       "  </tbody>\n",
       "</table>\n",
       "</div>"
      ],
      "text/plain": [
       "result  draw  lose  win  All\n",
       "home                        \n",
       "False    100   157  118  375\n",
       "True      89   260   94  443\n",
       "All      189   417  212  818"
      ]
     },
     "execution_count": 110,
     "metadata": {},
     "output_type": "execute_result"
    }
   ],
   "source": [
    "z=pd.crosstab(fra['home'],fra['result'],margins=True)\n",
    "z"
   ]
  },
  {
   "cell_type": "code",
   "execution_count": 111,
   "id": "253c1042",
   "metadata": {},
   "outputs": [
    {
     "data": {
      "text/plain": [
       "array([[100, 157, 118, 375],\n",
       "       [ 89, 260,  94, 443],\n",
       "       [189, 417, 212, 818]], dtype=int64)"
      ]
     },
     "execution_count": 111,
     "metadata": {},
     "output_type": "execute_result"
    }
   ],
   "source": [
    "z=np.array(z)\n",
    "z"
   ]
  },
  {
   "cell_type": "markdown",
   "id": "06707dc1",
   "metadata": {},
   "source": [
    "Confidence Interval for France to win at home"
   ]
  },
  {
   "cell_type": "code",
   "execution_count": 112,
   "id": "0b5349e6",
   "metadata": {},
   "outputs": [
    {
     "data": {
      "text/plain": [
       "(0.17411643713822142, 0.2502627953674219)"
      ]
     },
     "execution_count": 112,
     "metadata": {},
     "output_type": "execute_result"
    }
   ],
   "source": [
    "CI_frawin_home=proportion_confint(count=z[1,2],nobs=z[1,3],alpha=(1-.95))\n",
    "CI_frawin_home"
   ]
  },
  {
   "cell_type": "markdown",
   "id": "3568fdec",
   "metadata": {},
   "source": [
    "Confidence Interval for France to win away:"
   ]
  },
  {
   "cell_type": "code",
   "execution_count": 113,
   "id": "8027670a",
   "metadata": {},
   "outputs": [
    {
     "data": {
      "text/plain": [
       "(0.2676654873825878, 0.3616678459507455)"
      ]
     },
     "execution_count": 113,
     "metadata": {},
     "output_type": "execute_result"
    }
   ],
   "source": [
    "CI_frawin_away=proportion_confint(count=z[0,2],nobs=z[0,3],alpha=(1-.95))\n",
    "CI_frawin_away"
   ]
  },
  {
   "cell_type": "code",
   "execution_count": 114,
   "id": "eeb57772",
   "metadata": {},
   "outputs": [
    {
     "data": {
      "text/html": [
       "<div>\n",
       "<style scoped>\n",
       "    .dataframe tbody tr th:only-of-type {\n",
       "        vertical-align: middle;\n",
       "    }\n",
       "\n",
       "    .dataframe tbody tr th {\n",
       "        vertical-align: top;\n",
       "    }\n",
       "\n",
       "    .dataframe thead th {\n",
       "        text-align: right;\n",
       "    }\n",
       "</style>\n",
       "<table border=\"1\" class=\"dataframe\">\n",
       "  <thead>\n",
       "    <tr style=\"text-align: right;\">\n",
       "      <th></th>\n",
       "      <th>home</th>\n",
       "      <th>lb</th>\n",
       "      <th>ub</th>\n",
       "    </tr>\n",
       "  </thead>\n",
       "  <tbody>\n",
       "    <tr>\n",
       "      <th>0</th>\n",
       "      <td>Yes</td>\n",
       "      <td>0.174116</td>\n",
       "      <td>0.250263</td>\n",
       "    </tr>\n",
       "    <tr>\n",
       "      <th>1</th>\n",
       "      <td>No</td>\n",
       "      <td>0.267665</td>\n",
       "      <td>0.361668</td>\n",
       "    </tr>\n",
       "  </tbody>\n",
       "</table>\n",
       "</div>"
      ],
      "text/plain": [
       "  home        lb        ub\n",
       "0  Yes  0.174116  0.250263\n",
       "1   No  0.267665  0.361668"
      ]
     },
     "execution_count": 114,
     "metadata": {},
     "output_type": "execute_result"
    }
   ],
   "source": [
    "ci_frawin = {}\n",
    "ci_frawin['home'] = ['Yes','No']\n",
    "ci_frawin['lb'] = [CI_frawin_home[0],CI_frawin_away[0]]\n",
    "ci_frawin['ub'] = [CI_frawin_home[1],CI_frawin_away[1]]\n",
    "df_ci= pd.DataFrame(ci_frawin)\n",
    "df_ci"
   ]
  },
  {
   "cell_type": "code",
   "execution_count": 115,
   "id": "8a99b5f1",
   "metadata": {},
   "outputs": [
    {
     "data": {
      "text/plain": [
       "([<matplotlib.axis.YTick at 0x23f877ceb80>,\n",
       "  <matplotlib.axis.YTick at 0x23f877ce400>],\n",
       " [Text(0, 0, 'Yes'), Text(0, 1, 'No')])"
      ]
     },
     "execution_count": 115,
     "metadata": {},
     "output_type": "execute_result"
    },
    {
     "data": {
      "image/png": "[encoded data removed]",
      "text/plain": [
       "<Figure size 432x288 with 1 Axes>"
      ]
     },
     "metadata": {
      "needs_background": "light"
     },
     "output_type": "display_data"
    }
   ],
   "source": [
    "for lb,ub,y in zip(df_ci['lb'],df_ci['ub'],range(len(df_ci))):\n",
    "    plt.plot((lb,ub),(y,y),'ro-')\n",
    "plt.yticks(range(len(df_ci)),list(df_ci['home']))"
   ]
  },
  {
   "cell_type": "markdown",
   "id": "1c7d911e",
   "metadata": {},
   "source": [
    "We can see from the graph above that there is no difference in confidence level interval when it comes to away/at home matches for France which indicates that France's performance to win is not really affected by the place they are playing in"
   ]
  },
  {
   "cell_type": "code",
   "execution_count": 150,
   "id": "92b01165",
   "metadata": {},
   "outputs": [
    {
     "data": {
      "text/html": [
       "<div>\n",
       "<style scoped>\n",
       "    .dataframe tbody tr th:only-of-type {\n",
       "        vertical-align: middle;\n",
       "    }\n",
       "\n",
       "    .dataframe tbody tr th {\n",
       "        vertical-align: top;\n",
       "    }\n",
       "\n",
       "    .dataframe thead tr th {\n",
       "        text-align: left;\n",
       "    }\n",
       "\n",
       "    .dataframe thead tr:last-of-type th {\n",
       "        text-align: right;\n",
       "    }\n",
       "</style>\n",
       "<table border=\"1\" class=\"dataframe\">\n",
       "  <thead>\n",
       "    <tr>\n",
       "      <th></th>\n",
       "      <th colspan=\"5\" halign=\"left\">ddeaths</th>\n",
       "    </tr>\n",
       "    <tr>\n",
       "      <th></th>\n",
       "      <th>mean</th>\n",
       "      <th>std</th>\n",
       "      <th>size</th>\n",
       "      <th>get_ci_lb</th>\n",
       "      <th>get_ci_ub</th>\n",
       "    </tr>\n",
       "    <tr>\n",
       "      <th>weekdays</th>\n",
       "      <th></th>\n",
       "      <th></th>\n",
       "      <th></th>\n",
       "      <th></th>\n",
       "      <th></th>\n",
       "    </tr>\n",
       "  </thead>\n",
       "  <tbody>\n",
       "    <tr>\n",
       "      <th>Fri</th>\n",
       "      <td>86.371606</td>\n",
       "      <td>273.598459</td>\n",
       "      <td>9798</td>\n",
       "      <td>80.953511</td>\n",
       "      <td>91.789702</td>\n",
       "    </tr>\n",
       "    <tr>\n",
       "      <th>Sat</th>\n",
       "      <td>77.663133</td>\n",
       "      <td>241.216633</td>\n",
       "      <td>9057</td>\n",
       "      <td>72.694680</td>\n",
       "      <td>82.631587</td>\n",
       "    </tr>\n",
       "    <tr>\n",
       "      <th>Sun</th>\n",
       "      <td>61.396673</td>\n",
       "      <td>188.673061</td>\n",
       "      <td>9078</td>\n",
       "      <td>57.514984</td>\n",
       "      <td>65.278363</td>\n",
       "    </tr>\n",
       "    <tr>\n",
       "      <th>Mon</th>\n",
       "      <td>68.080364</td>\n",
       "      <td>203.627426</td>\n",
       "      <td>9768</td>\n",
       "      <td>64.041722</td>\n",
       "      <td>72.119006</td>\n",
       "    </tr>\n",
       "    <tr>\n",
       "      <th>Tue</th>\n",
       "      <td>88.926919</td>\n",
       "      <td>299.738615</td>\n",
       "      <td>10030</td>\n",
       "      <td>83.060235</td>\n",
       "      <td>94.793604</td>\n",
       "    </tr>\n",
       "    <tr>\n",
       "      <th>Wed</th>\n",
       "      <td>89.443762</td>\n",
       "      <td>292.661979</td>\n",
       "      <td>10091</td>\n",
       "      <td>83.732930</td>\n",
       "      <td>95.154594</td>\n",
       "    </tr>\n",
       "    <tr>\n",
       "      <th>Thu</th>\n",
       "      <td>87.884836</td>\n",
       "      <td>293.387765</td>\n",
       "      <td>9951</td>\n",
       "      <td>82.119700</td>\n",
       "      <td>93.649972</td>\n",
       "    </tr>\n",
       "  </tbody>\n",
       "</table>\n",
       "</div>"
      ],
      "text/plain": [
       "            ddeaths                                         \n",
       "               mean         std   size  get_ci_lb  get_ci_ub\n",
       "weekdays                                                    \n",
       "Fri       86.371606  273.598459   9798  80.953511  91.789702\n",
       "Sat       77.663133  241.216633   9057  72.694680  82.631587\n",
       "Sun       61.396673  188.673061   9078  57.514984  65.278363\n",
       "Mon       68.080364  203.627426   9768  64.041722  72.119006\n",
       "Tue       88.926919  299.738615  10030  83.060235  94.793604\n",
       "Wed       89.443762  292.661979  10091  83.732930  95.154594\n",
       "Thu       87.884836  293.387765   9951  82.119700  93.649972"
      ]
     },
     "execution_count": 150,
     "metadata": {},
     "output_type": "execute_result"
    }
   ],
   "source": [
    "stats2=df.groupby(\"weekdays\").agg({\"ddeaths\": [np.mean, np.std, np.size, get_ci_lb, get_ci_ub]})\n",
    "stats2"
   ]
  },
  {
   "cell_type": "markdown",
   "id": "84d90456",
   "metadata": {},
   "source": [
    "For France to lose home/away:"
   ]
  },
  {
   "cell_type": "markdown",
   "id": "caa45025",
   "metadata": {},
   "source": [
    "Confidence Interval for France to lose at home:"
   ]
  },
  {
   "cell_type": "code",
   "execution_count": 116,
   "id": "91ba6158",
   "metadata": {},
   "outputs": [
    {
     "data": {
      "text/plain": [
       "(0.541055825404375, 0.6327590730154896)"
      ]
     },
     "execution_count": 116,
     "metadata": {},
     "output_type": "execute_result"
    }
   ],
   "source": [
    "CI_fralose_home=proportion_confint(count=z[1,1],nobs=z[1,3],alpha=(1-.95))\n",
    "CI_fralose_home"
   ]
  },
  {
   "cell_type": "markdown",
   "id": "4a78ff9e",
   "metadata": {},
   "source": [
    "Confidence Interval for France to lose away:"
   ]
  },
  {
   "cell_type": "code",
   "execution_count": 117,
   "id": "998a93df",
   "metadata": {},
   "outputs": [
    {
     "data": {
      "text/plain": [
       "(0.36873463210645324, 0.46859870122688013)"
      ]
     },
     "execution_count": 117,
     "metadata": {},
     "output_type": "execute_result"
    }
   ],
   "source": [
    "CI_fralose_away=proportion_confint(count=z[0,1],nobs=z[0,3],alpha=(1-.95))\n",
    "CI_fralose_away"
   ]
  },
  {
   "cell_type": "code",
   "execution_count": 118,
   "id": "1fa5502d",
   "metadata": {},
   "outputs": [
    {
     "data": {
      "text/html": [
       "<div>\n",
       "<style scoped>\n",
       "    .dataframe tbody tr th:only-of-type {\n",
       "        vertical-align: middle;\n",
       "    }\n",
       "\n",
       "    .dataframe tbody tr th {\n",
       "        vertical-align: top;\n",
       "    }\n",
       "\n",
       "    .dataframe thead th {\n",
       "        text-align: right;\n",
       "    }\n",
       "</style>\n",
       "<table border=\"1\" class=\"dataframe\">\n",
       "  <thead>\n",
       "    <tr style=\"text-align: right;\">\n",
       "      <th></th>\n",
       "      <th>home</th>\n",
       "      <th>lb</th>\n",
       "      <th>ub</th>\n",
       "    </tr>\n",
       "  </thead>\n",
       "  <tbody>\n",
       "    <tr>\n",
       "      <th>0</th>\n",
       "      <td>Yes</td>\n",
       "      <td>0.541056</td>\n",
       "      <td>0.632759</td>\n",
       "    </tr>\n",
       "    <tr>\n",
       "      <th>1</th>\n",
       "      <td>No</td>\n",
       "      <td>0.368735</td>\n",
       "      <td>0.468599</td>\n",
       "    </tr>\n",
       "  </tbody>\n",
       "</table>\n",
       "</div>"
      ],
      "text/plain": [
       "  home        lb        ub\n",
       "0  Yes  0.541056  0.632759\n",
       "1   No  0.368735  0.468599"
      ]
     },
     "execution_count": 118,
     "metadata": {},
     "output_type": "execute_result"
    }
   ],
   "source": [
    "ci_fralose = {}\n",
    "ci_fralose['home'] = ['Yes','No']\n",
    "ci_fralose['lb'] = [CI_fralose_home[0],CI_fralose_away[0]]\n",
    "ci_fralose['ub'] = [CI_fralose_home[1],CI_fralose_away[1]]\n",
    "df_ci= pd.DataFrame(ci_fralose)\n",
    "df_ci"
   ]
  },
  {
   "cell_type": "code",
   "execution_count": 119,
   "id": "fdc25361",
   "metadata": {},
   "outputs": [
    {
     "data": {
      "text/plain": [
       "([<matplotlib.axis.YTick at 0x23f87831220>,\n",
       "  <matplotlib.axis.YTick at 0x23f8782aa60>],\n",
       " [Text(0, 0, 'Yes'), Text(0, 1, 'No')])"
      ]
     },
     "execution_count": 119,
     "metadata": {},
     "output_type": "execute_result"
    },
    {
     "data": {
      "image/png": "[encoded data removed]",
      "text/plain": [
       "<Figure size 432x288 with 1 Axes>"
      ]
     },
     "metadata": {
      "needs_background": "light"
     },
     "output_type": "display_data"
    }
   ],
   "source": [
    "for lb,ub,y in zip(df_ci['lb'],df_ci['ub'],range(len(df_ci))):\n",
    "    plt.plot((lb,ub),(y,y),'ro-')\n",
    "plt.yticks(range(len(df_ci)),list(df_ci['home']))"
   ]
  },
  {
   "cell_type": "markdown",
   "id": "a8663d7c",
   "metadata": {},
   "source": [
    "We can see from the graph above that there is no difference in confidence level interval when it comes to away/at home matches for France which indicates that France's performance to lose is not really affected by the place they are playing in"
   ]
  },
  {
   "cell_type": "markdown",
   "id": "d1c713ea",
   "metadata": {},
   "source": [
    "I used these codes to find the confidence interval of 95% to win/lose for friendly/official matches. We can conclude that Argentina's performance is the most affected when playing home/away than England and France. This indicates that the fans of Argentina are the most effective in terms of influencing Argentina. However, for friendly and official matches, the three countries seem to only show a slight difference in performance."
   ]
  },
  {
   "cell_type": "markdown",
   "id": "9ae6bd70",
   "metadata": {},
   "source": [
    "# Part 2"
   ]
  },
  {
   "cell_type": "code",
   "execution_count": 21,
   "id": "1f7a0f82",
   "metadata": {},
   "outputs": [],
   "source": [
    "import pandas as pd\n",
    "from scipy.stats import t"
   ]
  },
  {
   "cell_type": "code",
   "execution_count": 15,
   "id": "da68c8f2",
   "metadata": {},
   "outputs": [],
   "source": [
    "df=pd.read_csv('covid_data.csv',encoding='latin-1')"
   ]
  },
  {
   "cell_type": "code",
   "execution_count": 16,
   "id": "71e4ec2b",
   "metadata": {},
   "outputs": [
    {
     "data": {
      "text/html": [
       "<div>\n",
       "<style scoped>\n",
       "    .dataframe tbody tr th:only-of-type {\n",
       "        vertical-align: middle;\n",
       "    }\n",
       "\n",
       "    .dataframe tbody tr th {\n",
       "        vertical-align: top;\n",
       "    }\n",
       "\n",
       "    .dataframe thead th {\n",
       "        text-align: right;\n",
       "    }\n",
       "</style>\n",
       "<table border=\"1\" class=\"dataframe\">\n",
       "  <thead>\n",
       "    <tr style=\"text-align: right;\">\n",
       "      <th></th>\n",
       "      <th>date</th>\n",
       "      <th>iso3c</th>\n",
       "      <th>country</th>\n",
       "      <th>income</th>\n",
       "      <th>region</th>\n",
       "      <th>continent</th>\n",
       "      <th>dcases</th>\n",
       "      <th>ddeaths</th>\n",
       "      <th>population</th>\n",
       "      <th>weekdays</th>\n",
       "      <th>month</th>\n",
       "    </tr>\n",
       "  </thead>\n",
       "  <tbody>\n",
       "    <tr>\n",
       "      <th>0</th>\n",
       "      <td>2020-02-24</td>\n",
       "      <td>AFG</td>\n",
       "      <td>Afghanistan</td>\n",
       "      <td>Low income</td>\n",
       "      <td>South Asia</td>\n",
       "      <td>Asia</td>\n",
       "      <td>5</td>\n",
       "      <td>0</td>\n",
       "      <td>38041754</td>\n",
       "      <td>Mon</td>\n",
       "      <td>Feb</td>\n",
       "    </tr>\n",
       "    <tr>\n",
       "      <th>1</th>\n",
       "      <td>2020-02-25</td>\n",
       "      <td>AFG</td>\n",
       "      <td>Afghanistan</td>\n",
       "      <td>Low income</td>\n",
       "      <td>South Asia</td>\n",
       "      <td>Asia</td>\n",
       "      <td>0</td>\n",
       "      <td>0</td>\n",
       "      <td>38041754</td>\n",
       "      <td>Tue</td>\n",
       "      <td>Feb</td>\n",
       "    </tr>\n",
       "    <tr>\n",
       "      <th>2</th>\n",
       "      <td>2020-02-26</td>\n",
       "      <td>AFG</td>\n",
       "      <td>Afghanistan</td>\n",
       "      <td>Low income</td>\n",
       "      <td>South Asia</td>\n",
       "      <td>Asia</td>\n",
       "      <td>0</td>\n",
       "      <td>0</td>\n",
       "      <td>38041754</td>\n",
       "      <td>Wed</td>\n",
       "      <td>Feb</td>\n",
       "    </tr>\n",
       "    <tr>\n",
       "      <th>3</th>\n",
       "      <td>2020-02-27</td>\n",
       "      <td>AFG</td>\n",
       "      <td>Afghanistan</td>\n",
       "      <td>Low income</td>\n",
       "      <td>South Asia</td>\n",
       "      <td>Asia</td>\n",
       "      <td>0</td>\n",
       "      <td>0</td>\n",
       "      <td>38041754</td>\n",
       "      <td>Thu</td>\n",
       "      <td>Feb</td>\n",
       "    </tr>\n",
       "    <tr>\n",
       "      <th>4</th>\n",
       "      <td>2020-02-28</td>\n",
       "      <td>AFG</td>\n",
       "      <td>Afghanistan</td>\n",
       "      <td>Low income</td>\n",
       "      <td>South Asia</td>\n",
       "      <td>Asia</td>\n",
       "      <td>0</td>\n",
       "      <td>0</td>\n",
       "      <td>38041754</td>\n",
       "      <td>Fri</td>\n",
       "      <td>Feb</td>\n",
       "    </tr>\n",
       "  </tbody>\n",
       "</table>\n",
       "</div>"
      ],
      "text/plain": [
       "         date iso3c      country      income      region continent  dcases  \\\n",
       "0  2020-02-24   AFG  Afghanistan  Low income  South Asia      Asia       5   \n",
       "1  2020-02-25   AFG  Afghanistan  Low income  South Asia      Asia       0   \n",
       "2  2020-02-26   AFG  Afghanistan  Low income  South Asia      Asia       0   \n",
       "3  2020-02-27   AFG  Afghanistan  Low income  South Asia      Asia       0   \n",
       "4  2020-02-28   AFG  Afghanistan  Low income  South Asia      Asia       0   \n",
       "\n",
       "   ddeaths  population weekdays month  \n",
       "0        0    38041754      Mon   Feb  \n",
       "1        0    38041754      Tue   Feb  \n",
       "2        0    38041754      Wed   Feb  \n",
       "3        0    38041754      Thu   Feb  \n",
       "4        0    38041754      Fri   Feb  "
      ]
     },
     "execution_count": 16,
     "metadata": {},
     "output_type": "execute_result"
    }
   ],
   "source": [
    "df.head()"
   ]
  },
  {
   "cell_type": "code",
   "execution_count": 17,
   "id": "90e33869",
   "metadata": {},
   "outputs": [],
   "source": [
    "from pandas.api.types import CategoricalDtype\n",
    "cats=['Fri', 'Sat', 'Sun','Mon','Tue','Wed','Thu']\n",
    "cat_type = CategoricalDtype(categories=cats, ordered=True)\n",
    "df['weekdays'] = df['weekdays'].astype(cat_type)"
   ]
  },
  {
   "cell_type": "code",
   "execution_count": 18,
   "id": "6b22d378",
   "metadata": {},
   "outputs": [],
   "source": [
    "from pandas.api.types import CategoricalDtype\n",
    "cats=['Jan', 'Feb', 'Mar','Apr','May','Jun','Jul','Aug','Sep','Oct','Nov','Dec']\n",
    "cat_type = CategoricalDtype(categories=cats, ordered=True)\n",
    "df['month'] = df['month'].astype(cat_type)"
   ]
  },
  {
   "cell_type": "code",
   "execution_count": 19,
   "id": "8fe6907f",
   "metadata": {},
   "outputs": [],
   "source": [
    "def get_ci_lb(x, alpha=0.05):\n",
    "    sample_s=np.std(x)\n",
    "    sample_mean=np.mean(x)\n",
    "    sample_size=len(x)\n",
    "    margin_of_error = t.ppf(1 - alpha/2,sample_size-1)*sample_s/np.sqrt(sample_size-1)\n",
    "    return sample_mean - margin_of_error\n",
    "\n",
    "def get_ci_ub(x, alpha=0.05):\n",
    "    sample_s=np.std(x)\n",
    "    sample_mean=np.mean(x)\n",
    "    sample_size=len(x)\n",
    "    margin_of_error = t.ppf(1 - alpha/2,sample_size-1)*sample_s/np.sqrt(sample_size-1)\n",
    "    return sample_mean + margin_of_error"
   ]
  },
  {
   "cell_type": "markdown",
   "id": "17d861de",
   "metadata": {},
   "source": [
    "I will now compute a new column that describes the year "
   ]
  },
  {
   "cell_type": "code",
   "execution_count": 25,
   "id": "cc8b2080",
   "metadata": {},
   "outputs": [
    {
     "data": {
      "text/plain": [
       "2020"
      ]
     },
     "execution_count": 25,
     "metadata": {},
     "output_type": "execute_result"
    }
   ],
   "source": [
    "df['date'][0]\n",
    "df['date'] = pd. to_datetime(df['date'],format='%Y-%m-%d')\n",
    "df['date'][0]\n",
    "df['year'] = pd. DatetimeIndex(df['date']). year\n",
    "df['year'][0]"
   ]
  },
  {
   "cell_type": "markdown",
   "id": "12d2b673",
   "metadata": {},
   "source": [
    "The daily reported number of confirmed cases for 2020 and 2021:"
   ]
  },
  {
   "cell_type": "markdown",
   "id": "897af48a",
   "metadata": {},
   "source": [
    "Daily reported number of cases for 2020 only:"
   ]
  },
  {
   "cell_type": "code",
   "execution_count": 28,
   "id": "6a82ecf1",
   "metadata": {},
   "outputs": [
    {
     "data": {
      "text/html": [
       "<div>\n",
       "<style scoped>\n",
       "    .dataframe tbody tr th:only-of-type {\n",
       "        vertical-align: middle;\n",
       "    }\n",
       "\n",
       "    .dataframe tbody tr th {\n",
       "        vertical-align: top;\n",
       "    }\n",
       "\n",
       "    .dataframe thead th {\n",
       "        text-align: right;\n",
       "    }\n",
       "</style>\n",
       "<table border=\"1\" class=\"dataframe\">\n",
       "  <thead>\n",
       "    <tr style=\"text-align: right;\">\n",
       "      <th></th>\n",
       "      <th>date</th>\n",
       "      <th>iso3c</th>\n",
       "      <th>country</th>\n",
       "      <th>income</th>\n",
       "      <th>region</th>\n",
       "      <th>continent</th>\n",
       "      <th>dcases</th>\n",
       "      <th>ddeaths</th>\n",
       "      <th>population</th>\n",
       "      <th>weekdays</th>\n",
       "      <th>month</th>\n",
       "      <th>year</th>\n",
       "    </tr>\n",
       "  </thead>\n",
       "  <tbody>\n",
       "    <tr>\n",
       "      <th>0</th>\n",
       "      <td>2020-02-24</td>\n",
       "      <td>AFG</td>\n",
       "      <td>Afghanistan</td>\n",
       "      <td>Low income</td>\n",
       "      <td>South Asia</td>\n",
       "      <td>Asia</td>\n",
       "      <td>5</td>\n",
       "      <td>0</td>\n",
       "      <td>38041754</td>\n",
       "      <td>Mon</td>\n",
       "      <td>Feb</td>\n",
       "      <td>2020</td>\n",
       "    </tr>\n",
       "    <tr>\n",
       "      <th>1</th>\n",
       "      <td>2020-02-25</td>\n",
       "      <td>AFG</td>\n",
       "      <td>Afghanistan</td>\n",
       "      <td>Low income</td>\n",
       "      <td>South Asia</td>\n",
       "      <td>Asia</td>\n",
       "      <td>0</td>\n",
       "      <td>0</td>\n",
       "      <td>38041754</td>\n",
       "      <td>Tue</td>\n",
       "      <td>Feb</td>\n",
       "      <td>2020</td>\n",
       "    </tr>\n",
       "    <tr>\n",
       "      <th>2</th>\n",
       "      <td>2020-02-26</td>\n",
       "      <td>AFG</td>\n",
       "      <td>Afghanistan</td>\n",
       "      <td>Low income</td>\n",
       "      <td>South Asia</td>\n",
       "      <td>Asia</td>\n",
       "      <td>0</td>\n",
       "      <td>0</td>\n",
       "      <td>38041754</td>\n",
       "      <td>Wed</td>\n",
       "      <td>Feb</td>\n",
       "      <td>2020</td>\n",
       "    </tr>\n",
       "    <tr>\n",
       "      <th>3</th>\n",
       "      <td>2020-02-27</td>\n",
       "      <td>AFG</td>\n",
       "      <td>Afghanistan</td>\n",
       "      <td>Low income</td>\n",
       "      <td>South Asia</td>\n",
       "      <td>Asia</td>\n",
       "      <td>0</td>\n",
       "      <td>0</td>\n",
       "      <td>38041754</td>\n",
       "      <td>Thu</td>\n",
       "      <td>Feb</td>\n",
       "      <td>2020</td>\n",
       "    </tr>\n",
       "    <tr>\n",
       "      <th>4</th>\n",
       "      <td>2020-02-28</td>\n",
       "      <td>AFG</td>\n",
       "      <td>Afghanistan</td>\n",
       "      <td>Low income</td>\n",
       "      <td>South Asia</td>\n",
       "      <td>Asia</td>\n",
       "      <td>0</td>\n",
       "      <td>0</td>\n",
       "      <td>38041754</td>\n",
       "      <td>Fri</td>\n",
       "      <td>Feb</td>\n",
       "      <td>2020</td>\n",
       "    </tr>\n",
       "    <tr>\n",
       "      <th>...</th>\n",
       "      <td>...</td>\n",
       "      <td>...</td>\n",
       "      <td>...</td>\n",
       "      <td>...</td>\n",
       "      <td>...</td>\n",
       "      <td>...</td>\n",
       "      <td>...</td>\n",
       "      <td>...</td>\n",
       "      <td>...</td>\n",
       "      <td>...</td>\n",
       "      <td>...</td>\n",
       "      <td>...</td>\n",
       "    </tr>\n",
       "    <tr>\n",
       "      <th>122473</th>\n",
       "      <td>2020-12-27</td>\n",
       "      <td>ZWE</td>\n",
       "      <td>Zimbabwe</td>\n",
       "      <td>Lower middle income</td>\n",
       "      <td>Sub-Saharan Africa</td>\n",
       "      <td>Africa</td>\n",
       "      <td>114</td>\n",
       "      <td>8</td>\n",
       "      <td>14645468</td>\n",
       "      <td>Sun</td>\n",
       "      <td>Dec</td>\n",
       "      <td>2020</td>\n",
       "    </tr>\n",
       "    <tr>\n",
       "      <th>122474</th>\n",
       "      <td>2020-12-28</td>\n",
       "      <td>ZWE</td>\n",
       "      <td>Zimbabwe</td>\n",
       "      <td>Lower middle income</td>\n",
       "      <td>Sub-Saharan Africa</td>\n",
       "      <td>Africa</td>\n",
       "      <td>71</td>\n",
       "      <td>5</td>\n",
       "      <td>14645468</td>\n",
       "      <td>Mon</td>\n",
       "      <td>Dec</td>\n",
       "      <td>2020</td>\n",
       "    </tr>\n",
       "    <tr>\n",
       "      <th>122475</th>\n",
       "      <td>2020-12-29</td>\n",
       "      <td>ZWE</td>\n",
       "      <td>Zimbabwe</td>\n",
       "      <td>Lower middle income</td>\n",
       "      <td>Sub-Saharan Africa</td>\n",
       "      <td>Africa</td>\n",
       "      <td>177</td>\n",
       "      <td>5</td>\n",
       "      <td>14645468</td>\n",
       "      <td>Tue</td>\n",
       "      <td>Dec</td>\n",
       "      <td>2020</td>\n",
       "    </tr>\n",
       "    <tr>\n",
       "      <th>122476</th>\n",
       "      <td>2020-12-30</td>\n",
       "      <td>ZWE</td>\n",
       "      <td>Zimbabwe</td>\n",
       "      <td>Lower middle income</td>\n",
       "      <td>Sub-Saharan Africa</td>\n",
       "      <td>Africa</td>\n",
       "      <td>300</td>\n",
       "      <td>1</td>\n",
       "      <td>14645468</td>\n",
       "      <td>Wed</td>\n",
       "      <td>Dec</td>\n",
       "      <td>2020</td>\n",
       "    </tr>\n",
       "    <tr>\n",
       "      <th>122477</th>\n",
       "      <td>2020-12-31</td>\n",
       "      <td>ZWE</td>\n",
       "      <td>Zimbabwe</td>\n",
       "      <td>Lower middle income</td>\n",
       "      <td>Sub-Saharan Africa</td>\n",
       "      <td>Africa</td>\n",
       "      <td>242</td>\n",
       "      <td>3</td>\n",
       "      <td>14645468</td>\n",
       "      <td>Thu</td>\n",
       "      <td>Dec</td>\n",
       "      <td>2020</td>\n",
       "    </tr>\n",
       "  </tbody>\n",
       "</table>\n",
       "<p>54958 rows × 12 columns</p>\n",
       "</div>"
      ],
      "text/plain": [
       "             date iso3c      country               income              region  \\\n",
       "0      2020-02-24   AFG  Afghanistan           Low income          South Asia   \n",
       "1      2020-02-25   AFG  Afghanistan           Low income          South Asia   \n",
       "2      2020-02-26   AFG  Afghanistan           Low income          South Asia   \n",
       "3      2020-02-27   AFG  Afghanistan           Low income          South Asia   \n",
       "4      2020-02-28   AFG  Afghanistan           Low income          South Asia   \n",
       "...           ...   ...          ...                  ...                 ...   \n",
       "122473 2020-12-27   ZWE     Zimbabwe  Lower middle income  Sub-Saharan Africa   \n",
       "122474 2020-12-28   ZWE     Zimbabwe  Lower middle income  Sub-Saharan Africa   \n",
       "122475 2020-12-29   ZWE     Zimbabwe  Lower middle income  Sub-Saharan Africa   \n",
       "122476 2020-12-30   ZWE     Zimbabwe  Lower middle income  Sub-Saharan Africa   \n",
       "122477 2020-12-31   ZWE     Zimbabwe  Lower middle income  Sub-Saharan Africa   \n",
       "\n",
       "       continent  dcases  ddeaths  population weekdays month  year  \n",
       "0           Asia       5        0    38041754      Mon   Feb  2020  \n",
       "1           Asia       0        0    38041754      Tue   Feb  2020  \n",
       "2           Asia       0        0    38041754      Wed   Feb  2020  \n",
       "3           Asia       0        0    38041754      Thu   Feb  2020  \n",
       "4           Asia       0        0    38041754      Fri   Feb  2020  \n",
       "...          ...     ...      ...         ...      ...   ...   ...  \n",
       "122473    Africa     114        8    14645468      Sun   Dec  2020  \n",
       "122474    Africa      71        5    14645468      Mon   Dec  2020  \n",
       "122475    Africa     177        5    14645468      Tue   Dec  2020  \n",
       "122476    Africa     300        1    14645468      Wed   Dec  2020  \n",
       "122477    Africa     242        3    14645468      Thu   Dec  2020  \n",
       "\n",
       "[54958 rows x 12 columns]"
      ]
     },
     "execution_count": 28,
     "metadata": {},
     "output_type": "execute_result"
    }
   ],
   "source": [
    "only2020=df[(df['year']==2020)]\n",
    "only2020"
   ]
  },
  {
   "cell_type": "code",
   "execution_count": 30,
   "id": "4785ed45",
   "metadata": {},
   "outputs": [
    {
     "data": {
      "text/html": [
       "<div>\n",
       "<style scoped>\n",
       "    .dataframe tbody tr th:only-of-type {\n",
       "        vertical-align: middle;\n",
       "    }\n",
       "\n",
       "    .dataframe tbody tr th {\n",
       "        vertical-align: top;\n",
       "    }\n",
       "\n",
       "    .dataframe thead tr th {\n",
       "        text-align: left;\n",
       "    }\n",
       "\n",
       "    .dataframe thead tr:last-of-type th {\n",
       "        text-align: right;\n",
       "    }\n",
       "</style>\n",
       "<table border=\"1\" class=\"dataframe\">\n",
       "  <thead>\n",
       "    <tr>\n",
       "      <th></th>\n",
       "      <th colspan=\"5\" halign=\"left\">dcases</th>\n",
       "    </tr>\n",
       "    <tr>\n",
       "      <th></th>\n",
       "      <th>mean</th>\n",
       "      <th>std</th>\n",
       "      <th>size</th>\n",
       "      <th>get_ci_lb</th>\n",
       "      <th>get_ci_ub</th>\n",
       "    </tr>\n",
       "    <tr>\n",
       "      <th>weekdays</th>\n",
       "      <th></th>\n",
       "      <th></th>\n",
       "      <th></th>\n",
       "      <th></th>\n",
       "      <th></th>\n",
       "    </tr>\n",
       "  </thead>\n",
       "  <tbody>\n",
       "    <tr>\n",
       "      <th>Fri</th>\n",
       "      <td>1632.492349</td>\n",
       "      <td>8833.258224</td>\n",
       "      <td>7777</td>\n",
       "      <td>1436.142500</td>\n",
       "      <td>1828.842199</td>\n",
       "    </tr>\n",
       "    <tr>\n",
       "      <th>Sat</th>\n",
       "      <td>1484.606896</td>\n",
       "      <td>8365.079408</td>\n",
       "      <td>7802</td>\n",
       "      <td>1298.962188</td>\n",
       "      <td>1670.251604</td>\n",
       "    </tr>\n",
       "    <tr>\n",
       "      <th>Sun</th>\n",
       "      <td>1264.748243</td>\n",
       "      <td>7002.554530</td>\n",
       "      <td>7825</td>\n",
       "      <td>1109.570437</td>\n",
       "      <td>1419.926049</td>\n",
       "    </tr>\n",
       "    <tr>\n",
       "      <th>Mon</th>\n",
       "      <td>1348.117834</td>\n",
       "      <td>7587.531011</td>\n",
       "      <td>7850</td>\n",
       "      <td>1180.244886</td>\n",
       "      <td>1515.990783</td>\n",
       "    </tr>\n",
       "    <tr>\n",
       "      <th>Tue</th>\n",
       "      <td>1522.476753</td>\n",
       "      <td>8405.377158</td>\n",
       "      <td>7872</td>\n",
       "      <td>1336.769211</td>\n",
       "      <td>1708.184295</td>\n",
       "    </tr>\n",
       "    <tr>\n",
       "      <th>Wed</th>\n",
       "      <td>1628.149760</td>\n",
       "      <td>8764.926602</td>\n",
       "      <td>7906</td>\n",
       "      <td>1434.915347</td>\n",
       "      <td>1821.384172</td>\n",
       "    </tr>\n",
       "    <tr>\n",
       "      <th>Thu</th>\n",
       "      <td>1794.651148</td>\n",
       "      <td>13084.251453</td>\n",
       "      <td>7926</td>\n",
       "      <td>1506.555782</td>\n",
       "      <td>2082.746514</td>\n",
       "    </tr>\n",
       "  </tbody>\n",
       "</table>\n",
       "</div>"
      ],
      "text/plain": [
       "               dcases                                              \n",
       "                 mean           std  size    get_ci_lb    get_ci_ub\n",
       "weekdays                                                           \n",
       "Fri       1632.492349   8833.258224  7777  1436.142500  1828.842199\n",
       "Sat       1484.606896   8365.079408  7802  1298.962188  1670.251604\n",
       "Sun       1264.748243   7002.554530  7825  1109.570437  1419.926049\n",
       "Mon       1348.117834   7587.531011  7850  1180.244886  1515.990783\n",
       "Tue       1522.476753   8405.377158  7872  1336.769211  1708.184295\n",
       "Wed       1628.149760   8764.926602  7906  1434.915347  1821.384172\n",
       "Thu       1794.651148  13084.251453  7926  1506.555782  2082.746514"
      ]
     },
     "execution_count": 30,
     "metadata": {},
     "output_type": "execute_result"
    }
   ],
   "source": [
    "stats=only2020.groupby(\"weekdays\").agg({\"dcases\": [np.mean, np.std, np.size, get_ci_lb, get_ci_ub]})\n",
    "stats"
   ]
  },
  {
   "cell_type": "markdown",
   "id": "0226e5bf",
   "metadata": {},
   "source": [
    "Daily deaths for 2020:"
   ]
  },
  {
   "cell_type": "code",
   "execution_count": 31,
   "id": "8c29855f",
   "metadata": {},
   "outputs": [
    {
     "data": {
      "text/html": [
       "<div>\n",
       "<style scoped>\n",
       "    .dataframe tbody tr th:only-of-type {\n",
       "        vertical-align: middle;\n",
       "    }\n",
       "\n",
       "    .dataframe tbody tr th {\n",
       "        vertical-align: top;\n",
       "    }\n",
       "\n",
       "    .dataframe thead tr th {\n",
       "        text-align: left;\n",
       "    }\n",
       "\n",
       "    .dataframe thead tr:last-of-type th {\n",
       "        text-align: right;\n",
       "    }\n",
       "</style>\n",
       "<table border=\"1\" class=\"dataframe\">\n",
       "  <thead>\n",
       "    <tr>\n",
       "      <th></th>\n",
       "      <th colspan=\"5\" halign=\"left\">ddeaths</th>\n",
       "    </tr>\n",
       "    <tr>\n",
       "      <th></th>\n",
       "      <th>mean</th>\n",
       "      <th>std</th>\n",
       "      <th>size</th>\n",
       "      <th>get_ci_lb</th>\n",
       "      <th>get_ci_ub</th>\n",
       "    </tr>\n",
       "    <tr>\n",
       "      <th>weekdays</th>\n",
       "      <th></th>\n",
       "      <th></th>\n",
       "      <th></th>\n",
       "      <th></th>\n",
       "      <th></th>\n",
       "    </tr>\n",
       "  </thead>\n",
       "  <tbody>\n",
       "    <tr>\n",
       "      <th>Fri</th>\n",
       "      <td>36.808409</td>\n",
       "      <td>155.385910</td>\n",
       "      <td>7777</td>\n",
       "      <td>33.354418</td>\n",
       "      <td>40.262401</td>\n",
       "    </tr>\n",
       "    <tr>\n",
       "      <th>Sat</th>\n",
       "      <td>31.776980</td>\n",
       "      <td>135.878165</td>\n",
       "      <td>7802</td>\n",
       "      <td>28.761460</td>\n",
       "      <td>34.792500</td>\n",
       "    </tr>\n",
       "    <tr>\n",
       "      <th>Sun</th>\n",
       "      <td>25.168179</td>\n",
       "      <td>101.624503</td>\n",
       "      <td>7825</td>\n",
       "      <td>22.916163</td>\n",
       "      <td>27.420195</td>\n",
       "    </tr>\n",
       "    <tr>\n",
       "      <th>Mon</th>\n",
       "      <td>29.045096</td>\n",
       "      <td>125.280366</td>\n",
       "      <td>7850</td>\n",
       "      <td>26.273287</td>\n",
       "      <td>31.816904</td>\n",
       "    </tr>\n",
       "    <tr>\n",
       "      <th>Tue</th>\n",
       "      <td>39.274644</td>\n",
       "      <td>173.014911</td>\n",
       "      <td>7872</td>\n",
       "      <td>35.452071</td>\n",
       "      <td>43.097218</td>\n",
       "    </tr>\n",
       "    <tr>\n",
       "      <th>Wed</th>\n",
       "      <td>39.768657</td>\n",
       "      <td>176.608073</td>\n",
       "      <td>7906</td>\n",
       "      <td>35.875098</td>\n",
       "      <td>43.662216</td>\n",
       "    </tr>\n",
       "    <tr>\n",
       "      <th>Thu</th>\n",
       "      <td>37.976911</td>\n",
       "      <td>168.376400</td>\n",
       "      <td>7926</td>\n",
       "      <td>34.269519</td>\n",
       "      <td>41.684304</td>\n",
       "    </tr>\n",
       "  </tbody>\n",
       "</table>\n",
       "</div>"
      ],
      "text/plain": [
       "            ddeaths                                        \n",
       "               mean         std  size  get_ci_lb  get_ci_ub\n",
       "weekdays                                                   \n",
       "Fri       36.808409  155.385910  7777  33.354418  40.262401\n",
       "Sat       31.776980  135.878165  7802  28.761460  34.792500\n",
       "Sun       25.168179  101.624503  7825  22.916163  27.420195\n",
       "Mon       29.045096  125.280366  7850  26.273287  31.816904\n",
       "Tue       39.274644  173.014911  7872  35.452071  43.097218\n",
       "Wed       39.768657  176.608073  7906  35.875098  43.662216\n",
       "Thu       37.976911  168.376400  7926  34.269519  41.684304"
      ]
     },
     "execution_count": 31,
     "metadata": {},
     "output_type": "execute_result"
    }
   ],
   "source": [
    "stats2=only2020.groupby(\"weekdays\").agg({\"ddeaths\": [np.mean, np.std, np.size, get_ci_lb, get_ci_ub]})\n",
    "stats2"
   ]
  },
  {
   "cell_type": "markdown",
   "id": "a4a2ab22",
   "metadata": {},
   "source": [
    "Daily reported number of cases for 2021 only:"
   ]
  },
  {
   "cell_type": "code",
   "execution_count": 32,
   "id": "8400fdf9",
   "metadata": {},
   "outputs": [
    {
     "data": {
      "text/html": [
       "<div>\n",
       "<style scoped>\n",
       "    .dataframe tbody tr th:only-of-type {\n",
       "        vertical-align: middle;\n",
       "    }\n",
       "\n",
       "    .dataframe tbody tr th {\n",
       "        vertical-align: top;\n",
       "    }\n",
       "\n",
       "    .dataframe thead th {\n",
       "        text-align: right;\n",
       "    }\n",
       "</style>\n",
       "<table border=\"1\" class=\"dataframe\">\n",
       "  <thead>\n",
       "    <tr style=\"text-align: right;\">\n",
       "      <th></th>\n",
       "      <th>date</th>\n",
       "      <th>iso3c</th>\n",
       "      <th>country</th>\n",
       "      <th>income</th>\n",
       "      <th>region</th>\n",
       "      <th>continent</th>\n",
       "      <th>dcases</th>\n",
       "      <th>ddeaths</th>\n",
       "      <th>population</th>\n",
       "      <th>weekdays</th>\n",
       "      <th>month</th>\n",
       "      <th>year</th>\n",
       "    </tr>\n",
       "  </thead>\n",
       "  <tbody>\n",
       "    <tr>\n",
       "      <th>312</th>\n",
       "      <td>2021-01-01</td>\n",
       "      <td>AFG</td>\n",
       "      <td>Afghanistan</td>\n",
       "      <td>Low income</td>\n",
       "      <td>South Asia</td>\n",
       "      <td>Asia</td>\n",
       "      <td>183</td>\n",
       "      <td>12</td>\n",
       "      <td>38041754</td>\n",
       "      <td>Fri</td>\n",
       "      <td>Jan</td>\n",
       "      <td>2021</td>\n",
       "    </tr>\n",
       "    <tr>\n",
       "      <th>313</th>\n",
       "      <td>2021-01-02</td>\n",
       "      <td>AFG</td>\n",
       "      <td>Afghanistan</td>\n",
       "      <td>Low income</td>\n",
       "      <td>South Asia</td>\n",
       "      <td>Asia</td>\n",
       "      <td>73</td>\n",
       "      <td>10</td>\n",
       "      <td>38041754</td>\n",
       "      <td>Sat</td>\n",
       "      <td>Jan</td>\n",
       "      <td>2021</td>\n",
       "    </tr>\n",
       "    <tr>\n",
       "      <th>314</th>\n",
       "      <td>2021-01-03</td>\n",
       "      <td>AFG</td>\n",
       "      <td>Afghanistan</td>\n",
       "      <td>Low income</td>\n",
       "      <td>South Asia</td>\n",
       "      <td>Asia</td>\n",
       "      <td>123</td>\n",
       "      <td>10</td>\n",
       "      <td>38041754</td>\n",
       "      <td>Sun</td>\n",
       "      <td>Jan</td>\n",
       "      <td>2021</td>\n",
       "    </tr>\n",
       "    <tr>\n",
       "      <th>315</th>\n",
       "      <td>2021-01-04</td>\n",
       "      <td>AFG</td>\n",
       "      <td>Afghanistan</td>\n",
       "      <td>Low income</td>\n",
       "      <td>South Asia</td>\n",
       "      <td>Asia</td>\n",
       "      <td>200</td>\n",
       "      <td>9</td>\n",
       "      <td>38041754</td>\n",
       "      <td>Mon</td>\n",
       "      <td>Jan</td>\n",
       "      <td>2021</td>\n",
       "    </tr>\n",
       "    <tr>\n",
       "      <th>316</th>\n",
       "      <td>2021-01-05</td>\n",
       "      <td>AFG</td>\n",
       "      <td>Afghanistan</td>\n",
       "      <td>Low income</td>\n",
       "      <td>South Asia</td>\n",
       "      <td>Asia</td>\n",
       "      <td>102</td>\n",
       "      <td>7</td>\n",
       "      <td>38041754</td>\n",
       "      <td>Tue</td>\n",
       "      <td>Jan</td>\n",
       "      <td>2021</td>\n",
       "    </tr>\n",
       "    <tr>\n",
       "      <th>...</th>\n",
       "      <td>...</td>\n",
       "      <td>...</td>\n",
       "      <td>...</td>\n",
       "      <td>...</td>\n",
       "      <td>...</td>\n",
       "      <td>...</td>\n",
       "      <td>...</td>\n",
       "      <td>...</td>\n",
       "      <td>...</td>\n",
       "      <td>...</td>\n",
       "      <td>...</td>\n",
       "      <td>...</td>\n",
       "    </tr>\n",
       "    <tr>\n",
       "      <th>122838</th>\n",
       "      <td>2021-12-27</td>\n",
       "      <td>ZWE</td>\n",
       "      <td>Zimbabwe</td>\n",
       "      <td>Lower middle income</td>\n",
       "      <td>Sub-Saharan Africa</td>\n",
       "      <td>Africa</td>\n",
       "      <td>1098</td>\n",
       "      <td>17</td>\n",
       "      <td>14645468</td>\n",
       "      <td>Mon</td>\n",
       "      <td>Dec</td>\n",
       "      <td>2021</td>\n",
       "    </tr>\n",
       "    <tr>\n",
       "      <th>122839</th>\n",
       "      <td>2021-12-28</td>\n",
       "      <td>ZWE</td>\n",
       "      <td>Zimbabwe</td>\n",
       "      <td>Lower middle income</td>\n",
       "      <td>Sub-Saharan Africa</td>\n",
       "      <td>Africa</td>\n",
       "      <td>2099</td>\n",
       "      <td>32</td>\n",
       "      <td>14645468</td>\n",
       "      <td>Tue</td>\n",
       "      <td>Dec</td>\n",
       "      <td>2021</td>\n",
       "    </tr>\n",
       "    <tr>\n",
       "      <th>122840</th>\n",
       "      <td>2021-12-29</td>\n",
       "      <td>ZWE</td>\n",
       "      <td>Zimbabwe</td>\n",
       "      <td>Lower middle income</td>\n",
       "      <td>Sub-Saharan Africa</td>\n",
       "      <td>Africa</td>\n",
       "      <td>0</td>\n",
       "      <td>0</td>\n",
       "      <td>14645468</td>\n",
       "      <td>Wed</td>\n",
       "      <td>Dec</td>\n",
       "      <td>2021</td>\n",
       "    </tr>\n",
       "    <tr>\n",
       "      <th>122841</th>\n",
       "      <td>2021-12-30</td>\n",
       "      <td>ZWE</td>\n",
       "      <td>Zimbabwe</td>\n",
       "      <td>Lower middle income</td>\n",
       "      <td>Sub-Saharan Africa</td>\n",
       "      <td>Africa</td>\n",
       "      <td>4180</td>\n",
       "      <td>57</td>\n",
       "      <td>14645468</td>\n",
       "      <td>Thu</td>\n",
       "      <td>Dec</td>\n",
       "      <td>2021</td>\n",
       "    </tr>\n",
       "    <tr>\n",
       "      <th>122842</th>\n",
       "      <td>2021-12-31</td>\n",
       "      <td>ZWE</td>\n",
       "      <td>Zimbabwe</td>\n",
       "      <td>Lower middle income</td>\n",
       "      <td>Sub-Saharan Africa</td>\n",
       "      <td>Africa</td>\n",
       "      <td>1530</td>\n",
       "      <td>7</td>\n",
       "      <td>14645468</td>\n",
       "      <td>Fri</td>\n",
       "      <td>Dec</td>\n",
       "      <td>2021</td>\n",
       "    </tr>\n",
       "  </tbody>\n",
       "</table>\n",
       "<p>67885 rows × 12 columns</p>\n",
       "</div>"
      ],
      "text/plain": [
       "             date iso3c      country               income              region  \\\n",
       "312    2021-01-01   AFG  Afghanistan           Low income          South Asia   \n",
       "313    2021-01-02   AFG  Afghanistan           Low income          South Asia   \n",
       "314    2021-01-03   AFG  Afghanistan           Low income          South Asia   \n",
       "315    2021-01-04   AFG  Afghanistan           Low income          South Asia   \n",
       "316    2021-01-05   AFG  Afghanistan           Low income          South Asia   \n",
       "...           ...   ...          ...                  ...                 ...   \n",
       "122838 2021-12-27   ZWE     Zimbabwe  Lower middle income  Sub-Saharan Africa   \n",
       "122839 2021-12-28   ZWE     Zimbabwe  Lower middle income  Sub-Saharan Africa   \n",
       "122840 2021-12-29   ZWE     Zimbabwe  Lower middle income  Sub-Saharan Africa   \n",
       "122841 2021-12-30   ZWE     Zimbabwe  Lower middle income  Sub-Saharan Africa   \n",
       "122842 2021-12-31   ZWE     Zimbabwe  Lower middle income  Sub-Saharan Africa   \n",
       "\n",
       "       continent  dcases  ddeaths  population weekdays month  year  \n",
       "312         Asia     183       12    38041754      Fri   Jan  2021  \n",
       "313         Asia      73       10    38041754      Sat   Jan  2021  \n",
       "314         Asia     123       10    38041754      Sun   Jan  2021  \n",
       "315         Asia     200        9    38041754      Mon   Jan  2021  \n",
       "316         Asia     102        7    38041754      Tue   Jan  2021  \n",
       "...          ...     ...      ...         ...      ...   ...   ...  \n",
       "122838    Africa    1098       17    14645468      Mon   Dec  2021  \n",
       "122839    Africa    2099       32    14645468      Tue   Dec  2021  \n",
       "122840    Africa       0        0    14645468      Wed   Dec  2021  \n",
       "122841    Africa    4180       57    14645468      Thu   Dec  2021  \n",
       "122842    Africa    1530        7    14645468      Fri   Dec  2021  \n",
       "\n",
       "[67885 rows x 12 columns]"
      ]
     },
     "execution_count": 32,
     "metadata": {},
     "output_type": "execute_result"
    }
   ],
   "source": [
    "only2021=df[(df['year']==2021)]\n",
    "only2021"
   ]
  },
  {
   "cell_type": "code",
   "execution_count": 33,
   "id": "747c9b4a",
   "metadata": {},
   "outputs": [
    {
     "data": {
      "text/html": [
       "<div>\n",
       "<style scoped>\n",
       "    .dataframe tbody tr th:only-of-type {\n",
       "        vertical-align: middle;\n",
       "    }\n",
       "\n",
       "    .dataframe tbody tr th {\n",
       "        vertical-align: top;\n",
       "    }\n",
       "\n",
       "    .dataframe thead tr th {\n",
       "        text-align: left;\n",
       "    }\n",
       "\n",
       "    .dataframe thead tr:last-of-type th {\n",
       "        text-align: right;\n",
       "    }\n",
       "</style>\n",
       "<table border=\"1\" class=\"dataframe\">\n",
       "  <thead>\n",
       "    <tr>\n",
       "      <th></th>\n",
       "      <th colspan=\"5\" halign=\"left\">dcases</th>\n",
       "    </tr>\n",
       "    <tr>\n",
       "      <th></th>\n",
       "      <th>mean</th>\n",
       "      <th>std</th>\n",
       "      <th>size</th>\n",
       "      <th>get_ci_lb</th>\n",
       "      <th>get_ci_ub</th>\n",
       "    </tr>\n",
       "    <tr>\n",
       "      <th>weekdays</th>\n",
       "      <th></th>\n",
       "      <th></th>\n",
       "      <th></th>\n",
       "      <th></th>\n",
       "      <th></th>\n",
       "    </tr>\n",
       "  </thead>\n",
       "  <tbody>\n",
       "    <tr>\n",
       "      <th>Fri</th>\n",
       "      <td>3440.657502</td>\n",
       "      <td>16406.696355</td>\n",
       "      <td>9857</td>\n",
       "      <td>3116.728234</td>\n",
       "      <td>3764.586770</td>\n",
       "    </tr>\n",
       "    <tr>\n",
       "      <th>Sat</th>\n",
       "      <td>2730.757187</td>\n",
       "      <td>12586.632218</td>\n",
       "      <td>9670</td>\n",
       "      <td>2479.858283</td>\n",
       "      <td>2981.656091</td>\n",
       "    </tr>\n",
       "    <tr>\n",
       "      <th>Sun</th>\n",
       "      <td>2327.773550</td>\n",
       "      <td>11187.860868</td>\n",
       "      <td>9671</td>\n",
       "      <td>2104.768951</td>\n",
       "      <td>2550.778148</td>\n",
       "    </tr>\n",
       "    <tr>\n",
       "      <th>Mon</th>\n",
       "      <td>2740.382484</td>\n",
       "      <td>14157.064061</td>\n",
       "      <td>9671</td>\n",
       "      <td>2458.193563</td>\n",
       "      <td>3022.571405</td>\n",
       "    </tr>\n",
       "    <tr>\n",
       "      <th>Tue</th>\n",
       "      <td>3093.372105</td>\n",
       "      <td>13860.314027</td>\n",
       "      <td>9672</td>\n",
       "      <td>2817.112508</td>\n",
       "      <td>3369.631702</td>\n",
       "    </tr>\n",
       "    <tr>\n",
       "      <th>Wed</th>\n",
       "      <td>3398.018300</td>\n",
       "      <td>15357.083251</td>\n",
       "      <td>9672</td>\n",
       "      <td>3091.925551</td>\n",
       "      <td>3704.111050</td>\n",
       "    </tr>\n",
       "    <tr>\n",
       "      <th>Thu</th>\n",
       "      <td>3430.404880</td>\n",
       "      <td>15727.925287</td>\n",
       "      <td>9672</td>\n",
       "      <td>3116.920619</td>\n",
       "      <td>3743.889141</td>\n",
       "    </tr>\n",
       "  </tbody>\n",
       "</table>\n",
       "</div>"
      ],
      "text/plain": [
       "               dcases                                              \n",
       "                 mean           std  size    get_ci_lb    get_ci_ub\n",
       "weekdays                                                           \n",
       "Fri       3440.657502  16406.696355  9857  3116.728234  3764.586770\n",
       "Sat       2730.757187  12586.632218  9670  2479.858283  2981.656091\n",
       "Sun       2327.773550  11187.860868  9671  2104.768951  2550.778148\n",
       "Mon       2740.382484  14157.064061  9671  2458.193563  3022.571405\n",
       "Tue       3093.372105  13860.314027  9672  2817.112508  3369.631702\n",
       "Wed       3398.018300  15357.083251  9672  3091.925551  3704.111050\n",
       "Thu       3430.404880  15727.925287  9672  3116.920619  3743.889141"
      ]
     },
     "execution_count": 33,
     "metadata": {},
     "output_type": "execute_result"
    }
   ],
   "source": [
    "stats3=only2021.groupby(\"weekdays\").agg({\"dcases\": [np.mean, np.std, np.size, get_ci_lb, get_ci_ub]})\n",
    "stats3"
   ]
  },
  {
   "cell_type": "markdown",
   "id": "5eac7e4a",
   "metadata": {},
   "source": [
    "Daily deaths for 2021:"
   ]
  },
  {
   "cell_type": "code",
   "execution_count": 34,
   "id": "82672270",
   "metadata": {},
   "outputs": [
    {
     "data": {
      "text/html": [
       "<div>\n",
       "<style scoped>\n",
       "    .dataframe tbody tr th:only-of-type {\n",
       "        vertical-align: middle;\n",
       "    }\n",
       "\n",
       "    .dataframe tbody tr th {\n",
       "        vertical-align: top;\n",
       "    }\n",
       "\n",
       "    .dataframe thead tr th {\n",
       "        text-align: left;\n",
       "    }\n",
       "\n",
       "    .dataframe thead tr:last-of-type th {\n",
       "        text-align: right;\n",
       "    }\n",
       "</style>\n",
       "<table border=\"1\" class=\"dataframe\">\n",
       "  <thead>\n",
       "    <tr>\n",
       "      <th></th>\n",
       "      <th colspan=\"5\" halign=\"left\">ddeaths</th>\n",
       "    </tr>\n",
       "    <tr>\n",
       "      <th></th>\n",
       "      <th>mean</th>\n",
       "      <th>std</th>\n",
       "      <th>size</th>\n",
       "      <th>get_ci_lb</th>\n",
       "      <th>get_ci_ub</th>\n",
       "    </tr>\n",
       "    <tr>\n",
       "      <th>weekdays</th>\n",
       "      <th></th>\n",
       "      <th></th>\n",
       "      <th></th>\n",
       "      <th></th>\n",
       "      <th></th>\n",
       "    </tr>\n",
       "  </thead>\n",
       "  <tbody>\n",
       "    <tr>\n",
       "      <th>Fri</th>\n",
       "      <td>56.813432</td>\n",
       "      <td>241.821657</td>\n",
       "      <td>9857</td>\n",
       "      <td>52.038972</td>\n",
       "      <td>61.587892</td>\n",
       "    </tr>\n",
       "    <tr>\n",
       "      <th>Sat</th>\n",
       "      <td>47.101448</td>\n",
       "      <td>205.467441</td>\n",
       "      <td>9670</td>\n",
       "      <td>43.005709</td>\n",
       "      <td>51.197186</td>\n",
       "    </tr>\n",
       "    <tr>\n",
       "      <th>Sun</th>\n",
       "      <td>37.267914</td>\n",
       "      <td>163.388173</td>\n",
       "      <td>9671</td>\n",
       "      <td>34.011142</td>\n",
       "      <td>40.524687</td>\n",
       "    </tr>\n",
       "    <tr>\n",
       "      <th>Mon</th>\n",
       "      <td>45.187157</td>\n",
       "      <td>176.339137</td>\n",
       "      <td>9671</td>\n",
       "      <td>41.672237</td>\n",
       "      <td>48.702078</td>\n",
       "    </tr>\n",
       "    <tr>\n",
       "      <th>Tue</th>\n",
       "      <td>60.252998</td>\n",
       "      <td>268.554510</td>\n",
       "      <td>9672</td>\n",
       "      <td>54.900251</td>\n",
       "      <td>65.605746</td>\n",
       "    </tr>\n",
       "    <tr>\n",
       "      <th>Wed</th>\n",
       "      <td>60.811208</td>\n",
       "      <td>259.274823</td>\n",
       "      <td>9672</td>\n",
       "      <td>55.643420</td>\n",
       "      <td>65.978995</td>\n",
       "    </tr>\n",
       "    <tr>\n",
       "      <th>Thu</th>\n",
       "      <td>59.298697</td>\n",
       "      <td>261.870322</td>\n",
       "      <td>9672</td>\n",
       "      <td>54.079177</td>\n",
       "      <td>64.518218</td>\n",
       "    </tr>\n",
       "  </tbody>\n",
       "</table>\n",
       "</div>"
      ],
      "text/plain": [
       "            ddeaths                                        \n",
       "               mean         std  size  get_ci_lb  get_ci_ub\n",
       "weekdays                                                   \n",
       "Fri       56.813432  241.821657  9857  52.038972  61.587892\n",
       "Sat       47.101448  205.467441  9670  43.005709  51.197186\n",
       "Sun       37.267914  163.388173  9671  34.011142  40.524687\n",
       "Mon       45.187157  176.339137  9671  41.672237  48.702078\n",
       "Tue       60.252998  268.554510  9672  54.900251  65.605746\n",
       "Wed       60.811208  259.274823  9672  55.643420  65.978995\n",
       "Thu       59.298697  261.870322  9672  54.079177  64.518218"
      ]
     },
     "execution_count": 34,
     "metadata": {},
     "output_type": "execute_result"
    }
   ],
   "source": [
    "stats4=only2021.groupby(\"weekdays\").agg({\"ddeaths\": [np.mean, np.std, np.size, get_ci_lb, get_ci_ub]})\n",
    "stats4"
   ]
  },
  {
   "cell_type": "markdown",
   "id": "a0e652e0",
   "metadata": {},
   "source": [
    "Now let's compute ratio between deaths and confirmed cases for 2020:"
   ]
  },
  {
   "cell_type": "code",
   "execution_count": 35,
   "id": "41047df4",
   "metadata": {},
   "outputs": [],
   "source": [
    "only2020=df[(df['year']==2020)]"
   ]
  },
  {
   "cell_type": "code",
   "execution_count": 36,
   "id": "f27f9e7d",
   "metadata": {},
   "outputs": [
    {
     "data": {
      "text/plain": [
       "83839670"
      ]
     },
     "execution_count": 36,
     "metadata": {},
     "output_type": "execute_result"
    }
   ],
   "source": [
    "x=only2020['dcases'].sum()\n",
    "x"
   ]
  },
  {
   "cell_type": "code",
   "execution_count": 37,
   "id": "7f6c5929",
   "metadata": {},
   "outputs": [
    {
     "data": {
      "text/plain": [
       "1883714"
      ]
     },
     "execution_count": 37,
     "metadata": {},
     "output_type": "execute_result"
    }
   ],
   "source": [
    "y=only2020['ddeaths'].sum()\n",
    "y"
   ]
  },
  {
   "cell_type": "code",
   "execution_count": 38,
   "id": "7b6e1934",
   "metadata": {},
   "outputs": [
    {
     "data": {
      "text/plain": [
       "0.022468051222052757"
      ]
     },
     "execution_count": 38,
     "metadata": {},
     "output_type": "execute_result"
    }
   ],
   "source": [
    "ratio2020= y/x\n",
    "ratio2020"
   ]
  },
  {
   "cell_type": "markdown",
   "id": "994fe48c",
   "metadata": {},
   "source": [
    "Now let's compute ratio between deaths and confirmed cases for 2021:"
   ]
  },
  {
   "cell_type": "code",
   "execution_count": 39,
   "id": "9c7c13dc",
   "metadata": {},
   "outputs": [],
   "source": [
    "only2021=df[(df['year']==2021)]"
   ]
  },
  {
   "cell_type": "code",
   "execution_count": 40,
   "id": "c5c9b902",
   "metadata": {},
   "outputs": [
    {
     "data": {
      "text/plain": [
       "205298724"
      ]
     },
     "execution_count": 40,
     "metadata": {},
     "output_type": "execute_result"
    }
   ],
   "source": [
    "z=only2021['dcases'].sum()\n",
    "z"
   ]
  },
  {
   "cell_type": "code",
   "execution_count": 41,
   "id": "363fcbf2",
   "metadata": {},
   "outputs": [
    {
     "data": {
      "text/plain": [
       "3557374"
      ]
     },
     "execution_count": 41,
     "metadata": {},
     "output_type": "execute_result"
    }
   ],
   "source": [
    "a=only2021['ddeaths'].sum()\n",
    "a"
   ]
  },
  {
   "cell_type": "code",
   "execution_count": 42,
   "id": "068624f3",
   "metadata": {},
   "outputs": [
    {
     "data": {
      "text/plain": [
       "0.017327794010059214"
      ]
     },
     "execution_count": 42,
     "metadata": {},
     "output_type": "execute_result"
    }
   ],
   "source": [
    "ratio2021= a/z\n",
    "ratio2021"
   ]
  },
  {
   "cell_type": "markdown",
   "id": "a95f2b31",
   "metadata": {},
   "source": [
    "We can conclude that ratio for 2021 decreased from 2020 which means that either the number of cases increased or number of deaths increased."
   ]
  },
  {
   "cell_type": "markdown",
   "id": "bca6c761",
   "metadata": {},
   "source": [
    "Now let's Compare between 2020 and 2021 in terms of several factors like regions,\n",
    "income, and continents"
   ]
  },
  {
   "cell_type": "code",
   "execution_count": 117,
   "id": "729d6341",
   "metadata": {},
   "outputs": [
    {
     "data": {
      "text/html": [
       "<div>\n",
       "<style scoped>\n",
       "    .dataframe tbody tr th:only-of-type {\n",
       "        vertical-align: middle;\n",
       "    }\n",
       "\n",
       "    .dataframe tbody tr th {\n",
       "        vertical-align: top;\n",
       "    }\n",
       "\n",
       "    .dataframe thead th {\n",
       "        text-align: right;\n",
       "    }\n",
       "</style>\n",
       "<table border=\"1\" class=\"dataframe\">\n",
       "  <thead>\n",
       "    <tr style=\"text-align: right;\">\n",
       "      <th></th>\n",
       "      <th>date</th>\n",
       "      <th>iso3c</th>\n",
       "      <th>country</th>\n",
       "      <th>income</th>\n",
       "      <th>region</th>\n",
       "      <th>continent</th>\n",
       "      <th>dcases</th>\n",
       "      <th>ddeaths</th>\n",
       "      <th>population</th>\n",
       "      <th>weekdays</th>\n",
       "      <th>month</th>\n",
       "      <th>year</th>\n",
       "      <th>ratio</th>\n",
       "    </tr>\n",
       "  </thead>\n",
       "  <tbody>\n",
       "    <tr>\n",
       "      <th>28</th>\n",
       "      <td>2020-03-23</td>\n",
       "      <td>AFG</td>\n",
       "      <td>Afghanistan</td>\n",
       "      <td>Low income</td>\n",
       "      <td>South Asia</td>\n",
       "      <td>Asia</td>\n",
       "      <td>6</td>\n",
       "      <td>1</td>\n",
       "      <td>38041754</td>\n",
       "      <td>Mon</td>\n",
       "      <td>Mar</td>\n",
       "      <td>2020</td>\n",
       "      <td>6.000000</td>\n",
       "    </tr>\n",
       "    <tr>\n",
       "      <th>31</th>\n",
       "      <td>2020-03-26</td>\n",
       "      <td>AFG</td>\n",
       "      <td>Afghanistan</td>\n",
       "      <td>Low income</td>\n",
       "      <td>South Asia</td>\n",
       "      <td>Asia</td>\n",
       "      <td>6</td>\n",
       "      <td>1</td>\n",
       "      <td>38041754</td>\n",
       "      <td>Thu</td>\n",
       "      <td>Mar</td>\n",
       "      <td>2020</td>\n",
       "      <td>6.000000</td>\n",
       "    </tr>\n",
       "    <tr>\n",
       "      <th>34</th>\n",
       "      <td>2020-03-29</td>\n",
       "      <td>AFG</td>\n",
       "      <td>Afghanistan</td>\n",
       "      <td>Low income</td>\n",
       "      <td>South Asia</td>\n",
       "      <td>Asia</td>\n",
       "      <td>8</td>\n",
       "      <td>2</td>\n",
       "      <td>38041754</td>\n",
       "      <td>Sun</td>\n",
       "      <td>Mar</td>\n",
       "      <td>2020</td>\n",
       "      <td>4.000000</td>\n",
       "    </tr>\n",
       "    <tr>\n",
       "      <th>39</th>\n",
       "      <td>2020-04-03</td>\n",
       "      <td>AFG</td>\n",
       "      <td>Afghanistan</td>\n",
       "      <td>Low income</td>\n",
       "      <td>South Asia</td>\n",
       "      <td>Asia</td>\n",
       "      <td>34</td>\n",
       "      <td>1</td>\n",
       "      <td>38041754</td>\n",
       "      <td>Fri</td>\n",
       "      <td>Apr</td>\n",
       "      <td>2020</td>\n",
       "      <td>34.000000</td>\n",
       "    </tr>\n",
       "    <tr>\n",
       "      <th>41</th>\n",
       "      <td>2020-04-05</td>\n",
       "      <td>AFG</td>\n",
       "      <td>Afghanistan</td>\n",
       "      <td>Low income</td>\n",
       "      <td>South Asia</td>\n",
       "      <td>Asia</td>\n",
       "      <td>29</td>\n",
       "      <td>2</td>\n",
       "      <td>38041754</td>\n",
       "      <td>Sun</td>\n",
       "      <td>Apr</td>\n",
       "      <td>2020</td>\n",
       "      <td>14.500000</td>\n",
       "    </tr>\n",
       "    <tr>\n",
       "      <th>...</th>\n",
       "      <td>...</td>\n",
       "      <td>...</td>\n",
       "      <td>...</td>\n",
       "      <td>...</td>\n",
       "      <td>...</td>\n",
       "      <td>...</td>\n",
       "      <td>...</td>\n",
       "      <td>...</td>\n",
       "      <td>...</td>\n",
       "      <td>...</td>\n",
       "      <td>...</td>\n",
       "      <td>...</td>\n",
       "      <td>...</td>\n",
       "    </tr>\n",
       "    <tr>\n",
       "      <th>122837</th>\n",
       "      <td>2021-12-26</td>\n",
       "      <td>ZWE</td>\n",
       "      <td>Zimbabwe</td>\n",
       "      <td>Lower middle income</td>\n",
       "      <td>Sub-Saharan Africa</td>\n",
       "      <td>Africa</td>\n",
       "      <td>605</td>\n",
       "      <td>6</td>\n",
       "      <td>14645468</td>\n",
       "      <td>Sun</td>\n",
       "      <td>Dec</td>\n",
       "      <td>2021</td>\n",
       "      <td>100.833333</td>\n",
       "    </tr>\n",
       "    <tr>\n",
       "      <th>122838</th>\n",
       "      <td>2021-12-27</td>\n",
       "      <td>ZWE</td>\n",
       "      <td>Zimbabwe</td>\n",
       "      <td>Lower middle income</td>\n",
       "      <td>Sub-Saharan Africa</td>\n",
       "      <td>Africa</td>\n",
       "      <td>1098</td>\n",
       "      <td>17</td>\n",
       "      <td>14645468</td>\n",
       "      <td>Mon</td>\n",
       "      <td>Dec</td>\n",
       "      <td>2021</td>\n",
       "      <td>64.588235</td>\n",
       "    </tr>\n",
       "    <tr>\n",
       "      <th>122839</th>\n",
       "      <td>2021-12-28</td>\n",
       "      <td>ZWE</td>\n",
       "      <td>Zimbabwe</td>\n",
       "      <td>Lower middle income</td>\n",
       "      <td>Sub-Saharan Africa</td>\n",
       "      <td>Africa</td>\n",
       "      <td>2099</td>\n",
       "      <td>32</td>\n",
       "      <td>14645468</td>\n",
       "      <td>Tue</td>\n",
       "      <td>Dec</td>\n",
       "      <td>2021</td>\n",
       "      <td>65.593750</td>\n",
       "    </tr>\n",
       "    <tr>\n",
       "      <th>122841</th>\n",
       "      <td>2021-12-30</td>\n",
       "      <td>ZWE</td>\n",
       "      <td>Zimbabwe</td>\n",
       "      <td>Lower middle income</td>\n",
       "      <td>Sub-Saharan Africa</td>\n",
       "      <td>Africa</td>\n",
       "      <td>4180</td>\n",
       "      <td>57</td>\n",
       "      <td>14645468</td>\n",
       "      <td>Thu</td>\n",
       "      <td>Dec</td>\n",
       "      <td>2021</td>\n",
       "      <td>73.333333</td>\n",
       "    </tr>\n",
       "    <tr>\n",
       "      <th>122842</th>\n",
       "      <td>2021-12-31</td>\n",
       "      <td>ZWE</td>\n",
       "      <td>Zimbabwe</td>\n",
       "      <td>Lower middle income</td>\n",
       "      <td>Sub-Saharan Africa</td>\n",
       "      <td>Africa</td>\n",
       "      <td>1530</td>\n",
       "      <td>7</td>\n",
       "      <td>14645468</td>\n",
       "      <td>Fri</td>\n",
       "      <td>Dec</td>\n",
       "      <td>2021</td>\n",
       "      <td>218.571429</td>\n",
       "    </tr>\n",
       "  </tbody>\n",
       "</table>\n",
       "<p>67773 rows × 13 columns</p>\n",
       "</div>"
      ],
      "text/plain": [
       "             date iso3c      country               income              region  \\\n",
       "28     2020-03-23   AFG  Afghanistan           Low income          South Asia   \n",
       "31     2020-03-26   AFG  Afghanistan           Low income          South Asia   \n",
       "34     2020-03-29   AFG  Afghanistan           Low income          South Asia   \n",
       "39     2020-04-03   AFG  Afghanistan           Low income          South Asia   \n",
       "41     2020-04-05   AFG  Afghanistan           Low income          South Asia   \n",
       "...           ...   ...          ...                  ...                 ...   \n",
       "122837 2021-12-26   ZWE     Zimbabwe  Lower middle income  Sub-Saharan Africa   \n",
       "122838 2021-12-27   ZWE     Zimbabwe  Lower middle income  Sub-Saharan Africa   \n",
       "122839 2021-12-28   ZWE     Zimbabwe  Lower middle income  Sub-Saharan Africa   \n",
       "122841 2021-12-30   ZWE     Zimbabwe  Lower middle income  Sub-Saharan Africa   \n",
       "122842 2021-12-31   ZWE     Zimbabwe  Lower middle income  Sub-Saharan Africa   \n",
       "\n",
       "       continent  dcases  ddeaths  population weekdays month  year       ratio  \n",
       "28          Asia       6        1    38041754      Mon   Mar  2020    6.000000  \n",
       "31          Asia       6        1    38041754      Thu   Mar  2020    6.000000  \n",
       "34          Asia       8        2    38041754      Sun   Mar  2020    4.000000  \n",
       "39          Asia      34        1    38041754      Fri   Apr  2020   34.000000  \n",
       "41          Asia      29        2    38041754      Sun   Apr  2020   14.500000  \n",
       "...          ...     ...      ...         ...      ...   ...   ...         ...  \n",
       "122837    Africa     605        6    14645468      Sun   Dec  2021  100.833333  \n",
       "122838    Africa    1098       17    14645468      Mon   Dec  2021   64.588235  \n",
       "122839    Africa    2099       32    14645468      Tue   Dec  2021   65.593750  \n",
       "122841    Africa    4180       57    14645468      Thu   Dec  2021   73.333333  \n",
       "122842    Africa    1530        7    14645468      Fri   Dec  2021  218.571429  \n",
       "\n",
       "[67773 rows x 13 columns]"
      ]
     },
     "execution_count": 117,
     "metadata": {},
     "output_type": "execute_result"
    }
   ],
   "source": [
    "ratio=df['dcases']/df['ddeaths']\n",
    "df['ratio']=ratio\n",
    "df = df.replace([np.inf, -np.inf], np.nan).dropna(axis=0)\n",
    "df"
   ]
  },
  {
   "cell_type": "code",
   "execution_count": 139,
   "id": "cd0851b7",
   "metadata": {},
   "outputs": [],
   "source": [
    "from scipy.stats import t"
   ]
  },
  {
   "cell_type": "markdown",
   "id": "91344f98",
   "metadata": {},
   "source": [
    "# According to continent:"
   ]
  },
  {
   "cell_type": "code",
   "execution_count": 183,
   "id": "3b7a167f",
   "metadata": {},
   "outputs": [
    {
     "data": {
      "text/html": [
       "<div>\n",
       "<style scoped>\n",
       "    .dataframe tbody tr th:only-of-type {\n",
       "        vertical-align: middle;\n",
       "    }\n",
       "\n",
       "    .dataframe tbody tr th {\n",
       "        vertical-align: top;\n",
       "    }\n",
       "\n",
       "    .dataframe thead tr th {\n",
       "        text-align: left;\n",
       "    }\n",
       "</style>\n",
       "<table border=\"1\" class=\"dataframe\">\n",
       "  <thead>\n",
       "    <tr>\n",
       "      <th></th>\n",
       "      <th>continent</th>\n",
       "      <th>year</th>\n",
       "      <th colspan=\"5\" halign=\"left\">ratio</th>\n",
       "    </tr>\n",
       "    <tr>\n",
       "      <th></th>\n",
       "      <th></th>\n",
       "      <th></th>\n",
       "      <th>mean</th>\n",
       "      <th>std</th>\n",
       "      <th>size</th>\n",
       "      <th>get_ci_lb</th>\n",
       "      <th>get_ci_ub</th>\n",
       "    </tr>\n",
       "  </thead>\n",
       "  <tbody>\n",
       "    <tr>\n",
       "      <th>0</th>\n",
       "      <td>Africa</td>\n",
       "      <td>2020</td>\n",
       "      <td>52.623736</td>\n",
       "      <td>62.672790</td>\n",
       "      <td>4892</td>\n",
       "      <td>50.867061</td>\n",
       "      <td>54.380410</td>\n",
       "    </tr>\n",
       "    <tr>\n",
       "      <th>1</th>\n",
       "      <td>Africa</td>\n",
       "      <td>2021</td>\n",
       "      <td>75.063308</td>\n",
       "      <td>206.868302</td>\n",
       "      <td>8449</td>\n",
       "      <td>70.651652</td>\n",
       "      <td>79.474964</td>\n",
       "    </tr>\n",
       "    <tr>\n",
       "      <th>2</th>\n",
       "      <td>Asia</td>\n",
       "      <td>2020</td>\n",
       "      <td>106.957897</td>\n",
       "      <td>157.389473</td>\n",
       "      <td>7393</td>\n",
       "      <td>103.369632</td>\n",
       "      <td>110.546162</td>\n",
       "    </tr>\n",
       "    <tr>\n",
       "      <th>3</th>\n",
       "      <td>Asia</td>\n",
       "      <td>2021</td>\n",
       "      <td>126.452824</td>\n",
       "      <td>195.776606</td>\n",
       "      <td>12025</td>\n",
       "      <td>122.953291</td>\n",
       "      <td>129.952357</td>\n",
       "    </tr>\n",
       "    <tr>\n",
       "      <th>4</th>\n",
       "      <td>Europe</td>\n",
       "      <td>2020</td>\n",
       "      <td>85.172982</td>\n",
       "      <td>158.693265</td>\n",
       "      <td>8597</td>\n",
       "      <td>81.817969</td>\n",
       "      <td>88.527996</td>\n",
       "    </tr>\n",
       "    <tr>\n",
       "      <th>5</th>\n",
       "      <td>Europe</td>\n",
       "      <td>2021</td>\n",
       "      <td>165.387291</td>\n",
       "      <td>524.748437</td>\n",
       "      <td>11756</td>\n",
       "      <td>155.900613</td>\n",
       "      <td>174.873970</td>\n",
       "    </tr>\n",
       "    <tr>\n",
       "      <th>6</th>\n",
       "      <td>North America(continent)</td>\n",
       "      <td>2020</td>\n",
       "      <td>58.520703</td>\n",
       "      <td>84.557767</td>\n",
       "      <td>2924</td>\n",
       "      <td>55.454557</td>\n",
       "      <td>61.586848</td>\n",
       "    </tr>\n",
       "    <tr>\n",
       "      <th>7</th>\n",
       "      <td>North America(continent)</td>\n",
       "      <td>2021</td>\n",
       "      <td>85.684798</td>\n",
       "      <td>126.416057</td>\n",
       "      <td>4606</td>\n",
       "      <td>82.033036</td>\n",
       "      <td>89.336561</td>\n",
       "    </tr>\n",
       "    <tr>\n",
       "      <th>8</th>\n",
       "      <td>Oceania</td>\n",
       "      <td>2020</td>\n",
       "      <td>39.919436</td>\n",
       "      <td>69.552255</td>\n",
       "      <td>170</td>\n",
       "      <td>29.388766</td>\n",
       "      <td>50.450106</td>\n",
       "    </tr>\n",
       "    <tr>\n",
       "      <th>9</th>\n",
       "      <td>Oceania</td>\n",
       "      <td>2021</td>\n",
       "      <td>194.977007</td>\n",
       "      <td>366.457359</td>\n",
       "      <td>381</td>\n",
       "      <td>158.062720</td>\n",
       "      <td>231.891293</td>\n",
       "    </tr>\n",
       "    <tr>\n",
       "      <th>10</th>\n",
       "      <td>South America(continent)</td>\n",
       "      <td>2020</td>\n",
       "      <td>46.966987</td>\n",
       "      <td>56.138845</td>\n",
       "      <td>2644</td>\n",
       "      <td>44.826169</td>\n",
       "      <td>49.107805</td>\n",
       "    </tr>\n",
       "    <tr>\n",
       "      <th>11</th>\n",
       "      <td>South America(continent)</td>\n",
       "      <td>2021</td>\n",
       "      <td>60.432168</td>\n",
       "      <td>92.791185</td>\n",
       "      <td>3936</td>\n",
       "      <td>57.532416</td>\n",
       "      <td>63.331920</td>\n",
       "    </tr>\n",
       "  </tbody>\n",
       "</table>\n",
       "</div>"
      ],
      "text/plain": [
       "                   continent  year       ratio                                 \\\n",
       "                                          mean         std   size   get_ci_lb   \n",
       "0                     Africa  2020   52.623736   62.672790   4892   50.867061   \n",
       "1                     Africa  2021   75.063308  206.868302   8449   70.651652   \n",
       "2                       Asia  2020  106.957897  157.389473   7393  103.369632   \n",
       "3                       Asia  2021  126.452824  195.776606  12025  122.953291   \n",
       "4                     Europe  2020   85.172982  158.693265   8597   81.817969   \n",
       "5                     Europe  2021  165.387291  524.748437  11756  155.900613   \n",
       "6   North America(continent)  2020   58.520703   84.557767   2924   55.454557   \n",
       "7   North America(continent)  2021   85.684798  126.416057   4606   82.033036   \n",
       "8                    Oceania  2020   39.919436   69.552255    170   29.388766   \n",
       "9                    Oceania  2021  194.977007  366.457359    381  158.062720   \n",
       "10  South America(continent)  2020   46.966987   56.138845   2644   44.826169   \n",
       "11  South America(continent)  2021   60.432168   92.791185   3936   57.532416   \n",
       "\n",
       "                \n",
       "     get_ci_ub  \n",
       "0    54.380410  \n",
       "1    79.474964  \n",
       "2   110.546162  \n",
       "3   129.952357  \n",
       "4    88.527996  \n",
       "5   174.873970  \n",
       "6    61.586848  \n",
       "7    89.336561  \n",
       "8    50.450106  \n",
       "9   231.891293  \n",
       "10   49.107805  \n",
       "11   63.331920  "
      ]
     },
     "execution_count": 183,
     "metadata": {},
     "output_type": "execute_result"
    }
   ],
   "source": [
    "df2=df.groupby(['continent','year']).agg({\"ratio\": [np.mean, np.std, np.size, get_ci_lb, get_ci_ub]})\n",
    "df2=df2.reset_index()\n",
    "df2= pd.DataFrame(df2)\n",
    "df2"
   ]
  },
  {
   "cell_type": "markdown",
   "id": "e65b8bb6",
   "metadata": {},
   "source": [
    "Now let's create two graphs for ratio according to continent in 2020 and 2021:"
   ]
  },
  {
   "cell_type": "code",
   "execution_count": 190,
   "id": "66e95a0c",
   "metadata": {},
   "outputs": [],
   "source": [
    "co20=df2[(df2['year']==2020)]\n",
    "co21=df2[(df2['year']==2021)]\n",
    "co20.columns\n",
    "co20.columns=['continent','year','mean','std','size','get_ci_lb','get_ci_ub']\n",
    "co21.columns\n",
    "co21.columns=['continent','year','mean','std','size','get_ci_lb','get_ci_ub']"
   ]
  },
  {
   "cell_type": "code",
   "execution_count": 191,
   "id": "6d46940f",
   "metadata": {},
   "outputs": [
    {
     "data": {
      "text/plain": [
       "Text(0.5, 1.0, 'Continents in 2020')"
      ]
     },
     "execution_count": 191,
     "metadata": {},
     "output_type": "execute_result"
    },
    {
     "data": {
      "image/png": "[encoded data removed]",
      "text/plain": [
       "<Figure size 432x288 with 1 Axes>"
      ]
     },
     "metadata": {
      "needs_background": "light"
     },
     "output_type": "display_data"
    }
   ],
   "source": [
    "import matplotlib.pyplot as plt\n",
    "for lb,ub,y in zip(co20['get_ci_lb'],co20['get_ci_ub'],range(len(df2))):\n",
    "    plt.plot((lb,ub),(y,y),'ro-')\n",
    "plt.yticks(range(len(co20)),list(df20['continent']))\n",
    "plt.xlabel(\"Ratio\")\n",
    "plt.ylabel(\"Continent\")\n",
    "plt.title(\"Continents in 2020\")"
   ]
  },
  {
   "cell_type": "code",
   "execution_count": 192,
   "id": "9f54ccbc",
   "metadata": {},
   "outputs": [
    {
     "data": {
      "text/plain": [
       "Text(0.5, 1.0, 'Continents in 2021')"
      ]
     },
     "execution_count": 192,
     "metadata": {},
     "output_type": "execute_result"
    },
    {
     "data": {
      "image/png": "[encoded data removed]",
      "text/plain": [
       "<Figure size 432x288 with 1 Axes>"
      ]
     },
     "metadata": {
      "needs_background": "light"
     },
     "output_type": "display_data"
    }
   ],
   "source": [
    "import matplotlib.pyplot as plt\n",
    "for lb,ub,y in zip(co21['get_ci_lb'],co21['get_ci_ub'],range(len(df2))):\n",
    "    plt.plot((lb,ub),(y,y),'ro-')\n",
    "plt.yticks(range(len(co21)),list(co21['continent']))\n",
    "plt.xlabel(\"Ratio\")\n",
    "plt.ylabel(\"Continent\")\n",
    "plt.title(\"Continents in 2021\")"
   ]
  },
  {
   "cell_type": "markdown",
   "id": "f79ca7d5",
   "metadata": {},
   "source": [
    "By comparing both graphs we can say that Oceania showed the most difference in ratio of deaths/reported cases from 2020 to 2021"
   ]
  },
  {
   "cell_type": "markdown",
   "id": "c603bcf6",
   "metadata": {},
   "source": [
    "# According to region:"
   ]
  },
  {
   "cell_type": "code",
   "execution_count": 184,
   "id": "77969352",
   "metadata": {},
   "outputs": [
    {
     "data": {
      "text/html": [
       "<div>\n",
       "<style scoped>\n",
       "    .dataframe tbody tr th:only-of-type {\n",
       "        vertical-align: middle;\n",
       "    }\n",
       "\n",
       "    .dataframe tbody tr th {\n",
       "        vertical-align: top;\n",
       "    }\n",
       "\n",
       "    .dataframe thead tr th {\n",
       "        text-align: left;\n",
       "    }\n",
       "</style>\n",
       "<table border=\"1\" class=\"dataframe\">\n",
       "  <thead>\n",
       "    <tr>\n",
       "      <th></th>\n",
       "      <th>region</th>\n",
       "      <th>year</th>\n",
       "      <th colspan=\"5\" halign=\"left\">ratio</th>\n",
       "    </tr>\n",
       "    <tr>\n",
       "      <th></th>\n",
       "      <th></th>\n",
       "      <th></th>\n",
       "      <th>mean</th>\n",
       "      <th>std</th>\n",
       "      <th>size</th>\n",
       "      <th>get_ci_lb</th>\n",
       "      <th>get_ci_ub</th>\n",
       "    </tr>\n",
       "  </thead>\n",
       "  <tbody>\n",
       "    <tr>\n",
       "      <th>0</th>\n",
       "      <td>East Asia &amp; Pacific</td>\n",
       "      <td>2020</td>\n",
       "      <td>83.567307</td>\n",
       "      <td>154.946570</td>\n",
       "      <td>1798</td>\n",
       "      <td>76.400465</td>\n",
       "      <td>90.734149</td>\n",
       "    </tr>\n",
       "    <tr>\n",
       "      <th>1</th>\n",
       "      <td>East Asia &amp; Pacific</td>\n",
       "      <td>2021</td>\n",
       "      <td>158.944043</td>\n",
       "      <td>266.651870</td>\n",
       "      <td>3834</td>\n",
       "      <td>150.500906</td>\n",
       "      <td>167.387180</td>\n",
       "    </tr>\n",
       "    <tr>\n",
       "      <th>2</th>\n",
       "      <td>Europe &amp; Central Asia</td>\n",
       "      <td>2020</td>\n",
       "      <td>85.533757</td>\n",
       "      <td>155.144980</td>\n",
       "      <td>9958</td>\n",
       "      <td>82.486195</td>\n",
       "      <td>88.581319</td>\n",
       "    </tr>\n",
       "    <tr>\n",
       "      <th>3</th>\n",
       "      <td>Europe &amp; Central Asia</td>\n",
       "      <td>2021</td>\n",
       "      <td>154.876803</td>\n",
       "      <td>485.184235</td>\n",
       "      <td>13977</td>\n",
       "      <td>146.832556</td>\n",
       "      <td>162.921050</td>\n",
       "    </tr>\n",
       "    <tr>\n",
       "      <th>4</th>\n",
       "      <td>Latin America &amp; Caribbean</td>\n",
       "      <td>2020</td>\n",
       "      <td>51.769371</td>\n",
       "      <td>74.371591</td>\n",
       "      <td>4970</td>\n",
       "      <td>49.701217</td>\n",
       "      <td>53.837524</td>\n",
       "    </tr>\n",
       "    <tr>\n",
       "      <th>5</th>\n",
       "      <td>Latin America &amp; Caribbean</td>\n",
       "      <td>2021</td>\n",
       "      <td>68.812508</td>\n",
       "      <td>106.545737</td>\n",
       "      <td>7815</td>\n",
       "      <td>66.449926</td>\n",
       "      <td>71.175090</td>\n",
       "    </tr>\n",
       "    <tr>\n",
       "      <th>6</th>\n",
       "      <td>Middle East &amp; North Africa</td>\n",
       "      <td>2020</td>\n",
       "      <td>110.395171</td>\n",
       "      <td>162.071844</td>\n",
       "      <td>4225</td>\n",
       "      <td>105.506770</td>\n",
       "      <td>115.283571</td>\n",
       "    </tr>\n",
       "    <tr>\n",
       "      <th>7</th>\n",
       "      <td>Middle East &amp; North Africa</td>\n",
       "      <td>2021</td>\n",
       "      <td>117.932518</td>\n",
       "      <td>181.088283</td>\n",
       "      <td>5980</td>\n",
       "      <td>113.341851</td>\n",
       "      <td>122.523185</td>\n",
       "    </tr>\n",
       "    <tr>\n",
       "      <th>8</th>\n",
       "      <td>North America(region)</td>\n",
       "      <td>2020</td>\n",
       "      <td>63.547620</td>\n",
       "      <td>55.760176</td>\n",
       "      <td>598</td>\n",
       "      <td>59.069425</td>\n",
       "      <td>68.025815</td>\n",
       "    </tr>\n",
       "    <tr>\n",
       "      <th>9</th>\n",
       "      <td>North America(region)</td>\n",
       "      <td>2021</td>\n",
       "      <td>130.337613</td>\n",
       "      <td>155.721731</td>\n",
       "      <td>727</td>\n",
       "      <td>118.999136</td>\n",
       "      <td>141.676090</td>\n",
       "    </tr>\n",
       "    <tr>\n",
       "      <th>10</th>\n",
       "      <td>South Asia</td>\n",
       "      <td>2020</td>\n",
       "      <td>84.544853</td>\n",
       "      <td>93.638844</td>\n",
       "      <td>1375</td>\n",
       "      <td>79.591086</td>\n",
       "      <td>89.498619</td>\n",
       "    </tr>\n",
       "    <tr>\n",
       "      <th>11</th>\n",
       "      <td>South Asia</td>\n",
       "      <td>2021</td>\n",
       "      <td>73.658405</td>\n",
       "      <td>80.526434</td>\n",
       "      <td>2161</td>\n",
       "      <td>70.261350</td>\n",
       "      <td>77.055460</td>\n",
       "    </tr>\n",
       "    <tr>\n",
       "      <th>12</th>\n",
       "      <td>Sub-Saharan Africa</td>\n",
       "      <td>2020</td>\n",
       "      <td>54.795871</td>\n",
       "      <td>67.315740</td>\n",
       "      <td>3696</td>\n",
       "      <td>52.624965</td>\n",
       "      <td>56.966777</td>\n",
       "    </tr>\n",
       "    <tr>\n",
       "      <th>13</th>\n",
       "      <td>Sub-Saharan Africa</td>\n",
       "      <td>2021</td>\n",
       "      <td>80.322500</td>\n",
       "      <td>227.180471</td>\n",
       "      <td>6659</td>\n",
       "      <td>74.865002</td>\n",
       "      <td>85.779997</td>\n",
       "    </tr>\n",
       "  </tbody>\n",
       "</table>\n",
       "</div>"
      ],
      "text/plain": [
       "                        region  year       ratio                     \\\n",
       "                                            mean         std   size   \n",
       "0          East Asia & Pacific  2020   83.567307  154.946570   1798   \n",
       "1          East Asia & Pacific  2021  158.944043  266.651870   3834   \n",
       "2        Europe & Central Asia  2020   85.533757  155.144980   9958   \n",
       "3        Europe & Central Asia  2021  154.876803  485.184235  13977   \n",
       "4    Latin America & Caribbean  2020   51.769371   74.371591   4970   \n",
       "5    Latin America & Caribbean  2021   68.812508  106.545737   7815   \n",
       "6   Middle East & North Africa  2020  110.395171  162.071844   4225   \n",
       "7   Middle East & North Africa  2021  117.932518  181.088283   5980   \n",
       "8        North America(region)  2020   63.547620   55.760176    598   \n",
       "9        North America(region)  2021  130.337613  155.721731    727   \n",
       "10                  South Asia  2020   84.544853   93.638844   1375   \n",
       "11                  South Asia  2021   73.658405   80.526434   2161   \n",
       "12          Sub-Saharan Africa  2020   54.795871   67.315740   3696   \n",
       "13          Sub-Saharan Africa  2021   80.322500  227.180471   6659   \n",
       "\n",
       "                            \n",
       "     get_ci_lb   get_ci_ub  \n",
       "0    76.400465   90.734149  \n",
       "1   150.500906  167.387180  \n",
       "2    82.486195   88.581319  \n",
       "3   146.832556  162.921050  \n",
       "4    49.701217   53.837524  \n",
       "5    66.449926   71.175090  \n",
       "6   105.506770  115.283571  \n",
       "7   113.341851  122.523185  \n",
       "8    59.069425   68.025815  \n",
       "9   118.999136  141.676090  \n",
       "10   79.591086   89.498619  \n",
       "11   70.261350   77.055460  \n",
       "12   52.624965   56.966777  \n",
       "13   74.865002   85.779997  "
      ]
     },
     "execution_count": 184,
     "metadata": {},
     "output_type": "execute_result"
    }
   ],
   "source": [
    "df3=df.groupby(['region','year']).agg({\"ratio\": [np.mean, np.std, np.size, get_ci_lb, get_ci_ub]})\n",
    "df3=df3.reset_index()\n",
    "df3= pd.DataFrame(df3)\n",
    "df3"
   ]
  },
  {
   "cell_type": "markdown",
   "id": "9378c889",
   "metadata": {},
   "source": [
    "Now let's create two graphs for ratio according to region in 2020 and 2021:"
   ]
  },
  {
   "cell_type": "code",
   "execution_count": 194,
   "id": "22d63b68",
   "metadata": {},
   "outputs": [],
   "source": [
    "re20=df3[(df3['year']==2020)]\n",
    "re21=df3[(df3['year']==2021)]\n",
    "\n",
    "re20.columns\n",
    "re20.columns=['continent','year','mean','std','size','get_ci_lb','get_ci_ub']\n",
    "re21.columns\n",
    "re21.columns=['continent','year','mean','std','size','get_ci_lb','get_ci_ub']"
   ]
  },
  {
   "cell_type": "code",
   "execution_count": 195,
   "id": "9effddbe",
   "metadata": {},
   "outputs": [
    {
     "data": {
      "text/plain": [
       "Text(0.5, 1.0, 'Regions in 2020')"
      ]
     },
     "execution_count": 195,
     "metadata": {},
     "output_type": "execute_result"
    },
    {
     "data": {
      "image/png": "[encoded data removed]",
      "text/plain": [
       "<Figure size 432x288 with 1 Axes>"
      ]
     },
     "metadata": {
      "needs_background": "light"
     },
     "output_type": "display_data"
    }
   ],
   "source": [
    "import matplotlib.pyplot as plt\n",
    "for lb,ub,y in zip(re20['get_ci_lb'],re20['get_ci_ub'],range(len(re20))):\n",
    "    plt.plot((lb,ub),(y,y),'ro-')\n",
    "plt.yticks(range(len(re20)),list(re20['continent']))\n",
    "plt.xlabel(\"Ratio\")\n",
    "plt.ylabel(\"Region\")\n",
    "plt.title(\"Regions in 2020\")"
   ]
  },
  {
   "cell_type": "code",
   "execution_count": 196,
   "id": "64ac0fbf",
   "metadata": {},
   "outputs": [
    {
     "data": {
      "text/plain": [
       "Text(0.5, 1.0, 'Regions in 2021')"
      ]
     },
     "execution_count": 196,
     "metadata": {},
     "output_type": "execute_result"
    },
    {
     "data": {
      "image/png": "[encoded data removed]",
      "text/plain": [
       "<Figure size 432x288 with 1 Axes>"
      ]
     },
     "metadata": {
      "needs_background": "light"
     },
     "output_type": "display_data"
    }
   ],
   "source": [
    "import matplotlib.pyplot as plt\n",
    "for lb,ub,y in zip(re21['get_ci_lb'],re21['get_ci_ub'],range(len(re21))):\n",
    "    plt.plot((lb,ub),(y,y),'ro-')\n",
    "plt.yticks(range(len(re21)),list(re21['continent']))\n",
    "plt.xlabel(\"Ratio\")\n",
    "plt.ylabel(\"Region\")\n",
    "plt.title(\"Regions in 2021\")"
   ]
  },
  {
   "cell_type": "markdown",
   "id": "de72927b",
   "metadata": {},
   "source": [
    "By comparing both graphs we can say that Sub-Saharan Africa showed the least difference in ratio of deaths/reported cases from 2020 to 2021"
   ]
  },
  {
   "cell_type": "markdown",
   "id": "d588879b",
   "metadata": {},
   "source": [
    "# According to Income:"
   ]
  },
  {
   "cell_type": "code",
   "execution_count": 186,
   "id": "60b8c4c7",
   "metadata": {},
   "outputs": [
    {
     "data": {
      "text/html": [
       "<div>\n",
       "<style scoped>\n",
       "    .dataframe tbody tr th:only-of-type {\n",
       "        vertical-align: middle;\n",
       "    }\n",
       "\n",
       "    .dataframe tbody tr th {\n",
       "        vertical-align: top;\n",
       "    }\n",
       "\n",
       "    .dataframe thead tr th {\n",
       "        text-align: left;\n",
       "    }\n",
       "</style>\n",
       "<table border=\"1\" class=\"dataframe\">\n",
       "  <thead>\n",
       "    <tr>\n",
       "      <th></th>\n",
       "      <th>income</th>\n",
       "      <th>year</th>\n",
       "      <th colspan=\"5\" halign=\"left\">ratio</th>\n",
       "    </tr>\n",
       "    <tr>\n",
       "      <th></th>\n",
       "      <th></th>\n",
       "      <th></th>\n",
       "      <th>mean</th>\n",
       "      <th>std</th>\n",
       "      <th>size</th>\n",
       "      <th>get_ci_lb</th>\n",
       "      <th>get_ci_ub</th>\n",
       "    </tr>\n",
       "  </thead>\n",
       "  <tbody>\n",
       "    <tr>\n",
       "      <th>0</th>\n",
       "      <td>High income</td>\n",
       "      <td>2020</td>\n",
       "      <td>110.071092</td>\n",
       "      <td>184.041271</td>\n",
       "      <td>9477</td>\n",
       "      <td>106.365280</td>\n",
       "      <td>113.776903</td>\n",
       "    </tr>\n",
       "    <tr>\n",
       "      <th>1</th>\n",
       "      <td>High income</td>\n",
       "      <td>2021</td>\n",
       "      <td>198.575163</td>\n",
       "      <td>510.705591</td>\n",
       "      <td>13416</td>\n",
       "      <td>189.932524</td>\n",
       "      <td>207.217802</td>\n",
       "    </tr>\n",
       "    <tr>\n",
       "      <th>2</th>\n",
       "      <td>Low income</td>\n",
       "      <td>2020</td>\n",
       "      <td>51.368931</td>\n",
       "      <td>75.219109</td>\n",
       "      <td>2388</td>\n",
       "      <td>48.350513</td>\n",
       "      <td>54.387349</td>\n",
       "    </tr>\n",
       "    <tr>\n",
       "      <th>3</th>\n",
       "      <td>Low income</td>\n",
       "      <td>2021</td>\n",
       "      <td>55.006252</td>\n",
       "      <td>105.314757</td>\n",
       "      <td>4058</td>\n",
       "      <td>51.765014</td>\n",
       "      <td>58.247489</td>\n",
       "    </tr>\n",
       "    <tr>\n",
       "      <th>4</th>\n",
       "      <td>Lower middle income</td>\n",
       "      <td>2020</td>\n",
       "      <td>59.430011</td>\n",
       "      <td>65.567399</td>\n",
       "      <td>5894</td>\n",
       "      <td>57.755761</td>\n",
       "      <td>61.104260</td>\n",
       "    </tr>\n",
       "    <tr>\n",
       "      <th>5</th>\n",
       "      <td>Lower middle income</td>\n",
       "      <td>2021</td>\n",
       "      <td>79.194789</td>\n",
       "      <td>158.801813</td>\n",
       "      <td>9668</td>\n",
       "      <td>76.028944</td>\n",
       "      <td>82.360633</td>\n",
       "    </tr>\n",
       "    <tr>\n",
       "      <th>6</th>\n",
       "      <td>Upper middle income</td>\n",
       "      <td>2020</td>\n",
       "      <td>63.920043</td>\n",
       "      <td>99.381190</td>\n",
       "      <td>8861</td>\n",
       "      <td>61.850520</td>\n",
       "      <td>65.989566</td>\n",
       "    </tr>\n",
       "    <tr>\n",
       "      <th>7</th>\n",
       "      <td>Upper middle income</td>\n",
       "      <td>2021</td>\n",
       "      <td>82.289241</td>\n",
       "      <td>159.718291</td>\n",
       "      <td>14011</td>\n",
       "      <td>79.644363</td>\n",
       "      <td>84.934119</td>\n",
       "    </tr>\n",
       "  </tbody>\n",
       "</table>\n",
       "</div>"
      ],
      "text/plain": [
       "                income  year       ratio                                 \\\n",
       "                                    mean         std   size   get_ci_lb   \n",
       "0          High income  2020  110.071092  184.041271   9477  106.365280   \n",
       "1          High income  2021  198.575163  510.705591  13416  189.932524   \n",
       "2           Low income  2020   51.368931   75.219109   2388   48.350513   \n",
       "3           Low income  2021   55.006252  105.314757   4058   51.765014   \n",
       "4  Lower middle income  2020   59.430011   65.567399   5894   57.755761   \n",
       "5  Lower middle income  2021   79.194789  158.801813   9668   76.028944   \n",
       "6  Upper middle income  2020   63.920043   99.381190   8861   61.850520   \n",
       "7  Upper middle income  2021   82.289241  159.718291  14011   79.644363   \n",
       "\n",
       "               \n",
       "    get_ci_ub  \n",
       "0  113.776903  \n",
       "1  207.217802  \n",
       "2   54.387349  \n",
       "3   58.247489  \n",
       "4   61.104260  \n",
       "5   82.360633  \n",
       "6   65.989566  \n",
       "7   84.934119  "
      ]
     },
     "execution_count": 186,
     "metadata": {},
     "output_type": "execute_result"
    }
   ],
   "source": [
    "df4=df.groupby(['income','year']).agg({\"ratio\": [np.mean, np.std, np.size, get_ci_lb, get_ci_ub]})\n",
    "df4=df4.reset_index()\n",
    "df4= pd.DataFrame(df4)\n",
    "df4"
   ]
  },
  {
   "cell_type": "markdown",
   "id": "5a0be5eb",
   "metadata": {},
   "source": [
    "Now let's create two graphs for ratio according to income in 2020 and 2021:"
   ]
  },
  {
   "cell_type": "code",
   "execution_count": 197,
   "id": "a0dc8fd7",
   "metadata": {},
   "outputs": [],
   "source": [
    "in20=df4[(df4['year']==2020)]\n",
    "in21=df4[(df4['year']==2021)]\n",
    "\n",
    "in20.columns\n",
    "in20.columns=['continent','year','mean','std','size','get_ci_lb','get_ci_ub']\n",
    "in21.columns\n",
    "in21.columns=['continent','year','mean','std','size','get_ci_lb','get_ci_ub']"
   ]
  },
  {
   "cell_type": "code",
   "execution_count": 198,
   "id": "c1c962bb",
   "metadata": {},
   "outputs": [
    {
     "data": {
      "text/plain": [
       "Text(0.5, 1.0, 'Income in 2020')"
      ]
     },
     "execution_count": 198,
     "metadata": {},
     "output_type": "execute_result"
    },
    {
     "data": {
      "image/png": "[encoded data removed]",
      "text/plain": [
       "<Figure size 432x288 with 1 Axes>"
      ]
     },
     "metadata": {
      "needs_background": "light"
     },
     "output_type": "display_data"
    }
   ],
   "source": [
    "import matplotlib.pyplot as plt\n",
    "for lb,ub,y in zip(in20['get_ci_lb'],in20['get_ci_ub'],range(len(in20))):\n",
    "    plt.plot((lb,ub),(y,y),'ro-')\n",
    "plt.yticks(range(len(in20)),list(in20['continent']))\n",
    "plt.xlabel(\"Ratio\")\n",
    "plt.ylabel(\"Income\")\n",
    "plt.title(\"Income in 2020\")"
   ]
  },
  {
   "cell_type": "code",
   "execution_count": 201,
   "id": "269ffbec",
   "metadata": {},
   "outputs": [
    {
     "data": {
      "text/plain": [
       "Text(0.5, 1.0, 'Income in 2021')"
      ]
     },
     "execution_count": 201,
     "metadata": {},
     "output_type": "execute_result"
    },
    {
     "data": {
      "image/png": "[encoded data removed]",
      "text/plain": [
       "<Figure size 432x288 with 1 Axes>"
      ]
     },
     "metadata": {
      "needs_background": "light"
     },
     "output_type": "display_data"
    }
   ],
   "source": [
    "import matplotlib.pyplot as plt\n",
    "for lb,ub,y in zip(in21['get_ci_lb'],in21['get_ci_ub'],range(len(in21))):\n",
    "    plt.plot((lb,ub),(y,y),'ro-')\n",
    "plt.yticks(range(len(in21)),list(in21['continent']))\n",
    "plt.xlabel(\"Ratio\")\n",
    "plt.ylabel(\"Income\")\n",
    "plt.title(\"Income in 2021\")"
   ]
  },
  {
   "cell_type": "markdown",
   "id": "9e0b09d5",
   "metadata": {},
   "source": [
    "By comparing both graphs we can say that Low income and upper middle income showed a slight difference difference in ratio of deaths/reported cases from 2020 to 2021 yet the other income's showed no difference"
   ]
  },
  {
   "cell_type": "markdown",
   "id": "649411fb",
   "metadata": {},
   "source": [
    "# Conclusion"
   ]
  },
  {
   "cell_type": "markdown",
   "id": "270fddc7",
   "metadata": {},
   "source": [
    "I analyzed the ratio between reported number of cases and deaths for both 2020 and 2021. I then compared them in terms of continent, region and income."
   ]
  },
  {
   "cell_type": "markdown",
   "id": "46a5fa85",
   "metadata": {},
   "source": [
    "For region and continenet, we can say that ratio increased in most by 2021, however for income there is no major difference(increase/decrease) from 2020 to 2021"
   ]
  },
  {
   "cell_type": "markdown",
   "id": "371c1384",
   "metadata": {},
   "source": [
    "Also, ratio of deaths/reported cases decreased from 2020 to 2021"
   ]
  },
  {
   "cell_type": "code",
   "execution_count": null,
   "id": "1cf937a2",
   "metadata": {},
   "outputs": [],
   "source": []
  }
 ],
 "metadata": {
  "kernelspec": {
   "display_name": "Python 3 (ipykernel)",
   "language": "python",
   "name": "python3"
  },
  "language_info": {
   "codemirror_mode": {
    "name": "ipython",
    "version": 3
   },
   "file_extension": ".py",
   "mimetype": "text/x-python",
   "name": "python",
   "nbconvert_exporter": "python",
   "pygments_lexer": "ipython3",
   "version": "3.9.7"
  }
 },
 "nbformat": 4,
 "nbformat_minor": 5
}
