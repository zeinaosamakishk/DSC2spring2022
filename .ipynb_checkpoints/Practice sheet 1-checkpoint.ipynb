{
 "cells": [
  {
   "cell_type": "markdown",
   "id": "52c227a6",
   "metadata": {},
   "source": [
    "# Practice Sheet before the 1st Midterm "
   ]
  },
  {
   "cell_type": "markdown",
   "id": "2de603b0",
   "metadata": {},
   "source": [
    "## Exercise 1: "
   ]
  },
  {
   "cell_type": "markdown",
   "id": "d3cd90f3",
   "metadata": {},
   "source": [
    "Complete the following Python Code "
   ]
  },
  {
   "cell_type": "code",
   "execution_count": 1,
   "id": "1daca431",
   "metadata": {},
   "outputs": [],
   "source": [
    "import numpy as np"
   ]
  },
  {
   "cell_type": "code",
   "execution_count": 3,
   "id": "effc6e44",
   "metadata": {},
   "outputs": [],
   "source": [
    "x = np.linspace(2,15,20)"
   ]
  },
  {
   "cell_type": "code",
   "execution_count": 4,
   "id": "58b78381",
   "metadata": {},
   "outputs": [
    {
     "data": {
      "text/plain": [
       "array([ 2.        ,  2.68421053,  3.36842105,  4.05263158,  4.73684211,\n",
       "        5.42105263,  6.10526316,  6.78947368,  7.47368421,  8.15789474,\n",
       "        8.84210526,  9.52631579, 10.21052632, 10.89473684, 11.57894737,\n",
       "       12.26315789, 12.94736842, 13.63157895, 14.31578947, 15.        ])"
      ]
     },
     "execution_count": 4,
     "metadata": {},
     "output_type": "execute_result"
    }
   ],
   "source": [
    "x"
   ]
  },
  {
   "cell_type": "code",
   "execution_count": 24,
   "id": "9d1fc28f",
   "metadata": {},
   "outputs": [
    {
     "data": {
      "text/plain": [
       "0.6842105263157895"
      ]
     },
     "execution_count": 24,
     "metadata": {},
     "output_type": "execute_result"
    }
   ],
   "source": [
    "(15-2)/19"
   ]
  },
  {
   "cell_type": "code",
   "execution_count": 13,
   "id": "957b22e7",
   "metadata": {},
   "outputs": [
    {
     "data": {
      "text/plain": [
       "4.052631578947368"
      ]
     },
     "execution_count": 13,
     "metadata": {},
     "output_type": "execute_result"
    }
   ],
   "source": [
    "x[3]"
   ]
  },
  {
   "cell_type": "code",
   "execution_count": 14,
   "id": "eec991e8",
   "metadata": {},
   "outputs": [
    {
     "data": {
      "text/plain": [
       "2.0"
      ]
     },
     "execution_count": 14,
     "metadata": {},
     "output_type": "execute_result"
    }
   ],
   "source": [
    "x[0]"
   ]
  },
  {
   "cell_type": "code",
   "execution_count": 15,
   "id": "9f0feced",
   "metadata": {},
   "outputs": [
    {
     "data": {
      "text/plain": [
       "20"
      ]
     },
     "execution_count": 15,
     "metadata": {},
     "output_type": "execute_result"
    }
   ],
   "source": [
    "len(x)"
   ]
  },
  {
   "cell_type": "code",
   "execution_count": 16,
   "id": "15edc189",
   "metadata": {},
   "outputs": [
    {
     "data": {
      "text/plain": [
       "2.0"
      ]
     },
     "execution_count": 16,
     "metadata": {},
     "output_type": "execute_result"
    }
   ],
   "source": [
    "x.min()"
   ]
  },
  {
   "cell_type": "code",
   "execution_count": 18,
   "id": "c94eade1",
   "metadata": {},
   "outputs": [],
   "source": [
    "import pandas as pd"
   ]
  },
  {
   "cell_type": "code",
   "execution_count": 21,
   "id": "64c0c86e",
   "metadata": {},
   "outputs": [
    {
     "data": {
      "text/plain": [
       "8.5"
      ]
     },
     "execution_count": 21,
     "metadata": {},
     "output_type": "execute_result"
    }
   ],
   "source": [
    "x.mean()"
   ]
  },
  {
   "cell_type": "code",
   "execution_count": 22,
   "id": "f6f6e236",
   "metadata": {},
   "outputs": [
    {
     "data": {
      "text/plain": [
       "170.0"
      ]
     },
     "execution_count": 22,
     "metadata": {},
     "output_type": "execute_result"
    }
   ],
   "source": [
    "x.sum()"
   ]
  },
  {
   "cell_type": "markdown",
   "id": "7a567a7a",
   "metadata": {},
   "source": [
    "## Exercise 2 "
   ]
  },
  {
   "cell_type": "markdown",
   "id": "2548c99a",
   "metadata": {},
   "source": [
    "Let's  consider the Python code below "
   ]
  },
  {
   "cell_type": "code",
   "execution_count": null,
   "id": "e8eddf09",
   "metadata": {},
   "outputs": [],
   "source": [
    "import pandas as pd"
   ]
  },
  {
   "cell_type": "code",
   "execution_count": 25,
   "id": "5b390aff",
   "metadata": {},
   "outputs": [],
   "source": [
    "df=pd.read_csv(\"employee.csv\")"
   ]
  },
  {
   "cell_type": "code",
   "execution_count": 60,
   "id": "43b24f18",
   "metadata": {},
   "outputs": [
    {
     "data": {
      "text/html": [
       "<div>\n",
       "<style scoped>\n",
       "    .dataframe tbody tr th:only-of-type {\n",
       "        vertical-align: middle;\n",
       "    }\n",
       "\n",
       "    .dataframe tbody tr th {\n",
       "        vertical-align: top;\n",
       "    }\n",
       "\n",
       "    .dataframe thead th {\n",
       "        text-align: right;\n",
       "    }\n",
       "</style>\n",
       "<table border=\"1\" class=\"dataframe\">\n",
       "  <thead>\n",
       "    <tr style=\"text-align: right;\">\n",
       "      <th></th>\n",
       "      <th>name</th>\n",
       "      <th>age</th>\n",
       "      <th>income</th>\n",
       "      <th>gender</th>\n",
       "      <th>department</th>\n",
       "      <th>grade</th>\n",
       "      <th>performance_score</th>\n",
       "    </tr>\n",
       "  </thead>\n",
       "  <tbody>\n",
       "    <tr>\n",
       "      <th>0</th>\n",
       "      <td>Allen Smith</td>\n",
       "      <td>45.0</td>\n",
       "      <td>45000</td>\n",
       "      <td>M</td>\n",
       "      <td>Operations</td>\n",
       "      <td>G3</td>\n",
       "      <td>723</td>\n",
       "    </tr>\n",
       "    <tr>\n",
       "      <th>1</th>\n",
       "      <td>S Kumar</td>\n",
       "      <td>NaN</td>\n",
       "      <td>16000</td>\n",
       "      <td>F</td>\n",
       "      <td>Finance</td>\n",
       "      <td>G0</td>\n",
       "      <td>520</td>\n",
       "    </tr>\n",
       "    <tr>\n",
       "      <th>2</th>\n",
       "      <td>Jack Morgan</td>\n",
       "      <td>32.0</td>\n",
       "      <td>35000</td>\n",
       "      <td>M</td>\n",
       "      <td>Finance</td>\n",
       "      <td>G2</td>\n",
       "      <td>674</td>\n",
       "    </tr>\n",
       "  </tbody>\n",
       "</table>\n",
       "</div>"
      ],
      "text/plain": [
       "          name   age  income gender  department grade  performance_score\n",
       "0  Allen Smith  45.0   45000      M  Operations    G3                723\n",
       "1      S Kumar   NaN   16000      F     Finance    G0                520\n",
       "2  Jack Morgan  32.0   35000      M     Finance    G2                674"
      ]
     },
     "execution_count": 60,
     "metadata": {},
     "output_type": "execute_result"
    }
   ],
   "source": [
    "df.head(3)"
   ]
  },
  {
   "cell_type": "markdown",
   "id": "318d46fa",
   "metadata": {},
   "source": [
    "1. What's the output of the following Python code "
   ]
  },
  {
   "cell_type": "code",
   "execution_count": 27,
   "id": "4a9d89b5",
   "metadata": {},
   "outputs": [
    {
     "data": {
      "text/plain": [
       "(9, 7)"
      ]
     },
     "execution_count": 27,
     "metadata": {},
     "output_type": "execute_result"
    }
   ],
   "source": [
    "df.shape"
   ]
  },
  {
   "cell_type": "markdown",
   "id": "6a9dafef",
   "metadata": {},
   "source": [
    "2. What was the Python command used to obtain the following output "
   ]
  },
  {
   "cell_type": "code",
   "execution_count": 29,
   "id": "299764b6",
   "metadata": {},
   "outputs": [
    {
     "data": {
      "text/plain": [
       "F    5\n",
       "M    4\n",
       "Name: gender, dtype: int64"
      ]
     },
     "execution_count": 29,
     "metadata": {},
     "output_type": "execute_result"
    }
   ],
   "source": [
    "df['gender'].value_counts()"
   ]
  },
  {
   "cell_type": "markdown",
   "id": "3bdcd1d0",
   "metadata": {},
   "source": [
    "3. Complete the following output "
   ]
  },
  {
   "cell_type": "code",
   "execution_count": 61,
   "id": "7a046a50",
   "metadata": {},
   "outputs": [
    {
     "data": {
      "text/plain": [
       "0    45.0\n",
       "1     NaN\n",
       "2    32.0\n",
       "3    45.0\n",
       "4    30.0\n",
       "5     NaN\n",
       "6    54.0\n",
       "7    54.0\n",
       "8    23.0\n",
       "Name: age, dtype: float64"
      ]
     },
     "execution_count": 61,
     "metadata": {},
     "output_type": "execute_result"
    }
   ],
   "source": [
    "df['age']"
   ]
  },
  {
   "cell_type": "code",
   "execution_count": 31,
   "id": "ee9d1684",
   "metadata": {},
   "outputs": [
    {
     "data": {
      "text/plain": [
       "40.42857142857143"
      ]
     },
     "execution_count": 31,
     "metadata": {},
     "output_type": "execute_result"
    }
   ],
   "source": [
    "df['age'].mean()"
   ]
  },
  {
   "cell_type": "code",
   "execution_count": 32,
   "id": "15ed1293",
   "metadata": {},
   "outputs": [
    {
     "data": {
      "text/plain": [
       "283.0"
      ]
     },
     "execution_count": 32,
     "metadata": {},
     "output_type": "execute_result"
    }
   ],
   "source": [
    "df['age'].sum()"
   ]
  },
  {
   "cell_type": "code",
   "execution_count": 33,
   "id": "56f9c816",
   "metadata": {},
   "outputs": [
    {
     "data": {
      "text/plain": [
       "7.0"
      ]
     },
     "execution_count": 33,
     "metadata": {},
     "output_type": "execute_result"
    }
   ],
   "source": [
    "df['age'].sum()/df['age'].mean()"
   ]
  },
  {
   "cell_type": "markdown",
   "id": "66338275",
   "metadata": {},
   "source": [
    "4. Deduce from below the Sample variance and the standard deviation of the `Performance_score` variable "
   ]
  },
  {
   "cell_type": "code",
   "execution_count": 37,
   "id": "f8469173",
   "metadata": {},
   "outputs": [],
   "source": [
    "xbar=df['performance_score'].mean()"
   ]
  },
  {
   "cell_type": "code",
   "execution_count": 39,
   "id": "44fccf93",
   "metadata": {},
   "outputs": [],
   "source": [
    "xs=(df['performance_score']-xbar)**2"
   ]
  },
  {
   "cell_type": "code",
   "execution_count": 40,
   "id": "d29f1a2c",
   "metadata": {},
   "outputs": [
    {
     "data": {
      "text/plain": [
       "444329.99999999994"
      ]
     },
     "execution_count": 40,
     "metadata": {},
     "output_type": "execute_result"
    }
   ],
   "source": [
    "xs.sum()"
   ]
  },
  {
   "cell_type": "code",
   "execution_count": 41,
   "id": "6766f16f",
   "metadata": {},
   "outputs": [
    {
     "data": {
      "text/plain": [
       "55541.24999999999"
      ]
     },
     "execution_count": 41,
     "metadata": {},
     "output_type": "execute_result"
    }
   ],
   "source": [
    "df['performance_score'].var()"
   ]
  },
  {
   "cell_type": "code",
   "execution_count": 47,
   "id": "8e61fa5a",
   "metadata": {},
   "outputs": [
    {
     "data": {
      "text/plain": [
       "55541.24999999999"
      ]
     },
     "execution_count": 47,
     "metadata": {},
     "output_type": "execute_result"
    }
   ],
   "source": [
    "xs.sum()/8"
   ]
  },
  {
   "cell_type": "code",
   "execution_count": 44,
   "id": "c66a04f5",
   "metadata": {},
   "outputs": [
    {
     "data": {
      "text/plain": [
       "0     12618.777778\n",
       "1      8220.444444\n",
       "2      4011.111111\n",
       "3      2988.444444\n",
       "4     10066.777778\n",
       "5      1469.444444\n",
       "6    310992.111111\n",
       "7     84293.444444\n",
       "8      9669.444444\n",
       "Name: performance_score, dtype: float64"
      ]
     },
     "execution_count": 44,
     "metadata": {},
     "output_type": "execute_result"
    }
   ],
   "source": [
    "xs"
   ]
  },
  {
   "cell_type": "code",
   "execution_count": 45,
   "id": "48bb5ba1",
   "metadata": {},
   "outputs": [
    {
     "data": {
      "text/plain": [
       "610.6666666666666"
      ]
     },
     "execution_count": 45,
     "metadata": {},
     "output_type": "execute_result"
    }
   ],
   "source": [
    "df['performance_score'].mean()"
   ]
  },
  {
   "cell_type": "code",
   "execution_count": 46,
   "id": "84850d35",
   "metadata": {},
   "outputs": [
    {
     "data": {
      "text/plain": [
       "9"
      ]
     },
     "execution_count": 46,
     "metadata": {},
     "output_type": "execute_result"
    }
   ],
   "source": [
    "3**2"
   ]
  },
  {
   "cell_type": "code",
   "execution_count": 48,
   "id": "81185d4b",
   "metadata": {},
   "outputs": [
    {
     "data": {
      "text/plain": [
       "235.6719117756717"
      ]
     },
     "execution_count": 48,
     "metadata": {},
     "output_type": "execute_result"
    }
   ],
   "source": [
    "df['performance_score'].std()"
   ]
  },
  {
   "cell_type": "code",
   "execution_count": 50,
   "id": "354b5236",
   "metadata": {},
   "outputs": [],
   "source": [
    "import math"
   ]
  },
  {
   "cell_type": "code",
   "execution_count": 54,
   "id": "eaf99b55",
   "metadata": {},
   "outputs": [],
   "source": [
    "import numpy as np"
   ]
  },
  {
   "cell_type": "code",
   "execution_count": 57,
   "id": "15bb4d02",
   "metadata": {},
   "outputs": [],
   "source": [
    "xv=df['performance_score'].var()"
   ]
  },
  {
   "cell_type": "code",
   "execution_count": 58,
   "id": "5318418f",
   "metadata": {},
   "outputs": [
    {
     "data": {
      "text/plain": [
       "235.6719117756717"
      ]
     },
     "execution_count": 58,
     "metadata": {},
     "output_type": "execute_result"
    }
   ],
   "source": [
    "math.sqrt(xv)"
   ]
  },
  {
   "cell_type": "code",
   "execution_count": 59,
   "id": "cff3c809",
   "metadata": {},
   "outputs": [
    {
     "data": {
      "text/plain": [
       "9"
      ]
     },
     "execution_count": 59,
     "metadata": {},
     "output_type": "execute_result"
    }
   ],
   "source": [
    "len(df['performance_score'])"
   ]
  },
  {
   "cell_type": "markdown",
   "id": "fdb60a16",
   "metadata": {},
   "source": [
    "5. Find five syntax errors in the code below"
   ]
  },
  {
   "cell_type": "code",
   "execution_count": 62,
   "id": "b6ea2d2f",
   "metadata": {},
   "outputs": [],
   "source": [
    "import pandas as pd"
   ]
  },
  {
   "cell_type": "code",
   "execution_count": 63,
   "id": "bf4a6e9c",
   "metadata": {},
   "outputs": [],
   "source": [
    "df=pd.read_csv(\"employee.csv\")"
   ]
  },
  {
   "cell_type": "code",
   "execution_count": 65,
   "id": "19f3c132",
   "metadata": {},
   "outputs": [
    {
     "data": {
      "text/plain": [
       "Index(['name', 'age', 'income', 'gender', 'department', 'grade',\n",
       "       'performance_score'],\n",
       "      dtype='object')"
      ]
     },
     "execution_count": 65,
     "metadata": {},
     "output_type": "execute_result"
    }
   ],
   "source": [
    "df.columns"
   ]
  },
  {
   "cell_type": "code",
   "execution_count": 66,
   "id": "49bb5a57",
   "metadata": {},
   "outputs": [
    {
     "data": {
      "text/plain": [
       "Operations    0.333333\n",
       "Finance       0.333333\n",
       "Sales         0.333333\n",
       "Name: department, dtype: float64"
      ]
     },
     "execution_count": 66,
     "metadata": {},
     "output_type": "execute_result"
    }
   ],
   "source": [
    "df['department'].value_counts(normalize=True)"
   ]
  },
  {
   "cell_type": "code",
   "execution_count": 67,
   "id": "47bdeb13",
   "metadata": {},
   "outputs": [
    {
     "data": {
      "text/plain": [
       "0    Operations\n",
       "1       Finance\n",
       "2       Finance\n",
       "3         Sales\n",
       "4    Operations\n",
       "5         Sales\n",
       "6    Operations\n",
       "7       Finance\n",
       "8         Sales\n",
       "Name: department, dtype: object"
      ]
     },
     "execution_count": 67,
     "metadata": {},
     "output_type": "execute_result"
    }
   ],
   "source": [
    "df['department']"
   ]
  },
  {
   "cell_type": "code",
   "execution_count": 70,
   "id": "253beadb",
   "metadata": {},
   "outputs": [
    {
     "data": {
      "text/plain": [
       "'Operations'"
      ]
     },
     "execution_count": 70,
     "metadata": {},
     "output_type": "execute_result"
    }
   ],
   "source": [
    "df['department'][0]"
   ]
  },
  {
   "cell_type": "code",
   "execution_count": 71,
   "id": "1c4dd241",
   "metadata": {},
   "outputs": [
    {
     "data": {
      "text/plain": [
       "6    Operations\n",
       "7       Finance\n",
       "Name: department, dtype: object"
      ]
     },
     "execution_count": 71,
     "metadata": {},
     "output_type": "execute_result"
    }
   ],
   "source": [
    "df['department'][6:8]"
   ]
  },
  {
   "cell_type": "code",
   "execution_count": 72,
   "id": "b9b3bfd5",
   "metadata": {},
   "outputs": [
    {
     "data": {
      "text/plain": [
       "30.0"
      ]
     },
     "execution_count": 72,
     "metadata": {},
     "output_type": "execute_result"
    }
   ],
   "source": [
    "df['age'].quantile(.25)"
   ]
  },
  {
   "cell_type": "code",
   "execution_count": 73,
   "id": "5fb664c1",
   "metadata": {},
   "outputs": [],
   "source": [
    "import matplotlib.pyplot as plt"
   ]
  },
  {
   "cell_type": "code",
   "execution_count": 74,
   "id": "d95934ef",
   "metadata": {},
   "outputs": [
    {
     "data": {
      "text/plain": [
       "<matplotlib.collections.PathCollection at 0x1ff3494ebb0>"
      ]
     },
     "execution_count": 74,
     "metadata": {},
     "output_type": "execute_result"
    },
    {
     "data": {
      "image/png": "[encoded data removed]",
      "text/plain": [
       "<Figure size 432x288 with 1 Axes>"
      ]
     },
     "metadata": {
      "needs_background": "light"
     },
     "output_type": "display_data"
    }
   ],
   "source": [
    "plt.scatter(df['age'],df['performance_score'])"
   ]
  },
  {
   "cell_type": "markdown",
   "id": "b58e3bbf",
   "metadata": {},
   "source": [
    "## Exercise 3 "
   ]
  },
  {
   "cell_type": "markdown",
   "id": "fe231f23",
   "metadata": {},
   "source": [
    "Can you link with an arrow the following scatter plots with the corresponding correlation coefficients "
   ]
  },
  {
   "cell_type": "code",
   "execution_count": 75,
   "id": "038bdb4f",
   "metadata": {},
   "outputs": [],
   "source": [
    "import numpy as np"
   ]
  },
  {
   "cell_type": "code",
   "execution_count": 82,
   "id": "9665b558",
   "metadata": {},
   "outputs": [],
   "source": [
    "x=-3*(2*np.random.random(100)-1)"
   ]
  },
  {
   "cell_type": "code",
   "execution_count": 83,
   "id": "3b9666a0",
   "metadata": {},
   "outputs": [
    {
     "data": {
      "text/plain": [
       "array([-1.81421499, -2.21191416,  1.4774869 , -0.55938045,  2.29464507,\n",
       "       -1.07672411, -0.49438444, -0.95279691, -1.95298684,  0.88985444,\n",
       "       -0.75095117, -0.66557009,  0.42643551, -2.16552336,  0.5569421 ,\n",
       "       -1.97260725, -1.34978351,  2.15049004, -2.34905359,  2.81524067,\n",
       "       -2.93004142,  0.08208941,  2.08717736,  2.26157565,  1.28143342,\n",
       "        1.58510606, -2.61585878,  0.66489624, -0.35459923,  1.8835664 ,\n",
       "       -0.28445194,  1.86667924,  0.08476038, -1.26920465,  1.23211334,\n",
       "        1.49081758, -0.74002163, -1.26784486, -0.36258574,  0.25697457,\n",
       "        0.3067825 , -0.35615271,  0.10808201,  0.35783274,  2.34658569,\n",
       "       -0.0069983 ,  1.41477895,  1.57530582, -0.35499749, -1.03725389,\n",
       "       -1.48873016,  2.27586908, -1.41099484, -1.79397638, -0.44525382,\n",
       "       -2.50245834, -1.88485483, -0.99515098, -1.19731725,  1.31535663,\n",
       "        2.13584236, -0.78051334, -2.54428435,  0.82448144, -0.52115386,\n",
       "       -2.36290448, -1.08817422,  2.05340519,  0.35919822, -0.19049286,\n",
       "       -2.59578569,  1.92833441, -0.9580864 ,  2.78173889, -2.88843812,\n",
       "       -1.06885237,  1.08794641, -0.95352954,  2.24898304, -2.84769935,\n",
       "       -0.8324937 ,  0.62996308, -0.94772691, -1.88168573, -1.46840959,\n",
       "       -0.82657132, -1.27414459,  1.8194727 , -0.93118542, -1.21482579,\n",
       "       -0.88779038, -0.05034034, -1.52932889,  0.59217538,  0.31160294,\n",
       "        2.03313989, -0.12426516, -1.82268405, -2.49656053,  0.95166856])"
      ]
     },
     "execution_count": 83,
     "metadata": {},
     "output_type": "execute_result"
    }
   ],
   "source": [
    "x"
   ]
  },
  {
   "cell_type": "code",
   "execution_count": 108,
   "id": "ddbd8e13",
   "metadata": {},
   "outputs": [],
   "source": [
    "y1=2+.2*x+np.random.random(100)"
   ]
  },
  {
   "cell_type": "code",
   "execution_count": 109,
   "id": "c035a94e",
   "metadata": {},
   "outputs": [
    {
     "data": {
      "text/html": [
       "<div>\n",
       "<style scoped>\n",
       "    .dataframe tbody tr th:only-of-type {\n",
       "        vertical-align: middle;\n",
       "    }\n",
       "\n",
       "    .dataframe tbody tr th {\n",
       "        vertical-align: top;\n",
       "    }\n",
       "\n",
       "    .dataframe thead th {\n",
       "        text-align: right;\n",
       "    }\n",
       "</style>\n",
       "<table border=\"1\" class=\"dataframe\">\n",
       "  <thead>\n",
       "    <tr style=\"text-align: right;\">\n",
       "      <th></th>\n",
       "      <th>x</th>\n",
       "      <th>y</th>\n",
       "    </tr>\n",
       "  </thead>\n",
       "  <tbody>\n",
       "    <tr>\n",
       "      <th>x</th>\n",
       "      <td>1.000000</td>\n",
       "      <td>0.764247</td>\n",
       "    </tr>\n",
       "    <tr>\n",
       "      <th>y</th>\n",
       "      <td>0.764247</td>\n",
       "      <td>1.000000</td>\n",
       "    </tr>\n",
       "  </tbody>\n",
       "</table>\n",
       "</div>"
      ],
      "text/plain": [
       "          x         y\n",
       "x  1.000000  0.764247\n",
       "y  0.764247  1.000000"
      ]
     },
     "execution_count": 109,
     "metadata": {},
     "output_type": "execute_result"
    }
   ],
   "source": [
    "dd=pd.DataFrame({'x':x,'y':y1})\n",
    "dd.corr()"
   ]
  },
  {
   "cell_type": "code",
   "execution_count": 110,
   "id": "dd1727f3",
   "metadata": {},
   "outputs": [],
   "source": [
    "import matplotlib.pyplot as plt"
   ]
  },
  {
   "cell_type": "code",
   "execution_count": 111,
   "id": "7f490b76",
   "metadata": {},
   "outputs": [
    {
     "data": {
      "text/plain": [
       "<matplotlib.collections.PathCollection at 0x1ff36be3880>"
      ]
     },
     "execution_count": 111,
     "metadata": {},
     "output_type": "execute_result"
    },
    {
     "data": {
      "image/png": "[encoded data removed]",
      "text/plain": [
       "<Figure size 432x288 with 1 Axes>"
      ]
     },
     "metadata": {
      "needs_background": "light"
     },
     "output_type": "display_data"
    }
   ],
   "source": [
    "plt.scatter(x,y1)"
   ]
  },
  {
   "cell_type": "code",
   "execution_count": 112,
   "id": "91d10d07",
   "metadata": {},
   "outputs": [],
   "source": [
    "y2=-3+.85*x+np.random.random(100)"
   ]
  },
  {
   "cell_type": "code",
   "execution_count": 113,
   "id": "fda0d6f9",
   "metadata": {},
   "outputs": [
    {
     "data": {
      "text/html": [
       "<div>\n",
       "<style scoped>\n",
       "    .dataframe tbody tr th:only-of-type {\n",
       "        vertical-align: middle;\n",
       "    }\n",
       "\n",
       "    .dataframe tbody tr th {\n",
       "        vertical-align: top;\n",
       "    }\n",
       "\n",
       "    .dataframe thead th {\n",
       "        text-align: right;\n",
       "    }\n",
       "</style>\n",
       "<table border=\"1\" class=\"dataframe\">\n",
       "  <thead>\n",
       "    <tr style=\"text-align: right;\">\n",
       "      <th></th>\n",
       "      <th>x</th>\n",
       "      <th>y</th>\n",
       "    </tr>\n",
       "  </thead>\n",
       "  <tbody>\n",
       "    <tr>\n",
       "      <th>x</th>\n",
       "      <td>1.000000</td>\n",
       "      <td>0.977914</td>\n",
       "    </tr>\n",
       "    <tr>\n",
       "      <th>y</th>\n",
       "      <td>0.977914</td>\n",
       "      <td>1.000000</td>\n",
       "    </tr>\n",
       "  </tbody>\n",
       "</table>\n",
       "</div>"
      ],
      "text/plain": [
       "          x         y\n",
       "x  1.000000  0.977914\n",
       "y  0.977914  1.000000"
      ]
     },
     "execution_count": 113,
     "metadata": {},
     "output_type": "execute_result"
    }
   ],
   "source": [
    "dd=pd.DataFrame({'x':x,'y':y2})\n",
    "dd.corr()"
   ]
  },
  {
   "cell_type": "code",
   "execution_count": 114,
   "id": "d97f7a22",
   "metadata": {},
   "outputs": [
    {
     "data": {
      "text/plain": [
       "<matplotlib.collections.PathCollection at 0x1ff36c5c160>"
      ]
     },
     "execution_count": 114,
     "metadata": {},
     "output_type": "execute_result"
    },
    {
     "data": {
      "image/png": "[encoded data removed]",
      "text/plain": [
       "<Figure size 432x288 with 1 Axes>"
      ]
     },
     "metadata": {
      "needs_background": "light"
     },
     "output_type": "display_data"
    }
   ],
   "source": [
    "plt.scatter(x,y2)"
   ]
  },
  {
   "cell_type": "code",
   "execution_count": 115,
   "id": "30b9a716",
   "metadata": {},
   "outputs": [],
   "source": [
    "y3=-3+.05*x+np.random.random(100)"
   ]
  },
  {
   "cell_type": "code",
   "execution_count": 118,
   "id": "ec50ed61",
   "metadata": {},
   "outputs": [
    {
     "data": {
      "text/html": [
       "<div>\n",
       "<style scoped>\n",
       "    .dataframe tbody tr th:only-of-type {\n",
       "        vertical-align: middle;\n",
       "    }\n",
       "\n",
       "    .dataframe tbody tr th {\n",
       "        vertical-align: top;\n",
       "    }\n",
       "\n",
       "    .dataframe thead th {\n",
       "        text-align: right;\n",
       "    }\n",
       "</style>\n",
       "<table border=\"1\" class=\"dataframe\">\n",
       "  <thead>\n",
       "    <tr style=\"text-align: right;\">\n",
       "      <th></th>\n",
       "      <th>x</th>\n",
       "      <th>y</th>\n",
       "    </tr>\n",
       "  </thead>\n",
       "  <tbody>\n",
       "    <tr>\n",
       "      <th>x</th>\n",
       "      <td>1.000000</td>\n",
       "      <td>0.224915</td>\n",
       "    </tr>\n",
       "    <tr>\n",
       "      <th>y</th>\n",
       "      <td>0.224915</td>\n",
       "      <td>1.000000</td>\n",
       "    </tr>\n",
       "  </tbody>\n",
       "</table>\n",
       "</div>"
      ],
      "text/plain": [
       "          x         y\n",
       "x  1.000000  0.224915\n",
       "y  0.224915  1.000000"
      ]
     },
     "execution_count": 118,
     "metadata": {},
     "output_type": "execute_result"
    }
   ],
   "source": [
    "dd=pd.DataFrame({'x':x,'y':y3})\n",
    "dd.corr()"
   ]
  },
  {
   "cell_type": "code",
   "execution_count": 119,
   "id": "d7726f74",
   "metadata": {},
   "outputs": [
    {
     "data": {
      "text/plain": [
       "<matplotlib.collections.PathCollection at 0x1ff36cb6fa0>"
      ]
     },
     "execution_count": 119,
     "metadata": {},
     "output_type": "execute_result"
    },
    {
     "data": {
      "image/png": "[encoded data removed]",
      "text/plain": [
       "<Figure size 432x288 with 1 Axes>"
      ]
     },
     "metadata": {
      "needs_background": "light"
     },
     "output_type": "display_data"
    }
   ],
   "source": [
    "plt.scatter(x,y3)"
   ]
  },
  {
   "cell_type": "code",
   "execution_count": 92,
   "id": "9c8ccd1f",
   "metadata": {},
   "outputs": [],
   "source": [
    "y4=-3-.45*x+np.random.random(100)"
   ]
  },
  {
   "cell_type": "code",
   "execution_count": 120,
   "id": "962544d1",
   "metadata": {},
   "outputs": [
    {
     "data": {
      "text/html": [
       "<div>\n",
       "<style scoped>\n",
       "    .dataframe tbody tr th:only-of-type {\n",
       "        vertical-align: middle;\n",
       "    }\n",
       "\n",
       "    .dataframe tbody tr th {\n",
       "        vertical-align: top;\n",
       "    }\n",
       "\n",
       "    .dataframe thead th {\n",
       "        text-align: right;\n",
       "    }\n",
       "</style>\n",
       "<table border=\"1\" class=\"dataframe\">\n",
       "  <thead>\n",
       "    <tr style=\"text-align: right;\">\n",
       "      <th></th>\n",
       "      <th>x</th>\n",
       "      <th>y</th>\n",
       "    </tr>\n",
       "  </thead>\n",
       "  <tbody>\n",
       "    <tr>\n",
       "      <th>x</th>\n",
       "      <td>1.000000</td>\n",
       "      <td>-0.919487</td>\n",
       "    </tr>\n",
       "    <tr>\n",
       "      <th>y</th>\n",
       "      <td>-0.919487</td>\n",
       "      <td>1.000000</td>\n",
       "    </tr>\n",
       "  </tbody>\n",
       "</table>\n",
       "</div>"
      ],
      "text/plain": [
       "          x         y\n",
       "x  1.000000 -0.919487\n",
       "y -0.919487  1.000000"
      ]
     },
     "execution_count": 120,
     "metadata": {},
     "output_type": "execute_result"
    }
   ],
   "source": [
    "dd=pd.DataFrame({'x':x,'y':y4})\n",
    "dd.corr()"
   ]
  },
  {
   "cell_type": "code",
   "execution_count": 121,
   "id": "11afb9d8",
   "metadata": {},
   "outputs": [
    {
     "data": {
      "text/plain": [
       "<matplotlib.collections.PathCollection at 0x1ff36d24c70>"
      ]
     },
     "execution_count": 121,
     "metadata": {},
     "output_type": "execute_result"
    },
    {
     "data": {
      "image/png": "[encoded data removed]",
      "text/plain": [
       "<Figure size 432x288 with 1 Axes>"
      ]
     },
     "metadata": {
      "needs_background": "light"
     },
     "output_type": "display_data"
    }
   ],
   "source": [
    "plt.scatter(x,y4)"
   ]
  },
  {
   "cell_type": "markdown",
   "id": "8aae9a9c",
   "metadata": {},
   "source": [
    "## Exercise 4"
   ]
  },
  {
   "cell_type": "markdown",
   "id": "10744509",
   "metadata": {},
   "source": [
    "Complete the following Python code: "
   ]
  },
  {
   "cell_type": "code",
   "execution_count": 122,
   "id": "9b856002",
   "metadata": {},
   "outputs": [],
   "source": [
    "import numpy as np"
   ]
  },
  {
   "cell_type": "code",
   "execution_count": 123,
   "id": "b912248b",
   "metadata": {},
   "outputs": [
    {
     "name": "stdout",
     "output_type": "stream",
     "text": [
      "[[0.95936864 0.75702103]\n",
      " [0.70212368 0.98789156]]\n"
     ]
    }
   ],
   "source": [
    "t = np.random.random((2,2))\n",
    "print(t)"
   ]
  },
  {
   "cell_type": "code",
   "execution_count": 130,
   "id": "46679ba4",
   "metadata": {},
   "outputs": [
    {
     "name": "stdout",
     "output_type": "stream",
     "text": [
      "[[5 6]\n",
      " [7 8]]\n"
     ]
    }
   ],
   "source": [
    "a = np.array([[5,6],[7,8]])\n",
    "print(a)"
   ]
  },
  {
   "cell_type": "code",
   "execution_count": 131,
   "id": "a6e14934",
   "metadata": {},
   "outputs": [
    {
     "data": {
      "text/plain": [
       "6"
      ]
     },
     "execution_count": 131,
     "metadata": {},
     "output_type": "execute_result"
    }
   ],
   "source": [
    "a[0,1]"
   ]
  },
  {
   "cell_type": "code",
   "execution_count": 133,
   "id": "a1f8af3c",
   "metadata": {},
   "outputs": [
    {
     "name": "stdout",
     "output_type": "stream",
     "text": [
      "[[[5]\n",
      "  [6]]\n",
      "\n",
      " [[7]\n",
      "  [8]]]\n"
     ]
    }
   ],
   "source": [
    "a = np.array([[[5],[6]],[[7],[8]]])\n",
    "print(a)"
   ]
  },
  {
   "cell_type": "code",
   "execution_count": 134,
   "id": "45e9a0d4",
   "metadata": {},
   "outputs": [
    {
     "data": {
      "text/plain": [
       "array([[5],\n",
       "       [6]])"
      ]
     },
     "execution_count": 134,
     "metadata": {},
     "output_type": "execute_result"
    }
   ],
   "source": [
    "a[0]"
   ]
  },
  {
   "cell_type": "code",
   "execution_count": 135,
   "id": "e6a26e7a",
   "metadata": {},
   "outputs": [
    {
     "data": {
      "text/plain": [
       "array([6])"
      ]
     },
     "execution_count": 135,
     "metadata": {},
     "output_type": "execute_result"
    }
   ],
   "source": [
    "a[0,1]"
   ]
  },
  {
   "cell_type": "code",
   "execution_count": 136,
   "id": "b6e49842",
   "metadata": {},
   "outputs": [
    {
     "name": "stdout",
     "output_type": "stream",
     "text": [
      "[15 16 17 18 19 20 21 22]\n"
     ]
    }
   ],
   "source": [
    "a = np.arange(15,23)\n",
    "print(a)"
   ]
  },
  {
   "cell_type": "code",
   "execution_count": 137,
   "id": "05808d20",
   "metadata": {},
   "outputs": [
    {
     "name": "stdout",
     "output_type": "stream",
     "text": [
      "[0 1 2 3 4 5 6 7]\n"
     ]
    }
   ],
   "source": [
    "a = np.arange(8)\n",
    "print(a)"
   ]
  },
  {
   "cell_type": "code",
   "execution_count": 139,
   "id": "70436e7e",
   "metadata": {},
   "outputs": [
    {
     "data": {
      "text/plain": [
       "array([[0, 1],\n",
       "       [2, 3],\n",
       "       [4, 5],\n",
       "       [6, 7]])"
      ]
     },
     "execution_count": 139,
     "metadata": {},
     "output_type": "execute_result"
    }
   ],
   "source": [
    "a.reshape(4,2)\n"
   ]
  },
  {
   "cell_type": "code",
   "execution_count": 140,
   "id": "093176ca",
   "metadata": {},
   "outputs": [
    {
     "data": {
      "text/plain": [
       "array([[0, 1, 2, 3],\n",
       "       [4, 5, 6, 7]])"
      ]
     },
     "execution_count": 140,
     "metadata": {},
     "output_type": "execute_result"
    }
   ],
   "source": [
    "a.reshape(2,4)"
   ]
  },
  {
   "cell_type": "code",
   "execution_count": 141,
   "id": "4703bf86",
   "metadata": {},
   "outputs": [
    {
     "data": {
      "text/plain": [
       "array([[0, 2, 4, 6],\n",
       "       [1, 3, 5, 7]])"
      ]
     },
     "execution_count": 141,
     "metadata": {},
     "output_type": "execute_result"
    }
   ],
   "source": [
    "b=a.reshape(4,2)\n",
    "b.transpose()"
   ]
  },
  {
   "cell_type": "code",
   "execution_count": 142,
   "id": "186a042c",
   "metadata": {},
   "outputs": [
    {
     "data": {
      "text/plain": [
       "array([0, 1, 2, 3, 4, 5, 6, 7])"
      ]
     },
     "execution_count": 142,
     "metadata": {},
     "output_type": "execute_result"
    }
   ],
   "source": [
    "b.flatten()"
   ]
  },
  {
   "cell_type": "code",
   "execution_count": 143,
   "id": "39b49a90",
   "metadata": {},
   "outputs": [],
   "source": [
    "a = np.array([[1, 0, -1],\n",
    "              [0, 3, 2],\n",
    "              [-1, 0, 2]])\n",
    "b=np.array([[2, 3],\n",
    "            [-1, -1],\n",
    "            [3, 3]])\n",
    "c=np.matmul(a,b)"
   ]
  },
  {
   "cell_type": "code",
   "execution_count": 144,
   "id": "418faf9b",
   "metadata": {},
   "outputs": [
    {
     "data": {
      "text/plain": [
       "array([[-1,  0],\n",
       "       [ 3,  3],\n",
       "       [ 4,  3]])"
      ]
     },
     "execution_count": 144,
     "metadata": {},
     "output_type": "execute_result"
    }
   ],
   "source": [
    "c"
   ]
  },
  {
   "cell_type": "markdown",
   "id": "28ada8e5",
   "metadata": {},
   "source": [
    "### Exercise 5"
   ]
  },
  {
   "cell_type": "markdown",
   "id": "765a99d1",
   "metadata": {},
   "source": [
    "Let's consider the following Python code "
   ]
  },
  {
   "cell_type": "code",
   "execution_count": 2,
   "id": "9b0822ca",
   "metadata": {},
   "outputs": [],
   "source": [
    "from scipy import stats"
   ]
  },
  {
   "cell_type": "code",
   "execution_count": 3,
   "id": "a61ba6b8",
   "metadata": {},
   "outputs": [],
   "source": [
    "X= stats.poisson(3.2)"
   ]
  },
  {
   "cell_type": "code",
   "execution_count": 4,
   "id": "6571336f",
   "metadata": {},
   "outputs": [
    {
     "data": {
      "text/plain": [
       "0.04076220397836621"
      ]
     },
     "execution_count": 4,
     "metadata": {},
     "output_type": "execute_result"
    }
   ],
   "source": [
    "X.pmf(0)"
   ]
  },
  {
   "cell_type": "code",
   "execution_count": 5,
   "id": "02454021",
   "metadata": {},
   "outputs": [],
   "source": [
    "import numpy as np"
   ]
  },
  {
   "cell_type": "code",
   "execution_count": 6,
   "id": "6e68cf51",
   "metadata": {},
   "outputs": [
    {
     "data": {
      "text/plain": [
       "array([0, 1, 2, 3, 4, 5, 6, 7, 8, 9])"
      ]
     },
     "execution_count": 6,
     "metadata": {},
     "output_type": "execute_result"
    }
   ],
   "source": [
    "x=np.arange(0,10)\n",
    "x"
   ]
  },
  {
   "cell_type": "code",
   "execution_count": 7,
   "id": "f50180b2",
   "metadata": {},
   "outputs": [
    {
     "data": {
      "text/plain": [
       "array([0.0407622 , 0.13043905, 0.20870248, 0.22261598, 0.17809279,\n",
       "       0.11397938, 0.060789  , 0.02778926, 0.0111157 , 0.00395225])"
      ]
     },
     "execution_count": 7,
     "metadata": {},
     "output_type": "execute_result"
    }
   ],
   "source": [
    "X.pmf(x)"
   ]
  },
  {
   "cell_type": "code",
   "execution_count": 8,
   "id": "94123ea5",
   "metadata": {},
   "outputs": [
    {
     "data": {
      "text/plain": [
       "0.8945918945308227"
      ]
     },
     "execution_count": 8,
     "metadata": {},
     "output_type": "execute_result"
    }
   ],
   "source": [
    "X.cdf(5)"
   ]
  },
  {
   "cell_type": "code",
   "execution_count": 9,
   "id": "831ae73d",
   "metadata": {},
   "outputs": [
    {
     "data": {
      "text/plain": [
       "3.2"
      ]
     },
     "execution_count": 9,
     "metadata": {},
     "output_type": "execute_result"
    }
   ],
   "source": [
    "X.mean()"
   ]
  },
  {
   "cell_type": "code",
   "execution_count": 10,
   "id": "91d8d7fa",
   "metadata": {},
   "outputs": [
    {
     "data": {
      "text/plain": [
       "3.2"
      ]
     },
     "execution_count": 10,
     "metadata": {},
     "output_type": "execute_result"
    }
   ],
   "source": [
    "X.var()"
   ]
  },
  {
   "cell_type": "markdown",
   "id": "e12f097c",
   "metadata": {},
   "source": [
    "Let $X$ be a random variable with Poisson distribution with parameter $\\lambda=3.2$. Answer to the following questions using the previous code."
   ]
  },
  {
   "cell_type": "markdown",
   "id": "eb7e11f7",
   "metadata": {},
   "source": [
    "1. Find the Probability that $\\{X=0\\}$, $\\mathbb{P}(X=0)$. "
   ]
  },
  {
   "cell_type": "code",
   "execution_count": 11,
   "id": "63351e40",
   "metadata": {},
   "outputs": [
    {
     "data": {
      "text/plain": [
       "0.04076220397836621"
      ]
     },
     "execution_count": 11,
     "metadata": {},
     "output_type": "execute_result"
    }
   ],
   "source": [
    "X.pmf(0)"
   ]
  },
  {
   "cell_type": "markdown",
   "id": "74e85f2a",
   "metadata": {},
   "source": [
    "2. Compute the probability of $\\{2\\leq X< 6\\}$, $\\mathbb{P}(2\\leq X< 6)$"
   ]
  },
  {
   "cell_type": "code",
   "execution_count": 13,
   "id": "7046ca15",
   "metadata": {},
   "outputs": [
    {
     "data": {
      "text/plain": [
       "0.602519724405557"
      ]
     },
     "execution_count": 13,
     "metadata": {},
     "output_type": "execute_result"
    }
   ],
   "source": [
    "X.pmf(x[0:4]).sum()"
   ]
  },
  {
   "cell_type": "markdown",
   "id": "d2d5ed9f",
   "metadata": {},
   "source": [
    "3. Compute the probability of $\\{X\\geq 7\\}$, $\\mathbb{P}(X\\geq 7)$"
   ]
  },
  {
   "cell_type": "code",
   "execution_count": null,
   "id": "0dca4e50",
   "metadata": {},
   "outputs": [],
   "source": []
  },
  {
   "cell_type": "markdown",
   "id": "6b28a434",
   "metadata": {},
   "source": [
    "4. What's the probability of $\\{X=-3\\}$, $\\mathbb{P}(X=-3)$?"
   ]
  },
  {
   "cell_type": "markdown",
   "id": "f3df8898",
   "metadata": {},
   "source": [
    "5. Compute the following probability: $\\mathbb{P}(-2<X\\leq 3)$. "
   ]
  },
  {
   "cell_type": "markdown",
   "id": "b34c0b5d",
   "metadata": {},
   "source": [
    "## Exercice 6 "
   ]
  },
  {
   "cell_type": "markdown",
   "id": "d99a6470",
   "metadata": {},
   "source": [
    "Complete the following code "
   ]
  },
  {
   "cell_type": "code",
   "execution_count": 159,
   "id": "76f1269f",
   "metadata": {},
   "outputs": [],
   "source": [
    "from scipy import stats"
   ]
  },
  {
   "cell_type": "code",
   "execution_count": 160,
   "id": "b41ed04a",
   "metadata": {},
   "outputs": [],
   "source": [
    "X= stats.bernoulli(.4)"
   ]
  },
  {
   "cell_type": "code",
   "execution_count": 161,
   "id": "e292c3a1",
   "metadata": {},
   "outputs": [
    {
     "data": {
      "text/plain": [
       "0.0"
      ]
     },
     "execution_count": 161,
     "metadata": {},
     "output_type": "execute_result"
    }
   ],
   "source": [
    "X.pmf(-1)"
   ]
  },
  {
   "cell_type": "code",
   "execution_count": 162,
   "id": "1dfc3908",
   "metadata": {},
   "outputs": [
    {
     "data": {
      "text/plain": [
       "0.6"
      ]
     },
     "execution_count": 162,
     "metadata": {},
     "output_type": "execute_result"
    }
   ],
   "source": [
    "X.pmf(0)"
   ]
  },
  {
   "cell_type": "code",
   "execution_count": 163,
   "id": "55b38aa2",
   "metadata": {},
   "outputs": [
    {
     "data": {
      "text/plain": [
       "0.0"
      ]
     },
     "execution_count": 163,
     "metadata": {},
     "output_type": "execute_result"
    }
   ],
   "source": [
    "X.pmf(3)"
   ]
  },
  {
   "cell_type": "code",
   "execution_count": 164,
   "id": "42b1250b",
   "metadata": {},
   "outputs": [
    {
     "data": {
      "text/plain": [
       "0.4"
      ]
     },
     "execution_count": 164,
     "metadata": {},
     "output_type": "execute_result"
    }
   ],
   "source": [
    "X.pmf(1)"
   ]
  },
  {
   "cell_type": "code",
   "execution_count": 165,
   "id": "bbb92742",
   "metadata": {},
   "outputs": [
    {
     "data": {
      "text/plain": [
       "0.4"
      ]
     },
     "execution_count": 165,
     "metadata": {},
     "output_type": "execute_result"
    }
   ],
   "source": [
    "X.mean()"
   ]
  },
  {
   "cell_type": "code",
   "execution_count": 166,
   "id": "c1f1d333",
   "metadata": {},
   "outputs": [
    {
     "data": {
      "text/plain": [
       "0.4898979485566356"
      ]
     },
     "execution_count": 166,
     "metadata": {},
     "output_type": "execute_result"
    }
   ],
   "source": [
    "X.std()"
   ]
  },
  {
   "cell_type": "code",
   "execution_count": 167,
   "id": "cd1edbff",
   "metadata": {},
   "outputs": [
    {
     "data": {
      "text/plain": [
       "0.24"
      ]
     },
     "execution_count": 167,
     "metadata": {},
     "output_type": "execute_result"
    }
   ],
   "source": [
    "X.var()"
   ]
  },
  {
   "cell_type": "code",
   "execution_count": 168,
   "id": "35f48571",
   "metadata": {},
   "outputs": [
    {
     "data": {
      "text/plain": [
       "0.0"
      ]
     },
     "execution_count": 168,
     "metadata": {},
     "output_type": "execute_result"
    }
   ],
   "source": [
    "X.cdf(-1)"
   ]
  },
  {
   "cell_type": "code",
   "execution_count": 169,
   "id": "c6902865",
   "metadata": {},
   "outputs": [
    {
     "data": {
      "text/plain": [
       "1.0"
      ]
     },
     "execution_count": 169,
     "metadata": {},
     "output_type": "execute_result"
    }
   ],
   "source": [
    "X.cdf(1)"
   ]
  },
  {
   "cell_type": "code",
   "execution_count": 170,
   "id": "2f02ebe0",
   "metadata": {},
   "outputs": [
    {
     "data": {
      "text/plain": [
       "0.6"
      ]
     },
     "execution_count": 170,
     "metadata": {},
     "output_type": "execute_result"
    }
   ],
   "source": [
    "X.cdf(.3)"
   ]
  },
  {
   "cell_type": "code",
   "execution_count": 171,
   "id": "18ebd367",
   "metadata": {},
   "outputs": [
    {
     "data": {
      "text/plain": [
       "1.0"
      ]
     },
     "execution_count": 171,
     "metadata": {},
     "output_type": "execute_result"
    }
   ],
   "source": [
    "X.cdf(10.3)"
   ]
  },
  {
   "cell_type": "code",
   "execution_count": 173,
   "id": "d4437113",
   "metadata": {},
   "outputs": [
    {
     "data": {
      "text/plain": [
       "-0.19999999999999996"
      ]
     },
     "execution_count": 173,
     "metadata": {},
     "output_type": "execute_result"
    }
   ],
   "source": [
    "X.pmf(1)-X.pmf(0)"
   ]
  },
  {
   "cell_type": "code",
   "execution_count": null,
   "id": "5963cb9d",
   "metadata": {},
   "outputs": [],
   "source": []
  }
 ],
 "metadata": {
  "kernelspec": {
   "display_name": "Python 3 (ipykernel)",
   "language": "python",
   "name": "python3"
  },
  "language_info": {
   "codemirror_mode": {
    "name": "ipython",
    "version": 3
   },
   "file_extension": ".py",
   "mimetype": "text/x-python",
   "name": "python",
   "nbconvert_exporter": "python",
   "pygments_lexer": "ipython3",
   "version": "3.9.7"
  }
 },
 "nbformat": 4,
 "nbformat_minor": 5
}
