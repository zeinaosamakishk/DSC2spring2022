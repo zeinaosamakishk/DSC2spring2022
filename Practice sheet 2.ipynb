{
 "cells": [
  {
   "cell_type": "markdown",
   "id": "57c4b15f",
   "metadata": {
    "toc": true
   },
   "source": [
    "<h1>Table of Contents<span class=\"tocSkip\"></span></h1>\n",
    "<div class=\"toc\"><ul class=\"toc-item\"><li><span><a href=\"#Exercice-1\" data-toc-modified-id=\"Exercice-1-1\">Exercice 1</a></span></li><li><span><a href=\"#Exercise-2\" data-toc-modified-id=\"Exercise-2-2\">Exercise 2</a></span></li><li><span><a href=\"#Exercise-3\" data-toc-modified-id=\"Exercise-3-3\">Exercise 3</a></span></li><li><span><a href=\"#Exercise-4\" data-toc-modified-id=\"Exercise-4-4\">Exercise 4</a></span></li></ul></div>"
   ]
  },
  {
   "cell_type": "markdown",
   "id": "30613689",
   "metadata": {},
   "source": [
    "# Practice Sheet: Probability distributions"
   ]
  },
  {
   "cell_type": "markdown",
   "id": "81d93349",
   "metadata": {},
   "source": [
    "## Exercice 1"
   ]
  },
  {
   "cell_type": "markdown",
   "id": "a60475b3",
   "metadata": {},
   "source": [
    "A random variable $X$ is with Binomial distribution with parameters $n\\in \\mathbb{N}^*$ (size) and $p\\in [0,1]$ (probability) if the outcomes of $X$ are in the set $\\{1,2,\\ldots,n\\}$ and for any $i\\in \\{1,2,\\ldots,n\\}$:\n",
    "\n",
    "$$\\mathbb{P}(X=1)=\\displaystyle {n \\choose k} p^k (1-p)^{n-k}=\\displaystyle\\frac{n!}{k!(n-k)!}p^k (1-p)^{n-k}$$"
   ]
  },
  {
   "cell_type": "markdown",
   "id": "9e41b194",
   "metadata": {},
   "source": [
    "For example, we flip a coin $n=10$ times, and $X$ can be the number of Head outcomes. If $p$ is the probability of observing Head, then $1-p$ is observing a Tail, $X$ is a random variable with Binomial distribution with parameter size $n=10$, and probability $p$. "
   ]
  },
  {
   "cell_type": "markdown",
   "id": "888cdb74",
   "metadata": {},
   "source": [
    " `stats.binom()`, from `scipy` library, is the Python command that can define a Binomial random variable. It has two arguments: the size $n$ and the probability $p$. For example,  `stats.binom(10,.4)` means that we have defined a Binomial random variable with $n=10$ and $p=.4$.  "
   ]
  },
  {
   "cell_type": "markdown",
   "id": "07d758de",
   "metadata": {},
   "source": [
    "Let's consider the following Python code "
   ]
  },
  {
   "cell_type": "code",
   "execution_count": 1,
   "id": "245624d2",
   "metadata": {},
   "outputs": [],
   "source": [
    "import numpy as np"
   ]
  },
  {
   "cell_type": "code",
   "execution_count": 2,
   "id": "10c21239",
   "metadata": {},
   "outputs": [],
   "source": [
    "from scipy import stats"
   ]
  },
  {
   "cell_type": "code",
   "execution_count": 3,
   "id": "1c5bf6a0",
   "metadata": {},
   "outputs": [],
   "source": [
    "X= stats.binom(15,.6)"
   ]
  },
  {
   "cell_type": "code",
   "execution_count": 4,
   "id": "03c0400e",
   "metadata": {},
   "outputs": [
    {
     "data": {
      "text/plain": [
       "1.073741824000001e-06"
      ]
     },
     "execution_count": 4,
     "metadata": {},
     "output_type": "execute_result"
    }
   ],
   "source": [
    "(.4)**15"
   ]
  },
  {
   "cell_type": "code",
   "execution_count": 5,
   "id": "8f7a8d60",
   "metadata": {},
   "outputs": [
    {
     "data": {
      "text/plain": [
       "0.00025367150592000057"
      ]
     },
     "execution_count": 5,
     "metadata": {},
     "output_type": "execute_result"
    }
   ],
   "source": [
    "X.pmf(2)"
   ]
  },
  {
   "cell_type": "code",
   "execution_count": 6,
   "id": "4c34eec3",
   "metadata": {},
   "outputs": [
    {
     "data": {
      "text/plain": [
       "0.06121410527231985"
      ]
     },
     "execution_count": 6,
     "metadata": {},
     "output_type": "execute_result"
    }
   ],
   "source": [
    "X.pmf(6)"
   ]
  },
  {
   "cell_type": "code",
   "execution_count": 7,
   "id": "4ec07c9a",
   "metadata": {},
   "outputs": [
    {
     "data": {
      "text/plain": [
       "2.415919104000003e-05"
      ]
     },
     "execution_count": 7,
     "metadata": {},
     "output_type": "execute_result"
    }
   ],
   "source": [
    "X.pmf(1)"
   ]
  },
  {
   "cell_type": "code",
   "execution_count": 8,
   "id": "c51e71db",
   "metadata": {},
   "outputs": [
    {
     "data": {
      "text/plain": [
       "0.0016488647884800034"
      ]
     },
     "execution_count": 8,
     "metadata": {},
     "output_type": "execute_result"
    }
   ],
   "source": [
    "X.pmf(3)"
   ]
  },
  {
   "cell_type": "code",
   "execution_count": 9,
   "id": "b431a868",
   "metadata": {},
   "outputs": [
    {
     "data": {
      "text/plain": [
       "0.03383330288435202"
      ]
     },
     "execution_count": 9,
     "metadata": {},
     "output_type": "execute_result"
    }
   ],
   "source": [
    "X.cdf(5)"
   ]
  },
  {
   "cell_type": "markdown",
   "id": "734ef6ad",
   "metadata": {},
   "source": [
    "1. Compute the following probabilities by using the previous code:\n",
    "\n",
    "     1. $\\mathbb{P}(X\\leq 2)$?\n",
    "     2. $\\mathbb{P}(X>6)$?\n",
    "     3. $\\mathbb{P}(X=4)$?\n",
    "\n",
    "2. A multiple-choice test has 15 questions, each of which has five choices. An unprepared student taking the test answers each of the questions completely randomly by choosing an arbitrary answer from the five provided. Suppose X denotes the number of answers that the student gets right. Compute using a Python code the following probabilities:  \n",
    "  1. All the students' answers are wrong.\n",
    "  2. All the students' answers are correct.\n",
    "  3. At least the student answers correctly to 7 questions. \n",
    "  \n",
    "3. We consider two grading systems: \n",
    "\n",
    "+ System A, the student gets +2 for each correct answer and 0 for each wrong answer.\n",
    "+ System B, the student receives +2 for each correct answer and -1 for each wrong answer.\n",
    "\n",
    "Compare the probability of getting at least 15 between the grading systems? What's your conclusion? "
   ]
  },
  {
   "cell_type": "markdown",
   "id": "e8ff3889",
   "metadata": {},
   "source": [
    "## Exercise 2"
   ]
  },
  {
   "cell_type": "markdown",
   "id": "3b760b1d",
   "metadata": {},
   "source": [
    "Let's consider the random variable  $X$ that represents the rank of the occurrence of the first success. If the trials are independent and the probability of success on each trial is $p$, the probability distribution of $X$ is called then the **geometric** distribution."
   ]
  },
  {
   "cell_type": "markdown",
   "id": "fd141474",
   "metadata": {},
   "source": [
    "the probability that the $k$th trial (out of $k$ trials) is the first success i\n",
    "\n",
    "$$\\mathbb{P}(X=k)=(1-p)^{k-1}p,\\;\\; \\mbox{ for all }k\\in \\mathbb{N}^*$$"
   ]
  },
  {
   "cell_type": "markdown",
   "id": "4dbe961d",
   "metadata": {},
   "source": [
    "It's known that "
   ]
  },
  {
   "cell_type": "markdown",
   "id": "7820854b",
   "metadata": {},
   "source": [
    "$$\\mathbb{E}(X)=\\displaystyle\\frac{1}{p},\\;\\; \\mathbb{P}(X\\geq k)=(1-p)^{k-1}$$"
   ]
  },
  {
   "cell_type": "markdown",
   "id": "ba8dd793",
   "metadata": {},
   "source": [
    "1.Complete the following Python code: "
   ]
  },
  {
   "cell_type": "code",
   "execution_count": 10,
   "id": "a6d14446",
   "metadata": {},
   "outputs": [],
   "source": [
    "import numpy as np\n",
    "from scipy import stats"
   ]
  },
  {
   "cell_type": "code",
   "execution_count": 11,
   "id": "af38e8ef",
   "metadata": {},
   "outputs": [],
   "source": [
    "X= stats.geom(.6)"
   ]
  },
  {
   "cell_type": "code",
   "execution_count": 12,
   "id": "62ea8209",
   "metadata": {},
   "outputs": [
    {
     "data": {
      "text/plain": [
       "0.09600000000000002"
      ]
     },
     "execution_count": 12,
     "metadata": {},
     "output_type": "execute_result"
    }
   ],
   "source": [
    "X.pmf(3)"
   ]
  },
  {
   "cell_type": "code",
   "execution_count": 13,
   "id": "f0e01baa",
   "metadata": {},
   "outputs": [
    {
     "data": {
      "text/plain": [
       "0.9744"
      ]
     },
     "execution_count": 13,
     "metadata": {},
     "output_type": "execute_result"
    }
   ],
   "source": [
    "X.cdf(4)"
   ]
  },
  {
   "cell_type": "code",
   "execution_count": 14,
   "id": "dc6c0377",
   "metadata": {},
   "outputs": [
    {
     "data": {
      "text/plain": [
       "0.24"
      ]
     },
     "execution_count": 14,
     "metadata": {},
     "output_type": "execute_result"
    }
   ],
   "source": [
    "X.pmf(2)"
   ]
  },
  {
   "cell_type": "code",
   "execution_count": 15,
   "id": "1eab5b30",
   "metadata": {},
   "outputs": [
    {
     "data": {
      "text/plain": [
       "1.6666666666666667"
      ]
     },
     "execution_count": 15,
     "metadata": {},
     "output_type": "execute_result"
    }
   ],
   "source": [
    "X.mean()"
   ]
  },
  {
   "cell_type": "code",
   "execution_count": 16,
   "id": "a31d8255",
   "metadata": {},
   "outputs": [
    {
     "data": {
      "text/plain": [
       "0.0"
      ]
     },
     "execution_count": 16,
     "metadata": {},
     "output_type": "execute_result"
    }
   ],
   "source": [
    "X.cdf(0)"
   ]
  },
  {
   "cell_type": "code",
   "execution_count": 17,
   "id": "8ad4a7dd",
   "metadata": {},
   "outputs": [
    {
     "data": {
      "text/plain": [
       "0.0"
      ]
     },
     "execution_count": 17,
     "metadata": {},
     "output_type": "execute_result"
    }
   ],
   "source": [
    "X.pmf(-1)"
   ]
  },
  {
   "cell_type": "markdown",
   "id": "9575c5b3",
   "metadata": {},
   "source": [
    "2. You play a game of chance that you can either win or lose (there are no other possibilities) until you lose. Your probability of losing is p=0.57. \n",
    "\n",
    "    1. What is the probability that it takes five games until you lose?\n",
    "    2. What is the probability that it takes at least three games until you lose?"
   ]
  },
  {
   "cell_type": "markdown",
   "id": "c2791658",
   "metadata": {},
   "source": [
    "## Exercise 3"
   ]
  },
  {
   "cell_type": "markdown",
   "id": "69d1278c",
   "metadata": {},
   "source": [
    "Complete the following the  Python code "
   ]
  },
  {
   "cell_type": "code",
   "execution_count": 18,
   "id": "f044bdab",
   "metadata": {},
   "outputs": [],
   "source": [
    "import math\n",
    "from scipy import stats"
   ]
  },
  {
   "cell_type": "code",
   "execution_count": 19,
   "id": "75acd3ad",
   "metadata": {},
   "outputs": [],
   "source": [
    "X= stats.norm(1.4,2) "
   ]
  },
  {
   "cell_type": "code",
   "execution_count": 20,
   "id": "4a9c5fd0",
   "metadata": {},
   "outputs": [
    {
     "data": {
      "text/plain": [
       "1.4"
      ]
     },
     "execution_count": 20,
     "metadata": {},
     "output_type": "execute_result"
    }
   ],
   "source": [
    "X.mean()"
   ]
  },
  {
   "cell_type": "code",
   "execution_count": 21,
   "id": "d9927479",
   "metadata": {},
   "outputs": [
    {
     "data": {
      "text/plain": [
       "4.0"
      ]
     },
     "execution_count": 21,
     "metadata": {},
     "output_type": "execute_result"
    }
   ],
   "source": [
    "X.var()"
   ]
  },
  {
   "cell_type": "code",
   "execution_count": 22,
   "id": "354ea240",
   "metadata": {},
   "outputs": [
    {
     "data": {
      "text/plain": [
       "0.5"
      ]
     },
     "execution_count": 22,
     "metadata": {},
     "output_type": "execute_result"
    }
   ],
   "source": [
    "X.cdf(1.4)"
   ]
  },
  {
   "cell_type": "code",
   "execution_count": 23,
   "id": "4bacdb3d",
   "metadata": {},
   "outputs": [
    {
     "data": {
      "text/plain": [
       "0.24196365222307303"
      ]
     },
     "execution_count": 23,
     "metadata": {},
     "output_type": "execute_result"
    }
   ],
   "source": [
    "X.cdf(0)"
   ]
  },
  {
   "cell_type": "code",
   "execution_count": 24,
   "id": "2261f11e",
   "metadata": {},
   "outputs": [
    {
     "data": {
      "text/plain": [
       "0.19947114020071635"
      ]
     },
     "execution_count": 24,
     "metadata": {},
     "output_type": "execute_result"
    }
   ],
   "source": [
    "1/math.sqrt(2*math.pi*4)"
   ]
  },
  {
   "cell_type": "code",
   "execution_count": 25,
   "id": "884aee45",
   "metadata": {},
   "outputs": [
    {
     "data": {
      "text/plain": [
       "0.19947114020071635"
      ]
     },
     "execution_count": 25,
     "metadata": {},
     "output_type": "execute_result"
    }
   ],
   "source": [
    "X.pdf(1.4)"
   ]
  },
  {
   "cell_type": "markdown",
   "id": "0ab9e708",
   "metadata": {},
   "source": [
    "## Exercise 4"
   ]
  },
  {
   "cell_type": "markdown",
   "id": "06c425d3",
   "metadata": {},
   "source": [
    "Let's consider the following Python "
   ]
  },
  {
   "cell_type": "code",
   "execution_count": 26,
   "id": "28db7c0f",
   "metadata": {},
   "outputs": [],
   "source": [
    "import math\n",
    "from scipy import stats"
   ]
  },
  {
   "cell_type": "code",
   "execution_count": 27,
   "id": "4f32ed91",
   "metadata": {},
   "outputs": [],
   "source": [
    "X = stats.norm(3,2)"
   ]
  },
  {
   "cell_type": "code",
   "execution_count": 28,
   "id": "95717092",
   "metadata": {},
   "outputs": [
    {
     "data": {
      "text/plain": [
       "0.06680720126885807"
      ]
     },
     "execution_count": 28,
     "metadata": {},
     "output_type": "execute_result"
    }
   ],
   "source": [
    "X.cdf(0)"
   ]
  },
  {
   "cell_type": "code",
   "execution_count": 29,
   "id": "b7774aa3",
   "metadata": {},
   "outputs": [
    {
     "data": {
      "text/plain": [
       "0.6914624612740131"
      ]
     },
     "execution_count": 29,
     "metadata": {},
     "output_type": "execute_result"
    }
   ],
   "source": [
    "X.cdf(4)"
   ]
  },
  {
   "cell_type": "code",
   "execution_count": 30,
   "id": "df9bf3d3",
   "metadata": {},
   "outputs": [
    {
     "data": {
      "text/plain": [
       "0.006209665325776132"
      ]
     },
     "execution_count": 30,
     "metadata": {},
     "output_type": "execute_result"
    }
   ],
   "source": [
    "X.cdf(-2)"
   ]
  },
  {
   "cell_type": "markdown",
   "id": "537cde9d",
   "metadata": {},
   "source": [
    "1. What's the probability distribution of the random variables introduced in the code above?\n",
    "1. What's $\\mathbb{E}(X)$ and $\\mathbb{E}(X^2)$?\n",
    "3. Compute the probability $\\mathbb{P}(0\\leq X\\leq 4)$.\n",
    "4. Compute the probability $\\mathbb{P}(|X|<2)$\n",
    "5. COmpute the probability $\\mathbb{P}(X<-4)$"
   ]
  },
  {
   "cell_type": "code",
   "execution_count": null,
   "id": "99880033",
   "metadata": {},
   "outputs": [],
   "source": []
  },
  {
   "cell_type": "code",
   "execution_count": null,
   "id": "ac84e559",
   "metadata": {},
   "outputs": [],
   "source": []
  },
  {
   "cell_type": "code",
   "execution_count": null,
   "id": "26e3bea8",
   "metadata": {},
   "outputs": [],
   "source": []
  }
 ],
 "metadata": {
  "kernelspec": {
   "display_name": "Python 3 (ipykernel)",
   "language": "python",
   "name": "python3"
  },
  "language_info": {
   "codemirror_mode": {
    "name": "ipython",
    "version": 3
   },
   "file_extension": ".py",
   "mimetype": "text/x-python",
   "name": "python",
   "nbconvert_exporter": "python",
   "pygments_lexer": "ipython3",
   "version": "3.9.7"
  },
  "latex_envs": {
   "LaTeX_envs_menu_present": true,
   "autoclose": false,
   "autocomplete": true,
   "bibliofile": "biblio.bib",
   "cite_by": "apalike",
   "current_citInitial": 1,
   "eqLabelWithNumbers": true,
   "eqNumInitial": 1,
   "hotkeys": {
    "equation": "Ctrl-E",
    "itemize": "Ctrl-I"
   },
   "labels_anchors": false,
   "latex_user_defs": false,
   "report_style_numbering": false,
   "user_envs_cfg": false
  },
  "toc": {
   "base_numbering": 1,
   "nav_menu": {},
   "number_sections": false,
   "sideBar": true,
   "skip_h1_title": true,
   "title_cell": "Table of Contents",
   "title_sidebar": "Contents",
   "toc_cell": true,
   "toc_position": {
    "height": "calc(100% - 180px)",
    "left": "10px",
    "top": "150px",
    "width": "250.433px"
   },
   "toc_section_display": true,
   "toc_window_display": true
  }
 },
 "nbformat": 4,
 "nbformat_minor": 5
}
