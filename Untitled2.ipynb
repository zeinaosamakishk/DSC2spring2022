{
 "cells": [
  {
   "cell_type": "markdown",
   "id": "f7a646f1",
   "metadata": {
    "toc": true
   },
   "source": [
    "<h1>Table of Contents<span class=\"tocSkip\"></span></h1>\n",
    "<div class=\"toc\"><ul class=\"toc-item\"></ul></div>"
   ]
  },
  {
   "cell_type": "code",
   "execution_count": 2,
   "id": "d966491d",
   "metadata": {},
   "outputs": [],
   "source": [
    "from scipy import stats"
   ]
  },
  {
   "cell_type": "code",
   "execution_count": 5,
   "id": "30b696de",
   "metadata": {},
   "outputs": [],
   "source": [
    "X = stats.norm(15,.2)"
   ]
  },
  {
   "cell_type": "code",
   "execution_count": 6,
   "id": "769a4e2d",
   "metadata": {},
   "outputs": [
    {
     "data": {
      "text/plain": [
       "0.004239749709823992"
      ]
     },
     "execution_count": 6,
     "metadata": {},
     "output_type": "execute_result"
    }
   ],
   "source": [
    "1-X.cdf(7)"
   ]
  },
  {
   "cell_type": "code",
   "execution_count": 7,
   "id": "6660fac6",
   "metadata": {},
   "outputs": [
    {
     "data": {
      "text/plain": [
       "0.00011322566246396715"
      ]
     },
     "execution_count": 7,
     "metadata": {},
     "output_type": "execute_result"
    }
   ],
   "source": [
    "1-X.cdf(9)"
   ]
  },
  {
   "cell_type": "code",
   "execution_count": 8,
   "id": "9a8aa541",
   "metadata": {},
   "outputs": [
    {
     "data": {
      "text/plain": [
       "37.445130525716706"
      ]
     },
     "execution_count": 8,
     "metadata": {},
     "output_type": "execute_result"
    }
   ],
   "source": [
    "(1-X.cdf(7))/(1-X.cdf(9))"
   ]
  },
  {
   "cell_type": "code",
   "execution_count": 9,
   "id": "afc1a70f",
   "metadata": {},
   "outputs": [
    {
     "data": {
      "text/plain": [
       "0.5999999880000002"
      ]
     },
     "execution_count": 9,
     "metadata": {},
     "output_type": "execute_result"
    }
   ],
   "source": [
    "1/1.6666667"
   ]
  },
  {
   "cell_type": "code",
   "execution_count": 12,
   "id": "23fc1499",
   "metadata": {},
   "outputs": [],
   "source": [
    "X= stats.geom(.57)"
   ]
  },
  {
   "cell_type": "code",
   "execution_count": 13,
   "id": "eda169db",
   "metadata": {},
   "outputs": [
    {
     "data": {
      "text/plain": [
       "0.01948716570000001"
      ]
     },
     "execution_count": 13,
     "metadata": {},
     "output_type": "execute_result"
    }
   ],
   "source": [
    "X.pmf(5)"
   ]
  },
  {
   "cell_type": "code",
   "execution_count": 28,
   "id": "512601c7",
   "metadata": {},
   "outputs": [],
   "source": [
    "import math\n",
    "from scipy import stats"
   ]
  },
  {
   "cell_type": "code",
   "execution_count": 29,
   "id": "71fda13b",
   "metadata": {},
   "outputs": [],
   "source": [
    "X = stats.norm(3,2)"
   ]
  },
  {
   "cell_type": "code",
   "execution_count": 30,
   "id": "3dc7f5ab",
   "metadata": {},
   "outputs": [
    {
     "data": {
      "text/plain": [
       "0.3023278734002107"
      ]
     },
     "execution_count": 30,
     "metadata": {},
     "output_type": "execute_result"
    }
   ],
   "source": [
    "X.cdf(2)-X.cdf(-2)"
   ]
  },
  {
   "cell_type": "code",
   "execution_count": 31,
   "id": "7560c9fc",
   "metadata": {},
   "outputs": [
    {
     "data": {
      "text/plain": [
       "0.00023262907903552502"
      ]
     },
     "execution_count": 31,
     "metadata": {},
     "output_type": "execute_result"
    }
   ],
   "source": [
    "X.cdf(-4)"
   ]
  },
  {
   "cell_type": "code",
   "execution_count": 32,
   "id": "4048c69d",
   "metadata": {},
   "outputs": [],
   "source": [
    "import numpy as np"
   ]
  },
  {
   "cell_type": "code",
   "execution_count": 94,
   "id": "f12fbc40",
   "metadata": {},
   "outputs": [],
   "source": [
    "data  = np.random.normal(size=10000,loc=5,scale=np.sqrt(10))"
   ]
  },
  {
   "cell_type": "code",
   "execution_count": 95,
   "id": "1c6a3515",
   "metadata": {},
   "outputs": [],
   "source": [
    "x=np.sort(data)"
   ]
  },
  {
   "cell_type": "code",
   "execution_count": 96,
   "id": "b75fb7fc",
   "metadata": {},
   "outputs": [
    {
     "data": {
      "text/plain": [
       "-8.22989240145832"
      ]
     },
     "execution_count": 96,
     "metadata": {},
     "output_type": "execute_result"
    }
   ],
   "source": [
    "x.min()"
   ]
  },
  {
   "cell_type": "code",
   "execution_count": 97,
   "id": "8a5aacdf",
   "metadata": {},
   "outputs": [
    {
     "data": {
      "text/plain": [
       "16.974333822952033"
      ]
     },
     "execution_count": 97,
     "metadata": {},
     "output_type": "execute_result"
    }
   ],
   "source": [
    "x.max()"
   ]
  },
  {
   "cell_type": "code",
   "execution_count": 98,
   "id": "c5aa9ad4",
   "metadata": {},
   "outputs": [],
   "source": [
    "import scipy"
   ]
  },
  {
   "cell_type": "code",
   "execution_count": 99,
   "id": "13a6b633",
   "metadata": {},
   "outputs": [],
   "source": [
    "import math"
   ]
  },
  {
   "cell_type": "code",
   "execution_count": 100,
   "id": "a2aba849",
   "metadata": {},
   "outputs": [],
   "source": [
    "y = scipy.stats.norm.pdf(x,5,np.sqrt(10))"
   ]
  },
  {
   "cell_type": "code",
   "execution_count": 101,
   "id": "f959b609",
   "metadata": {},
   "outputs": [
    {
     "data": {
      "text/plain": [
       "array([1.99609294e-05, 9.03050454e-05, 1.13993588e-04, 2.16686991e-04,\n",
       "       2.79723216e-04, 4.20709136e-04, 4.72303396e-04, 4.74362959e-04,\n",
       "       5.10253242e-04])"
      ]
     },
     "execution_count": 101,
     "metadata": {},
     "output_type": "execute_result"
    }
   ],
   "source": [
    "y[0:9]"
   ]
  },
  {
   "cell_type": "code",
   "execution_count": 102,
   "id": "b05df4dd",
   "metadata": {},
   "outputs": [],
   "source": [
    "import matplotlib.pyplot as plt"
   ]
  },
  {
   "cell_type": "code",
   "execution_count": 103,
   "id": "7eaec57d",
   "metadata": {},
   "outputs": [
    {
     "data": {
      "text/plain": [
       "Text(0, 0.5, 'pdf of X')"
      ]
     },
     "execution_count": 103,
     "metadata": {},
     "output_type": "execute_result"
    },
    {
     "data": {
      "image/png": "[encoded data removed]",
      "text/plain": [
       "<Figure size 432x288 with 1 Axes>"
      ]
     },
     "metadata": {
      "needs_background": "light"
     },
     "output_type": "display_data"
    }
   ],
   "source": [
    "plt.step(x, y)\n",
    "plt.xlabel('x')\n",
    "plt.ylabel('pdf of X')"
   ]
  },
  {
   "cell_type": "code",
   "execution_count": 104,
   "id": "1d458057",
   "metadata": {},
   "outputs": [],
   "source": [
    "data  = np.random.normal(size=10000,loc=0,scale=np.sqrt(10))"
   ]
  },
  {
   "cell_type": "code",
   "execution_count": 105,
   "id": "d0333566",
   "metadata": {},
   "outputs": [],
   "source": [
    "x=np.sort(data)"
   ]
  },
  {
   "cell_type": "code",
   "execution_count": 106,
   "id": "c6a22dee",
   "metadata": {},
   "outputs": [
    {
     "data": {
      "text/plain": [
       "-12.016645212360961"
      ]
     },
     "execution_count": 106,
     "metadata": {},
     "output_type": "execute_result"
    }
   ],
   "source": [
    "x.min()"
   ]
  },
  {
   "cell_type": "code",
   "execution_count": 107,
   "id": "18f7c4c1",
   "metadata": {},
   "outputs": [
    {
     "data": {
      "text/plain": [
       "11.505658813057895"
      ]
     },
     "execution_count": 107,
     "metadata": {},
     "output_type": "execute_result"
    }
   ],
   "source": [
    "x.max()"
   ]
  },
  {
   "cell_type": "code",
   "execution_count": 110,
   "id": "80f8ba2d",
   "metadata": {},
   "outputs": [],
   "source": [
    "y = scipy.stats.expon.pdf(x,scale=1.2)"
   ]
  },
  {
   "cell_type": "code",
   "execution_count": 111,
   "id": "cae1e911",
   "metadata": {},
   "outputs": [
    {
     "data": {
      "text/plain": [
       "array([0., 0., 0., 0., 0., 0., 0., 0., 0.])"
      ]
     },
     "execution_count": 111,
     "metadata": {},
     "output_type": "execute_result"
    }
   ],
   "source": [
    "y[0:9]"
   ]
  },
  {
   "cell_type": "code",
   "execution_count": 112,
   "id": "aea9c07c",
   "metadata": {},
   "outputs": [
    {
     "data": {
      "text/plain": [
       "Text(0, 0.5, 'pdf of X')"
      ]
     },
     "execution_count": 112,
     "metadata": {},
     "output_type": "execute_result"
    },
    {
     "data": {
      "image/png": "[encoded data removed]",
      "text/plain": [
       "<Figure size 432x288 with 1 Axes>"
      ]
     },
     "metadata": {
      "needs_background": "light"
     },
     "output_type": "display_data"
    }
   ],
   "source": [
    "plt.step(x, y)\n",
    "plt.xlabel('x')\n",
    "plt.ylabel('pdf of X')"
   ]
  },
  {
   "cell_type": "code",
   "execution_count": 114,
   "id": "11da302a",
   "metadata": {},
   "outputs": [
    {
     "data": {
      "text/plain": [
       "0.8333333333333334"
      ]
     },
     "execution_count": 114,
     "metadata": {},
     "output_type": "execute_result"
    }
   ],
   "source": [
    "1/1.2"
   ]
  },
  {
   "cell_type": "code",
   "execution_count": null,
   "id": "0e247e4d",
   "metadata": {},
   "outputs": [],
   "source": []
  }
 ],
 "metadata": {
  "kernelspec": {
   "display_name": "Python 3 (ipykernel)",
   "language": "python",
   "name": "python3"
  },
  "language_info": {
   "codemirror_mode": {
    "name": "ipython",
    "version": 3
   },
   "file_extension": ".py",
   "mimetype": "text/x-python",
   "name": "python",
   "nbconvert_exporter": "python",
   "pygments_lexer": "ipython3",
   "version": "3.9.7"
  },
  "latex_envs": {
   "LaTeX_envs_menu_present": true,
   "autoclose": false,
   "autocomplete": true,
   "bibliofile": "biblio.bib",
   "cite_by": "apalike",
   "current_citInitial": 1,
   "eqLabelWithNumbers": true,
   "eqNumInitial": 1,
   "hotkeys": {
    "equation": "Ctrl-E",
    "itemize": "Ctrl-I"
   },
   "labels_anchors": false,
   "latex_user_defs": false,
   "report_style_numbering": false,
   "user_envs_cfg": false
  },
  "toc": {
   "base_numbering": 1,
   "nav_menu": {},
   "number_sections": true,
   "sideBar": true,
   "skip_h1_title": true,
   "title_cell": "Table of Contents",
   "title_sidebar": "Contents",
   "toc_cell": true,
   "toc_position": {},
   "toc_section_display": true,
   "toc_window_display": true
  }
 },
 "nbformat": 4,
 "nbformat_minor": 5
}
