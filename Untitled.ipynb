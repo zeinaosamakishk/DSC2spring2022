{
 "cells": [
  {
   "cell_type": "markdown",
   "id": "b67f58b7",
   "metadata": {
    "toc": true
   },
   "source": [
    "<h1>Table of Contents<span class=\"tocSkip\"></span></h1>\n",
    "<div class=\"toc\"><ul class=\"toc-item\"></ul></div>"
   ]
  },
  {
   "cell_type": "code",
   "execution_count": 1,
   "id": "e081a89b",
   "metadata": {},
   "outputs": [],
   "source": [
    "from scipy import stats"
   ]
  },
  {
   "cell_type": "code",
   "execution_count": 2,
   "id": "9d1e2478",
   "metadata": {},
   "outputs": [],
   "source": [
    "X = stats.bernoulli(.4)"
   ]
  },
  {
   "cell_type": "code",
   "execution_count": 3,
   "id": "3217a120",
   "metadata": {},
   "outputs": [
    {
     "data": {
      "text/plain": [
       "array([1, 0, 0, 0, 0, 0, 1, 1, 1, 0])"
      ]
     },
     "execution_count": 3,
     "metadata": {},
     "output_type": "execute_result"
    }
   ],
   "source": [
    "X.rvs(10)"
   ]
  },
  {
   "cell_type": "code",
   "execution_count": 5,
   "id": "15c5ed33",
   "metadata": {},
   "outputs": [],
   "source": [
    "X = stats.geom(0.4)"
   ]
  },
  {
   "cell_type": "code",
   "execution_count": 6,
   "id": "99a8b98d",
   "metadata": {},
   "outputs": [
    {
     "data": {
      "text/plain": [
       "array([2, 1, 5, 1, 3, 3, 1, 2, 3, 2])"
      ]
     },
     "execution_count": 6,
     "metadata": {},
     "output_type": "execute_result"
    }
   ],
   "source": [
    "X.rvs(10)"
   ]
  },
  {
   "cell_type": "code",
   "execution_count": 7,
   "id": "970212be",
   "metadata": {},
   "outputs": [],
   "source": [
    "X = stats.poisson(1.4)"
   ]
  },
  {
   "cell_type": "code",
   "execution_count": 8,
   "id": "c143b028",
   "metadata": {},
   "outputs": [
    {
     "data": {
      "text/plain": [
       "array([2, 0, 0, 0, 1, 1, 2, 0, 1, 2])"
      ]
     },
     "execution_count": 8,
     "metadata": {},
     "output_type": "execute_result"
    }
   ],
   "source": [
    "X.rvs(10)"
   ]
  },
  {
   "cell_type": "code",
   "execution_count": 11,
   "id": "808ce501",
   "metadata": {},
   "outputs": [],
   "source": [
    "X =stats.norm(1.2,1)"
   ]
  },
  {
   "cell_type": "code",
   "execution_count": 12,
   "id": "e9066a17",
   "metadata": {},
   "outputs": [
    {
     "data": {
      "text/plain": [
       "array([ 1.93337145,  3.20951952, -0.21747498,  1.41809782,  0.53023997,\n",
       "        1.08698643, -0.56955967,  1.94008726,  1.49970233,  1.29707565])"
      ]
     },
     "execution_count": 12,
     "metadata": {},
     "output_type": "execute_result"
    }
   ],
   "source": [
    "X.rvs(10)"
   ]
  },
  {
   "cell_type": "code",
   "execution_count": 15,
   "id": "392e7f2b",
   "metadata": {},
   "outputs": [
    {
     "data": {
      "text/plain": [
       "array([3.19356227, 3.01864119, 2.3998582 , 2.37571827, 3.24278852,\n",
       "       2.7228503 , 4.27331632, 1.50245507, 4.08306946, 2.4279809 ])"
      ]
     },
     "execution_count": 15,
     "metadata": {},
     "output_type": "execute_result"
    }
   ],
   "source": [
    "X.rvs(10)"
   ]
  },
  {
   "cell_type": "code",
   "execution_count": 14,
   "id": "7faf1e02",
   "metadata": {},
   "outputs": [],
   "source": [
    "X =stats.norm(3.2,1)"
   ]
  },
  {
   "cell_type": "code",
   "execution_count": null,
   "id": "1b10fada",
   "metadata": {},
   "outputs": [],
   "source": []
  }
 ],
 "metadata": {
  "kernelspec": {
   "display_name": "Python 3 (ipykernel)",
   "language": "python",
   "name": "python3"
  },
  "language_info": {
   "codemirror_mode": {
    "name": "ipython",
    "version": 3
   },
   "file_extension": ".py",
   "mimetype": "text/x-python",
   "name": "python",
   "nbconvert_exporter": "python",
   "pygments_lexer": "ipython3",
   "version": "3.9.7"
  },
  "latex_envs": {
   "LaTeX_envs_menu_present": true,
   "autoclose": false,
   "autocomplete": true,
   "bibliofile": "biblio.bib",
   "cite_by": "apalike",
   "current_citInitial": 1,
   "eqLabelWithNumbers": true,
   "eqNumInitial": 1,
   "hotkeys": {
    "equation": "Ctrl-E",
    "itemize": "Ctrl-I"
   },
   "labels_anchors": false,
   "latex_user_defs": false,
   "report_style_numbering": false,
   "user_envs_cfg": false
  },
  "toc": {
   "base_numbering": 1,
   "nav_menu": {},
   "number_sections": true,
   "sideBar": true,
   "skip_h1_title": true,
   "title_cell": "Table of Contents",
   "title_sidebar": "Contents",
   "toc_cell": true,
   "toc_position": {},
   "toc_section_display": true,
   "toc_window_display": true
  }
 },
 "nbformat": 4,
 "nbformat_minor": 5
}
